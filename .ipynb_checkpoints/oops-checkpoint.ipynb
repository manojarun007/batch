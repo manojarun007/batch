{
 "cells": [
  {
   "cell_type": "code",
   "execution_count": 1,
   "metadata": {},
   "outputs": [
    {
     "name": "stdout",
     "output_type": "stream",
     "text": [
      "this is class\n"
     ]
    }
   ],
   "source": [
    "def fun():\n",
    "    print \"this is fun\"\n",
    "class Emp:\n",
    "    print \"this is class\""
   ]
  },
  {
   "cell_type": "code",
   "execution_count": 3,
   "metadata": {
    "collapsed": true
   },
   "outputs": [],
   "source": [
    "def fun():\n",
    "    a=10\n",
    "    b=20\n",
    "class Emp:\n",
    "    a1=1000\n",
    "    b1=2000\n",
    "    "
   ]
  },
  {
   "cell_type": "code",
   "execution_count": 4,
   "metadata": {},
   "outputs": [
    {
     "name": "stdout",
     "output_type": "stream",
     "text": [
      "How many references are then in the stack now?\n",
      "ans:\n",
      "End\n"
     ]
    }
   ],
   "source": [
    "def fun():\n",
    "    a=10\n",
    "    b=20\n",
    "class Emp:\n",
    "    a1=1000\n",
    "    b1=2000\n",
    "fun()\n",
    "print \"How many references are then in the stack now?\"\n",
    "print \"ans:\"\n",
    "print \"End\""
   ]
  },
  {
   "cell_type": "code",
   "execution_count": 5,
   "metadata": {},
   "outputs": [
    {
     "name": "stdout",
     "output_type": "stream",
     "text": [
      "anil\n",
      "23\n"
     ]
    }
   ],
   "source": [
    "class Emp:\n",
    "    name=\"anil\"\n",
    "    age=23\n",
    "    print name\n",
    "    print age"
   ]
  },
  {
   "cell_type": "code",
   "execution_count": 6,
   "metadata": {},
   "outputs": [
    {
     "name": "stdout",
     "output_type": "stream",
     "text": [
      "anil\n",
      "23\n"
     ]
    }
   ],
   "source": [
    "class Emp:\n",
    "    name=\"anil\"\n",
    "    age=23\n",
    "print Emp.name\n",
    "print Emp.age"
   ]
  },
  {
   "cell_type": "code",
   "execution_count": 7,
   "metadata": {},
   "outputs": [
    {
     "name": "stdout",
     "output_type": "stream",
     "text": [
      "name= Ajay\n",
      "Emp.name= anil\n"
     ]
    }
   ],
   "source": [
    "name=\"Ajay\"\n",
    "class Emp:\n",
    "    name=\"anil\"\n",
    "print \"name=\",name\n",
    "print \"Emp.name=\",Emp.name"
   ]
  },
  {
   "cell_type": "code",
   "execution_count": 8,
   "metadata": {},
   "outputs": [
    {
     "name": "stdout",
     "output_type": "stream",
     "text": [
      "anil\n",
      "apple\n"
     ]
    }
   ],
   "source": [
    "class Emp:\n",
    "    name=\"anil\"\n",
    "class Product:\n",
    "    name=\"apple\"\n",
    "print Emp.name\n",
    "print Product.name"
   ]
  },
  {
   "cell_type": "code",
   "execution_count": 9,
   "metadata": {},
   "outputs": [
    {
     "name": "stdout",
     "output_type": "stream",
     "text": [
      "anil\n"
     ]
    },
    {
     "ename": "TypeError",
     "evalue": "unbound method empfun() must be called with Emp instance as first argument (got int instance instead)",
     "output_type": "error",
     "traceback": [
      "\u001b[0;31m---------------------------------------------------------------------------\u001b[0m",
      "\u001b[0;31mTypeError\u001b[0m                                 Traceback (most recent call last)",
      "\u001b[0;32m<ipython-input-9-93e66d072450>\u001b[0m in \u001b[0;36m<module>\u001b[0;34m()\u001b[0m\n\u001b[1;32m      4\u001b[0m         \u001b[0;32mprint\u001b[0m \u001b[0ma\u001b[0m\u001b[0;34m,\u001b[0m\u001b[0mb\u001b[0m\u001b[0;34m\u001b[0m\u001b[0m\n\u001b[1;32m      5\u001b[0m \u001b[0;32mprint\u001b[0m \u001b[0mEmp\u001b[0m\u001b[0;34m.\u001b[0m\u001b[0mname\u001b[0m\u001b[0;34m\u001b[0m\u001b[0m\n\u001b[0;32m----> 6\u001b[0;31m \u001b[0mEmp\u001b[0m\u001b[0;34m.\u001b[0m\u001b[0mempfun\u001b[0m\u001b[0;34m(\u001b[0m\u001b[0;36m100\u001b[0m\u001b[0;34m,\u001b[0m\u001b[0;36m200\u001b[0m\u001b[0;34m)\u001b[0m\u001b[0;34m\u001b[0m\u001b[0m\n\u001b[0m",
      "\u001b[0;31mTypeError\u001b[0m: unbound method empfun() must be called with Emp instance as first argument (got int instance instead)"
     ]
    }
   ],
   "source": [
    "class Emp:\n",
    "    name=\"anil\"\n",
    "    def empfun(a,b):\n",
    "        print a,b\n",
    "print Emp.name\n",
    "Emp.empfun(100,200)"
   ]
  },
  {
   "cell_type": "code",
   "execution_count": 10,
   "metadata": {},
   "outputs": [
    {
     "name": "stdout",
     "output_type": "stream",
     "text": [
      "anil\n"
     ]
    },
    {
     "ename": "TypeError",
     "evalue": "unbound method empfun() must be called with Emp instance as first argument (got int instance instead)",
     "output_type": "error",
     "traceback": [
      "\u001b[0;31m---------------------------------------------------------------------------\u001b[0m",
      "\u001b[0;31mTypeError\u001b[0m                                 Traceback (most recent call last)",
      "\u001b[0;32m<ipython-input-10-87b5a6b3d8ec>\u001b[0m in \u001b[0;36m<module>\u001b[0;34m()\u001b[0m\n\u001b[1;32m      5\u001b[0m \u001b[0;32mprint\u001b[0m \u001b[0mEmp\u001b[0m\u001b[0;34m.\u001b[0m\u001b[0mname\u001b[0m\u001b[0;34m\u001b[0m\u001b[0m\n\u001b[1;32m      6\u001b[0m \u001b[0minst1\u001b[0m \u001b[0;34m=\u001b[0m \u001b[0mEmp\u001b[0m\u001b[0;34m(\u001b[0m\u001b[0;34m)\u001b[0m\u001b[0;34m\u001b[0m\u001b[0m\n\u001b[0;32m----> 7\u001b[0;31m \u001b[0mEmp\u001b[0m\u001b[0;34m.\u001b[0m\u001b[0mempfun\u001b[0m\u001b[0;34m(\u001b[0m\u001b[0;36m100\u001b[0m\u001b[0;34m,\u001b[0m\u001b[0;36m200\u001b[0m\u001b[0;34m)\u001b[0m\u001b[0;34m\u001b[0m\u001b[0m\n\u001b[0m",
      "\u001b[0;31mTypeError\u001b[0m: unbound method empfun() must be called with Emp instance as first argument (got int instance instead)"
     ]
    }
   ],
   "source": [
    "class Emp:\n",
    "    name=\"anil\"\n",
    "    def empfun(a,b):\n",
    "        print a,b\n",
    "print Emp.name\n",
    "inst1 = Emp() \n",
    "Emp.empfun(100,200)"
   ]
  },
  {
   "cell_type": "code",
   "execution_count": 13,
   "metadata": {},
   "outputs": [
    {
     "name": "stdout",
     "output_type": "stream",
     "text": [
      "anil\n",
      "a= <__main__.Emp instance at 0x7ffae85dd440>\n",
      "b= 200\n"
     ]
    }
   ],
   "source": [
    "class Emp:\n",
    "    name=\"anil\"\n",
    "    def empfun(a,b):\n",
    "        print \"a=\",a\n",
    "        print \"b=\",b\n",
    "print Emp.name\n",
    "inst1 = Emp() \n",
    "Emp.empfun(inst1,200)"
   ]
  },
  {
   "cell_type": "code",
   "execution_count": 1,
   "metadata": {},
   "outputs": [
    {
     "name": "stdout",
     "output_type": "stream",
     "text": [
      "Happy independance day all of you..\n"
     ]
    }
   ],
   "source": [
    "print \"Happy independance day all of you..\""
   ]
  },
  {
   "cell_type": "code",
   "execution_count": 2,
   "metadata": {},
   "outputs": [
    {
     "name": "stdout",
     "output_type": "stream",
     "text": [
      "anil\n",
      "a= <__main__.Emp instance at 0x7fb558bd23f8>\n",
      "b= 200\n"
     ]
    }
   ],
   "source": [
    "class Emp:\n",
    "    name=\"anil\"\n",
    "    def empfun(a,b):\n",
    "        print \"a=\",a\n",
    "        print \"b=\",b\n",
    "print Emp.name\n",
    "inst1 = Emp() \n",
    "Emp.empfun(inst1,200)"
   ]
  },
  {
   "cell_type": "code",
   "execution_count": 3,
   "metadata": {},
   "outputs": [
    {
     "name": "stdout",
     "output_type": "stream",
     "text": [
      "anil\n",
      "a= <__main__.Emp instance at 0x7fb558bd2680>\n",
      "b= 200\n",
      "anil\n"
     ]
    }
   ],
   "source": [
    "class Emp:\n",
    "    name=\"anil\"\n",
    "    def empfun(a,b):\n",
    "        print \"a=\",a\n",
    "        print \"b=\",b\n",
    "print Emp.name\n",
    "inst1 = Emp() \n",
    "Emp.empfun(inst1,200)\n",
    "print inst1.name"
   ]
  },
  {
   "cell_type": "code",
   "execution_count": 5,
   "metadata": {},
   "outputs": [
    {
     "name": "stdout",
     "output_type": "stream",
     "text": [
      "anil\n",
      "a= <__main__.Emp instance at 0x7fb558bd29e0>\n",
      "b= 200\n",
      "anil\n",
      "a= <__main__.Emp instance at 0x7fb558bd29e0>\n",
      "b= 2000\n"
     ]
    }
   ],
   "source": [
    "class Emp:\n",
    "    name=\"anil\"\n",
    "    def empfun(a,b):\n",
    "        print \"a=\",a\n",
    "        print \"b=\",b\n",
    "print Emp.name\n",
    "inst1 = Emp() \n",
    "Emp.empfun(inst1,200)\n",
    "print inst1.name\n",
    "inst1.empfun(2000)"
   ]
  },
  {
   "cell_type": "code",
   "execution_count": 7,
   "metadata": {},
   "outputs": [
    {
     "name": "stdout",
     "output_type": "stream",
     "text": [
      "<__main__.c1 instance at 0x7fb558bd2dd0>\n",
      "20\n",
      "<__main__.c1 instance at 0x7fb558bd2dd0>\n",
      "2000\n",
      "<__main__.c1 instance at 0x7fb558bd2830>\n",
      "3000\n"
     ]
    }
   ],
   "source": [
    "class c1:\n",
    "    def fun(a,b):\n",
    "        print a\n",
    "        print b\n",
    "o1=c1()\n",
    "c1.fun(o1,20)\n",
    "o1.fun(2000)\n",
    "c1().fun(3000)"
   ]
  },
  {
   "cell_type": "code",
   "execution_count": 9,
   "metadata": {},
   "outputs": [
    {
     "name": "stdout",
     "output_type": "stream",
     "text": [
      "<__main__.c1 instance at 0x7fb558bdcb48>\n",
      "2000\n",
      "anil\n",
      "anil\n"
     ]
    }
   ],
   "source": [
    "class c1:\n",
    "    name=\"anil\"\n",
    "    def fun(a,b):\n",
    "        print a\n",
    "        print b\n",
    "o1=c1()\n",
    "o1.fun(2000)\n",
    "print c1.name\n",
    "print o1.name\n",
    "\n"
   ]
  },
  {
   "cell_type": "code",
   "execution_count": 10,
   "metadata": {},
   "outputs": [
    {
     "name": "stdout",
     "output_type": "stream",
     "text": [
      "<__main__.c1 instance at 0x7fb558bf21b8>\n",
      "2000\n",
      "anil\n",
      "anil\n",
      "anil\n",
      "23\n",
      "5.6\n"
     ]
    }
   ],
   "source": [
    "class c1:\n",
    "    name=\"anil\"\n",
    "    def fun(a,b):\n",
    "        print a\n",
    "        print b\n",
    "o1=c1()\n",
    "o1.fun(2000)\n",
    "print c1.name\n",
    "print o1.name\n",
    "o1.age=23\n",
    "o1.height=5.6\n",
    "print o1.name\n",
    "print o1.age\n",
    "print o1.height\n",
    "\n"
   ]
  },
  {
   "cell_type": "code",
   "execution_count": 11,
   "metadata": {},
   "outputs": [
    {
     "name": "stdout",
     "output_type": "stream",
     "text": [
      "<__main__.c1 instance at 0x7fb558bf2440>\n",
      "2000\n",
      "anil\n",
      "anil\n",
      "anil\n",
      "23\n",
      "5.6\n"
     ]
    },
    {
     "ename": "AttributeError",
     "evalue": "class c1 has no attribute 'age'",
     "output_type": "error",
     "traceback": [
      "\u001b[0;31m---------------------------------------------------------------------------\u001b[0m",
      "\u001b[0;31mAttributeError\u001b[0m                            Traceback (most recent call last)",
      "\u001b[0;32m<ipython-input-11-52e0d73add63>\u001b[0m in \u001b[0;36m<module>\u001b[0;34m()\u001b[0m\n\u001b[1;32m     13\u001b[0m \u001b[0;32mprint\u001b[0m \u001b[0mo1\u001b[0m\u001b[0;34m.\u001b[0m\u001b[0mage\u001b[0m\u001b[0;34m\u001b[0m\u001b[0m\n\u001b[1;32m     14\u001b[0m \u001b[0;32mprint\u001b[0m \u001b[0mo1\u001b[0m\u001b[0;34m.\u001b[0m\u001b[0mheight\u001b[0m\u001b[0;34m\u001b[0m\u001b[0m\n\u001b[0;32m---> 15\u001b[0;31m \u001b[0;32mprint\u001b[0m \u001b[0mc1\u001b[0m\u001b[0;34m.\u001b[0m\u001b[0mage\u001b[0m\u001b[0;34m\u001b[0m\u001b[0m\n\u001b[0m",
      "\u001b[0;31mAttributeError\u001b[0m: class c1 has no attribute 'age'"
     ]
    }
   ],
   "source": [
    "class c1:\n",
    "    name=\"anil\"\n",
    "    def fun(a,b):\n",
    "        print a\n",
    "        print b\n",
    "o1=c1()\n",
    "o1.fun(2000)\n",
    "print c1.name\n",
    "print o1.name\n",
    "o1.age=23\n",
    "o1.height=5.6\n",
    "print o1.name\n",
    "print o1.age\n",
    "print o1.height\n",
    "print c1.age"
   ]
  },
  {
   "cell_type": "code",
   "execution_count": 12,
   "metadata": {
    "collapsed": true
   },
   "outputs": [],
   "source": [
    "def leavecalculation(emp_data):\n",
    "    pass\n",
    "def sal_cal(emp):\n",
    "    pass\n",
    "def tax_cal(emp):\n",
    "    pass\n",
    "def pfcal(emp):\n",
    "    pass"
   ]
  },
  {
   "cell_type": "code",
   "execution_count": 14,
   "metadata": {},
   "outputs": [
    {
     "name": "stdout",
     "output_type": "stream",
     "text": [
      "3\n",
      "emp2\n"
     ]
    },
    {
     "ename": "AttributeError",
     "evalue": "Employee instance has no attribute 'sal'",
     "output_type": "error",
     "traceback": [
      "\u001b[0;31m---------------------------------------------------------------------------\u001b[0m",
      "\u001b[0;31mAttributeError\u001b[0m                            Traceback (most recent call last)",
      "\u001b[0;32m<ipython-input-14-b6035a936952>\u001b[0m in \u001b[0;36m<module>\u001b[0;34m()\u001b[0m\n\u001b[1;32m     11\u001b[0m \u001b[0;32mprint\u001b[0m \u001b[0memp2\u001b[0m\u001b[0;34m.\u001b[0m\u001b[0mid\u001b[0m\u001b[0;34m\u001b[0m\u001b[0m\n\u001b[1;32m     12\u001b[0m \u001b[0;32mprint\u001b[0m \u001b[0memp2\u001b[0m\u001b[0;34m.\u001b[0m\u001b[0mname\u001b[0m\u001b[0;34m\u001b[0m\u001b[0m\n\u001b[0;32m---> 13\u001b[0;31m \u001b[0;32mprint\u001b[0m \u001b[0memp2\u001b[0m\u001b[0;34m.\u001b[0m\u001b[0msal\u001b[0m\u001b[0;34m\u001b[0m\u001b[0m\n\u001b[0m",
      "\u001b[0;31mAttributeError\u001b[0m: Employee instance has no attribute 'sal'"
     ]
    }
   ],
   "source": [
    "class Employee:\n",
    "    company_name=\"KHYAATHI\"\n",
    "    company_address=\"maithrivanam, hyderabad, TS, India\"\n",
    "emp1 = Employee()\n",
    "emp1.name=\"emp1\"\n",
    "emp1.id=2\n",
    "emp1.sal=2345678\n",
    "emp2= Employee()\n",
    "emp2.name=\"emp2\"\n",
    "emp2.id=3\n",
    "print emp2.id\n",
    "print emp2.name\n",
    "print emp2.sal"
   ]
  },
  {
   "cell_type": "code",
   "execution_count": 15,
   "metadata": {},
   "outputs": [
    {
     "name": "stdout",
     "output_type": "stream",
     "text": [
      "3\n",
      "emp2\n",
      "maithrivanam, hyderabad, TS, India\n",
      "KHYAATHI\n"
     ]
    }
   ],
   "source": [
    "class Employee:\n",
    "    company_name=\"KHYAATHI\"\n",
    "    company_address=\"maithrivanam, hyderabad, TS, India\"\n",
    "emp1 = Employee()\n",
    "emp1.name=\"emp1\"\n",
    "emp1.id=2\n",
    "emp1.sal=2345678\n",
    "emp2= Employee()\n",
    "emp2.name=\"emp2\"\n",
    "emp2.id=3\n",
    "print emp2.id\n",
    "print emp2.name\n",
    "print emp2.company_address\n",
    "print emp2.company_name"
   ]
  },
  {
   "cell_type": "code",
   "execution_count": 18,
   "metadata": {},
   "outputs": [
    {
     "name": "stdout",
     "output_type": "stream",
     "text": [
      "anil\n",
      "anil\n"
     ]
    }
   ],
   "source": [
    "class Employee:\n",
    "    company_name=\"KHYAATHI\"\n",
    "    company_address=\"maithrivanam, hyderabad, TS, India\"\n",
    "    def set_data(var1,e_name,e_age,e_height,e_passport=\"\",e_cell=\"\",e_pan=\"\"):\n",
    "        var1.name=e_name\n",
    "        \n",
    "emp1 = Employee()\n",
    "#Employee.set_data(emp1,\"anil\",23,5.6,e_cell=9676622023)\n",
    "emp1.set_data(\"anil\",23,5.6,e_cell=9676622023)\n",
    "# emp1.name=\"anil\"\n",
    "print emp1.name\n",
    "\n",
    "print emp1.name\n",
    "\n"
   ]
  },
  {
   "cell_type": "code",
   "execution_count": 22,
   "metadata": {},
   "outputs": [
    {
     "name": "stdout",
     "output_type": "stream",
     "text": [
      "anil\n",
      "\n"
     ]
    }
   ],
   "source": [
    "class Employee:\n",
    "    company_name=\"KHYAATHI\"\n",
    "    company_address=\"maithrivanam, hyderabad, TS, India\"\n",
    "    def set_data(self,e_name,e_age,e_height,e_passport=\"\",e_cell=\"\",e_pan=\"\"):\n",
    "        self.name=e_name\n",
    "        self.age=e_age\n",
    "        self.hight=e_height\n",
    "        self.passport=e_passport\n",
    "        self.cell=e_cell\n",
    "        self.pan=e_pan\n",
    "\n",
    "        \n",
    "        \n",
    "emp1 = Employee()\n",
    "emp1.set_data(\"anil\",23,5.6,e_cell=9676622023)\n",
    "print emp1.name\n",
    "print emp1.pan\n",
    "\n"
   ]
  },
  {
   "cell_type": "code",
   "execution_count": 23,
   "metadata": {},
   "outputs": [
    {
     "name": "stdout",
     "output_type": "stream",
     "text": [
      "anil\n",
      "\n"
     ]
    }
   ],
   "source": [
    "class Employee:\n",
    "    company_name=\"KHYAATHI\"\n",
    "    company_address=\"maithrivanam, hyderabad, TS, India\"\n",
    "    def set_data(self,e_name,e_age,e_height,e_passport=\"\",e_cell=\"\",e_pan=\"\"):\n",
    "        self.name=e_name\n",
    "        self.age=e_age\n",
    "        self.hight=e_height\n",
    "        self.passport=e_passport\n",
    "        self.cell=e_cell\n",
    "        self.pan=e_pan\n",
    "\n",
    "        \n",
    "        \n",
    "emp1 = Employee()\n",
    "Employee.set_data(emp1,\"anil\",23,5.6,e_cell=9676622023)\n",
    "#emp1.set_data(\"anil\",23,5.6,e_cell=9676622023)\n",
    "print emp1.name\n",
    "print emp1.pan\n",
    "\n"
   ]
  },
  {
   "cell_type": "code",
   "execution_count": null,
   "metadata": {
    "collapsed": true
   },
   "outputs": [],
   "source": [
    "class Employee:\n",
    "    def set_data(self,e_name):\n",
    "        self.name=e_name\n",
    "emp1=Employee()\n",
    "emp1.set_data(\"anil\")\n",
    "emp2=Employee()\n",
    "emp2.set_data(\"ajay\")"
   ]
  },
  {
   "cell_type": "code",
   "execution_count": 5,
   "metadata": {},
   "outputs": [
    {
     "name": "stdout",
     "output_type": "stream",
     "text": [
      "('anil', 23, 5.6, '', 9676622023, '', 245677)\n",
      "('ajay', 25, 5.3, '', 9676622024, '', 2456787)\n"
     ]
    }
   ],
   "source": [
    "class Employee:\n",
    "    company_name=\"KHYAATHI\"\n",
    "    company_address=\"maithrivanam, hyderabad, TS, India\"\n",
    "    def set_data(self,e_name,e_age,e_height,e_passport=\"\",e_cell=\"\",e_pan=\"\",sal=0):\n",
    "        self.name=e_name\n",
    "        self.age=e_age\n",
    "        self.hight=e_height\n",
    "        self.passport=e_passport\n",
    "        self.cell=e_cell\n",
    "        self.pan=e_pan\n",
    "        self.sal=sal\n",
    "    def get(self):\n",
    "        return self.name, self.age,self.hight,self.passport, self.cell, self.pan, self.sal\n",
    "emp1 = Employee()\n",
    "emp1.set_data(\"anil\",23,5.6,e_cell=9676622023,sal=245677)\n",
    "emp2 = Employee()\n",
    "emp2.set_data(\"ajay\",25,5.3,e_cell=9676622024,sal=2456787)\n",
    "print emp1.get() # in get method self reffers emp1\n",
    "print emp2.get() # in get method self reffres emp2"
   ]
  },
  {
   "cell_type": "code",
   "execution_count": 6,
   "metadata": {},
   "outputs": [
    {
     "name": "stdout",
     "output_type": "stream",
     "text": [
      "{'name': 'anil', 'sal': 245677, 'age': 23, 'hight': 5.6, 'cell': 9676622023, 'passport': '', 'pan': ''}\n",
      "{'name': 'ajay', 'sal': 2456787, 'age': 25, 'hight': 5.3, 'cell': 9676622024, 'passport': '', 'pan': ''}\n"
     ]
    }
   ],
   "source": [
    "class Employee:\n",
    "    company_name=\"KHYAATHI\"\n",
    "    company_address=\"maithrivanam, hyderabad, TS, India\"\n",
    "    def set_data(self,e_name,e_age,e_height,e_passport=\"\",e_cell=\"\",e_pan=\"\",sal=0):\n",
    "        self.name=e_name\n",
    "        self.age=e_age\n",
    "        self.hight=e_height\n",
    "        self.passport=e_passport\n",
    "        self.cell=e_cell\n",
    "        self.pan=e_pan\n",
    "        self.sal=sal\n",
    "    def get(self):\n",
    "        return self.__dict__\n",
    "emp1 = Employee()\n",
    "emp1.set_data(\"anil\",23,5.6,e_cell=9676622023,sal=245677)\n",
    "emp2 = Employee()\n",
    "emp2.set_data(\"ajay\",25,5.3,e_cell=9676622024,sal=2456787)\n",
    "print emp1.get() # in get method self reffers emp1\n",
    "print emp2.get() # in get method self reffres emp2"
   ]
  },
  {
   "cell_type": "code",
   "execution_count": 7,
   "metadata": {},
   "outputs": [
    {
     "name": "stdout",
     "output_type": "stream",
     "text": [
      "{'name': 'anil', 'sal': 245677, 'age': 23, 'hight': 5.6, 'cell': 9676622023, 'passport': '', 'pan': ''}\n",
      "{'name': 'ajay', 'sal': 2456787, 'age': 25, 'hight': 5.3, 'cell': 9676622024, 'passport': '', 'pan': ''}\n",
      "248133.77\n",
      "None\n",
      "2481354.87\n",
      "None\n"
     ]
    }
   ],
   "source": [
    "class Employee:\n",
    "    company_name=\"KHYAATHI\"\n",
    "    company_address=\"maithrivanam, hyderabad, TS, India\"\n",
    "    def set_data(self,e_name,e_age,e_height,e_passport=\"\",e_cell=\"\",e_pan=\"\",sal=0):\n",
    "        self.name=e_name\n",
    "        self.age=e_age\n",
    "        self.hight=e_height\n",
    "        self.passport=e_passport\n",
    "        self.cell=e_cell\n",
    "        self.pan=e_pan\n",
    "        self.sal=sal\n",
    "    def get(self):\n",
    "        return self.__dict__\n",
    "    def sal_cal(self):\n",
    "        print self.sal+self.sal*0.01\n",
    "emp1 = Employee()\n",
    "emp1.set_data(\"anil\",23,5.6,e_cell=9676622023,sal=245677)\n",
    "emp2 = Employee()\n",
    "emp2.set_data(\"ajay\",25,5.3,e_cell=9676622024,sal=2456787)\n",
    "print emp1.get() # in get method self reffers emp1\n",
    "print emp2.get() # in get method self reffres emp2\n",
    "print emp1.sal_cal()\n",
    "print emp2.sal_cal()"
   ]
  },
  {
   "cell_type": "code",
   "execution_count": 8,
   "metadata": {},
   "outputs": [
    {
     "name": "stdout",
     "output_type": "stream",
     "text": [
      "{'name': 'anil', 'sal': 245677, 'age': 23, 'hight': 5.6, 'cell': 9676622023, 'passport': '', 'pan': ''}\n",
      "{'name': 'ajay', 'sal': 2456787, 'age': 25, 'hight': 5.3, 'cell': 9676622024, 'passport': '', 'pan': ''}\n",
      "248133.77\n",
      "2481354.87\n"
     ]
    },
    {
     "ename": "AttributeError",
     "evalue": "Employee instance has no attribute 'sal'",
     "output_type": "error",
     "traceback": [
      "\u001b[0;31m---------------------------------------------------------------------------\u001b[0m",
      "\u001b[0;31mAttributeError\u001b[0m                            Traceback (most recent call last)",
      "\u001b[0;32m<ipython-input-8-5962c8bf9231>\u001b[0m in \u001b[0;36m<module>\u001b[0;34m()\u001b[0m\n\u001b[1;32m     23\u001b[0m \u001b[0memp2\u001b[0m\u001b[0;34m.\u001b[0m\u001b[0msal_cal\u001b[0m\u001b[0;34m(\u001b[0m\u001b[0;34m)\u001b[0m\u001b[0;34m\u001b[0m\u001b[0m\n\u001b[1;32m     24\u001b[0m \u001b[0memp3\u001b[0m \u001b[0;34m=\u001b[0m \u001b[0mEmployee\u001b[0m\u001b[0;34m(\u001b[0m\u001b[0;34m)\u001b[0m\u001b[0;34m\u001b[0m\u001b[0m\n\u001b[0;32m---> 25\u001b[0;31m \u001b[0memp3\u001b[0m\u001b[0;34m.\u001b[0m\u001b[0msal_cal\u001b[0m\u001b[0;34m(\u001b[0m\u001b[0;34m)\u001b[0m\u001b[0;34m\u001b[0m\u001b[0m\n\u001b[0m",
      "\u001b[0;32m<ipython-input-8-5962c8bf9231>\u001b[0m in \u001b[0;36msal_cal\u001b[0;34m(self)\u001b[0m\n\u001b[1;32m     13\u001b[0m         \u001b[0;32mreturn\u001b[0m \u001b[0mself\u001b[0m\u001b[0;34m.\u001b[0m\u001b[0m__dict__\u001b[0m\u001b[0;34m\u001b[0m\u001b[0m\n\u001b[1;32m     14\u001b[0m     \u001b[0;32mdef\u001b[0m \u001b[0msal_cal\u001b[0m\u001b[0;34m(\u001b[0m\u001b[0mself\u001b[0m\u001b[0;34m)\u001b[0m\u001b[0;34m:\u001b[0m\u001b[0;34m\u001b[0m\u001b[0m\n\u001b[0;32m---> 15\u001b[0;31m         \u001b[0;32mprint\u001b[0m \u001b[0mself\u001b[0m\u001b[0;34m.\u001b[0m\u001b[0msal\u001b[0m\u001b[0;34m+\u001b[0m\u001b[0mself\u001b[0m\u001b[0;34m.\u001b[0m\u001b[0msal\u001b[0m\u001b[0;34m*\u001b[0m\u001b[0;36m0.01\u001b[0m\u001b[0;34m\u001b[0m\u001b[0m\n\u001b[0m\u001b[1;32m     16\u001b[0m \u001b[0memp1\u001b[0m \u001b[0;34m=\u001b[0m \u001b[0mEmployee\u001b[0m\u001b[0;34m(\u001b[0m\u001b[0;34m)\u001b[0m\u001b[0;34m\u001b[0m\u001b[0m\n\u001b[1;32m     17\u001b[0m \u001b[0memp1\u001b[0m\u001b[0;34m.\u001b[0m\u001b[0mset_data\u001b[0m\u001b[0;34m(\u001b[0m\u001b[0;34m\"anil\"\u001b[0m\u001b[0;34m,\u001b[0m\u001b[0;36m23\u001b[0m\u001b[0;34m,\u001b[0m\u001b[0;36m5.6\u001b[0m\u001b[0;34m,\u001b[0m\u001b[0me_cell\u001b[0m\u001b[0;34m=\u001b[0m\u001b[0;36m9676622023\u001b[0m\u001b[0;34m,\u001b[0m\u001b[0msal\u001b[0m\u001b[0;34m=\u001b[0m\u001b[0;36m245677\u001b[0m\u001b[0;34m)\u001b[0m\u001b[0;34m\u001b[0m\u001b[0m\n",
      "\u001b[0;31mAttributeError\u001b[0m: Employee instance has no attribute 'sal'"
     ]
    }
   ],
   "source": [
    "class Employee:\n",
    "    company_name=\"KHYAATHI\"\n",
    "    company_address=\"maithrivanam, hyderabad, TS, India\"\n",
    "    def set_data(self,e_name,e_age,e_height,e_passport=\"\",e_cell=\"\",e_pan=\"\",sal=0):\n",
    "        self.name=e_name\n",
    "        self.age=e_age\n",
    "        self.hight=e_height\n",
    "        self.passport=e_passport\n",
    "        self.cell=e_cell\n",
    "        self.pan=e_pan\n",
    "        self.sal=sal\n",
    "    def get(self):\n",
    "        return self.__dict__\n",
    "    def sal_cal(self):\n",
    "        print self.sal+self.sal*0.01\n",
    "emp1 = Employee()\n",
    "emp1.set_data(\"anil\",23,5.6,e_cell=9676622023,sal=245677)\n",
    "emp2 = Employee()\n",
    "emp2.set_data(\"ajay\",25,5.3,e_cell=9676622024,sal=2456787)\n",
    "print emp1.get() # in get method self reffers emp1\n",
    "print emp2.get() # in get method self reffres emp2\n",
    "emp1.sal_cal()\n",
    "emp2.sal_cal()\n",
    "emp3 = Employee()\n",
    "emp3.sal_cal()"
   ]
  },
  {
   "cell_type": "code",
   "execution_count": 11,
   "metadata": {
    "collapsed": true
   },
   "outputs": [],
   "source": [
    "class Emp:\n",
    "    def fun(self):\n",
    "        print \"this is fun\"\n",
    "    def fun1(self):\n",
    "        print \"this is fun1\"\n",
    "e1=Emp()"
   ]
  },
  {
   "cell_type": "code",
   "execution_count": 12,
   "metadata": {},
   "outputs": [
    {
     "name": "stdout",
     "output_type": "stream",
     "text": [
      "this is fun\n"
     ]
    }
   ],
   "source": [
    "class Emp:\n",
    "    def fun(self):\n",
    "        print \"this is fun\"\n",
    "    def fun1(self):\n",
    "        print \"this is fun1\"\n",
    "e1=Emp()\n",
    "e1.fun()"
   ]
  },
  {
   "cell_type": "code",
   "execution_count": 13,
   "metadata": {},
   "outputs": [
    {
     "name": "stdout",
     "output_type": "stream",
     "text": [
      "this is init\n"
     ]
    }
   ],
   "source": [
    "class Emp:\n",
    "    def __fun__(self):\n",
    "        print \"this is __fun__\"\n",
    "    def __init__(self):\n",
    "        print \"this is init\"\n",
    "    def fun1(self):\n",
    "        print \"this is fun1\"\n",
    "e1=Emp()"
   ]
  },
  {
   "cell_type": "code",
   "execution_count": 14,
   "metadata": {
    "collapsed": true
   },
   "outputs": [],
   "source": [
    "class Emp:\n",
    "    def __fun__(self):\n",
    "        print \"this is __fun__\"\n",
    "    def __init__(self):\n",
    "        print \"this is init\"\n",
    "    def fun1(self):\n",
    "        print \"this is fun1\""
   ]
  },
  {
   "cell_type": "code",
   "execution_count": 16,
   "metadata": {},
   "outputs": [
    {
     "name": "stdout",
     "output_type": "stream",
     "text": [
      "this is init\n",
      "this is init\n",
      "this is init\n",
      "this is init\n",
      "this is init\n"
     ]
    }
   ],
   "source": [
    "class Emp:\n",
    "    def __fun__(self):\n",
    "        print \"this is __fun__\"\n",
    "    def __init__(self):\n",
    "        print \"this is init\"\n",
    "    def fun1(self):\n",
    "        print \"this is fun1\"\n",
    "e1=Emp()\n",
    "e2=Emp()\n",
    "e3=Emp()\n",
    "e4=Emp()\n",
    "e5=Emp()"
   ]
  },
  {
   "cell_type": "code",
   "execution_count": 17,
   "metadata": {},
   "outputs": [
    {
     "ename": "TypeError",
     "evalue": "__init__() takes exactly 3 arguments (1 given)",
     "output_type": "error",
     "traceback": [
      "\u001b[0;31m---------------------------------------------------------------------------\u001b[0m",
      "\u001b[0;31mTypeError\u001b[0m                                 Traceback (most recent call last)",
      "\u001b[0;32m<ipython-input-17-54995acbfaf1>\u001b[0m in \u001b[0;36m<module>\u001b[0;34m()\u001b[0m\n\u001b[1;32m      8\u001b[0m     \u001b[0;32mdef\u001b[0m \u001b[0mfun1\u001b[0m\u001b[0;34m(\u001b[0m\u001b[0mself\u001b[0m\u001b[0;34m)\u001b[0m\u001b[0;34m:\u001b[0m\u001b[0;34m\u001b[0m\u001b[0m\n\u001b[1;32m      9\u001b[0m         \u001b[0;32mprint\u001b[0m \u001b[0;34m\"this is fun1\"\u001b[0m\u001b[0;34m\u001b[0m\u001b[0m\n\u001b[0;32m---> 10\u001b[0;31m \u001b[0me1\u001b[0m\u001b[0;34m=\u001b[0m\u001b[0mEmp\u001b[0m\u001b[0;34m(\u001b[0m\u001b[0;34m)\u001b[0m\u001b[0;34m\u001b[0m\u001b[0m\n\u001b[0m",
      "\u001b[0;31mTypeError\u001b[0m: __init__() takes exactly 3 arguments (1 given)"
     ]
    }
   ],
   "source": [
    "class Emp:\n",
    "    def __fun__(self):\n",
    "        print \"this is __fun__\"\n",
    "    def __init__(self,name,age):\n",
    "        print \"this is init\"\n",
    "        self.name=name\n",
    "        self.age=age\n",
    "    def fun1(self):\n",
    "        print \"this is fun1\"\n",
    "e1=Emp()"
   ]
  },
  {
   "cell_type": "code",
   "execution_count": 18,
   "metadata": {},
   "outputs": [
    {
     "ename": "ZeroDivisionError",
     "evalue": "integer division or modulo by zero",
     "output_type": "error",
     "traceback": [
      "\u001b[0;31m---------------------------------------------------------------------------\u001b[0m",
      "\u001b[0;31mZeroDivisionError\u001b[0m                         Traceback (most recent call last)",
      "\u001b[0;32m<ipython-input-18-925c4e8297bd>\u001b[0m in \u001b[0;36m<module>\u001b[0;34m()\u001b[0m\n\u001b[0;32m----> 1\u001b[0;31m \u001b[0ma\u001b[0m\u001b[0;34m=\u001b[0m\u001b[0;36m1\u001b[0m\u001b[0;34m/\u001b[0m\u001b[0;36m0\u001b[0m\u001b[0;34m\u001b[0m\u001b[0m\n\u001b[0m",
      "\u001b[0;31mZeroDivisionError\u001b[0m: integer division or modulo by zero"
     ]
    }
   ],
   "source": [
    "a=1/0"
   ]
  },
  {
   "cell_type": "code",
   "execution_count": 19,
   "metadata": {
    "collapsed": true
   },
   "outputs": [],
   "source": [
    "b=20"
   ]
  },
  {
   "cell_type": "code",
   "execution_count": 20,
   "metadata": {
    "collapsed": true
   },
   "outputs": [],
   "source": [
    "class Emp:\n",
    "    def __fun__(self):\n",
    "        print \"this is __fun__\"\n",
    "    def __init__(self,name,age):\n",
    "        print \"this is init\"\n",
    "        self.name=name\n",
    "        self.age=age\n",
    "    def fun1(self):\n",
    "        print \"this is fun1\"\n"
   ]
  },
  {
   "cell_type": "code",
   "execution_count": 21,
   "metadata": {},
   "outputs": [
    {
     "ename": "TypeError",
     "evalue": "__init__() takes exactly 3 arguments (1 given)",
     "output_type": "error",
     "traceback": [
      "\u001b[0;31m---------------------------------------------------------------------------\u001b[0m",
      "\u001b[0;31mTypeError\u001b[0m                                 Traceback (most recent call last)",
      "\u001b[0;32m<ipython-input-21-54995acbfaf1>\u001b[0m in \u001b[0;36m<module>\u001b[0;34m()\u001b[0m\n\u001b[1;32m      8\u001b[0m     \u001b[0;32mdef\u001b[0m \u001b[0mfun1\u001b[0m\u001b[0;34m(\u001b[0m\u001b[0mself\u001b[0m\u001b[0;34m)\u001b[0m\u001b[0;34m:\u001b[0m\u001b[0;34m\u001b[0m\u001b[0m\n\u001b[1;32m      9\u001b[0m         \u001b[0;32mprint\u001b[0m \u001b[0;34m\"this is fun1\"\u001b[0m\u001b[0;34m\u001b[0m\u001b[0m\n\u001b[0;32m---> 10\u001b[0;31m \u001b[0me1\u001b[0m\u001b[0;34m=\u001b[0m\u001b[0mEmp\u001b[0m\u001b[0;34m(\u001b[0m\u001b[0;34m)\u001b[0m\u001b[0;34m\u001b[0m\u001b[0m\n\u001b[0m",
      "\u001b[0;31mTypeError\u001b[0m: __init__() takes exactly 3 arguments (1 given)"
     ]
    }
   ],
   "source": [
    "class Emp:\n",
    "    def __fun__(self):\n",
    "        print \"this is __fun__\"\n",
    "    def __init__(self,name,age):\n",
    "        print \"this is init\"\n",
    "        self.name=name\n",
    "        self.age=age\n",
    "    def fun1(self):\n",
    "        print \"this is fun1\"\n",
    "e1=Emp()"
   ]
  },
  {
   "cell_type": "code",
   "execution_count": 22,
   "metadata": {},
   "outputs": [
    {
     "ename": "NameError",
     "evalue": "name 'e123' is not defined",
     "output_type": "error",
     "traceback": [
      "\u001b[0;31m---------------------------------------------------------------------------\u001b[0m",
      "\u001b[0;31mNameError\u001b[0m                                 Traceback (most recent call last)",
      "\u001b[0;32m<ipython-input-22-36d348b69a98>\u001b[0m in \u001b[0;36m<module>\u001b[0;34m()\u001b[0m\n\u001b[1;32m     12\u001b[0m     \u001b[0me10\u001b[0m\u001b[0;34m=\u001b[0m\u001b[0mEmp\u001b[0m\u001b[0;34m(\u001b[0m\u001b[0;34m)\u001b[0m\u001b[0;34m\u001b[0m\u001b[0m\n\u001b[1;32m     13\u001b[0m \u001b[0;32mexcept\u001b[0m\u001b[0;34m:\u001b[0m\u001b[0;34m\u001b[0m\u001b[0m\n\u001b[0;32m---> 14\u001b[0;31m     \u001b[0;32mprint\u001b[0m \u001b[0me123\u001b[0m\u001b[0;34m\u001b[0m\u001b[0m\n\u001b[0m",
      "\u001b[0;31mNameError\u001b[0m: name 'e123' is not defined"
     ]
    }
   ],
   "source": [
    "try:\n",
    "    class Emp:\n",
    "        def __fun__(self):\n",
    "            print \"this is __fun__\"\n",
    "        def __init__(self,name,age):\n",
    "            print \"this is init\"\n",
    "            self.name=name\n",
    "            self.age=age\n",
    "        def fun1(self):\n",
    "            print \"this is fun1\"\n",
    "    e123=1/0\n",
    "    e10=Emp()\n",
    "except:\n",
    "    print e123"
   ]
  },
  {
   "cell_type": "code",
   "execution_count": 23,
   "metadata": {},
   "outputs": [
    {
     "ename": "NameError",
     "evalue": "name 'e10' is not defined",
     "output_type": "error",
     "traceback": [
      "\u001b[0;31m---------------------------------------------------------------------------\u001b[0m",
      "\u001b[0;31mNameError\u001b[0m                                 Traceback (most recent call last)",
      "\u001b[0;32m<ipython-input-23-f5bf02ad7a67>\u001b[0m in \u001b[0;36m<module>\u001b[0;34m()\u001b[0m\n\u001b[1;32m     12\u001b[0m     \u001b[0me10\u001b[0m\u001b[0;34m=\u001b[0m\u001b[0mEmp\u001b[0m\u001b[0;34m(\u001b[0m\u001b[0;34m)\u001b[0m\u001b[0;34m\u001b[0m\u001b[0m\n\u001b[1;32m     13\u001b[0m \u001b[0;32mexcept\u001b[0m\u001b[0;34m:\u001b[0m\u001b[0;34m\u001b[0m\u001b[0m\n\u001b[0;32m---> 14\u001b[0;31m     \u001b[0;32mprint\u001b[0m \u001b[0me10\u001b[0m\u001b[0;34m\u001b[0m\u001b[0m\n\u001b[0m",
      "\u001b[0;31mNameError\u001b[0m: name 'e10' is not defined"
     ]
    }
   ],
   "source": [
    "try:\n",
    "    class Emp:\n",
    "        def __fun__(self):\n",
    "            print \"this is __fun__\"\n",
    "        def __init__(self,name,age):\n",
    "            print \"this is init\"\n",
    "            self.name=name\n",
    "            self.age=age\n",
    "        def fun1(self):\n",
    "            print \"this is fun1\"\n",
    "    #e123=1/0\n",
    "    e10=Emp()\n",
    "except:\n",
    "    print e10"
   ]
  },
  {
   "cell_type": "code",
   "execution_count": 24,
   "metadata": {},
   "outputs": [
    {
     "ename": "TypeError",
     "evalue": "__init__() takes exactly 3 arguments (1 given)",
     "output_type": "error",
     "traceback": [
      "\u001b[0;31m---------------------------------------------------------------------------\u001b[0m",
      "\u001b[0;31mTypeError\u001b[0m                                 Traceback (most recent call last)",
      "\u001b[0;32m<ipython-input-24-54995acbfaf1>\u001b[0m in \u001b[0;36m<module>\u001b[0;34m()\u001b[0m\n\u001b[1;32m      8\u001b[0m     \u001b[0;32mdef\u001b[0m \u001b[0mfun1\u001b[0m\u001b[0;34m(\u001b[0m\u001b[0mself\u001b[0m\u001b[0;34m)\u001b[0m\u001b[0;34m:\u001b[0m\u001b[0;34m\u001b[0m\u001b[0m\n\u001b[1;32m      9\u001b[0m         \u001b[0;32mprint\u001b[0m \u001b[0;34m\"this is fun1\"\u001b[0m\u001b[0;34m\u001b[0m\u001b[0m\n\u001b[0;32m---> 10\u001b[0;31m \u001b[0me1\u001b[0m\u001b[0;34m=\u001b[0m\u001b[0mEmp\u001b[0m\u001b[0;34m(\u001b[0m\u001b[0;34m)\u001b[0m\u001b[0;34m\u001b[0m\u001b[0m\n\u001b[0m",
      "\u001b[0;31mTypeError\u001b[0m: __init__() takes exactly 3 arguments (1 given)"
     ]
    }
   ],
   "source": [
    "class Emp:\n",
    "    def __fun__(self):\n",
    "        print \"this is __fun__\"\n",
    "    def __init__(self,name,age):\n",
    "        print \"this is init\"\n",
    "        self.name=name\n",
    "        self.age=age\n",
    "    def fun1(self):\n",
    "        print \"this is fun1\"\n",
    "e1=Emp()"
   ]
  },
  {
   "cell_type": "code",
   "execution_count": 25,
   "metadata": {},
   "outputs": [
    {
     "name": "stdout",
     "output_type": "stream",
     "text": [
      "20\n"
     ]
    }
   ],
   "source": [
    "class c1:\n",
    "    def fun(a,self):\n",
    "        print self\n",
    "o1=c1()\n",
    "o1.fun(20)"
   ]
  },
  {
   "cell_type": "code",
   "execution_count": 26,
   "metadata": {},
   "outputs": [
    {
     "ename": "TypeError",
     "evalue": "__init__() takes exactly 3 arguments (1 given)",
     "output_type": "error",
     "traceback": [
      "\u001b[0;31m---------------------------------------------------------------------------\u001b[0m",
      "\u001b[0;31mTypeError\u001b[0m                                 Traceback (most recent call last)",
      "\u001b[0;32m<ipython-input-26-54995acbfaf1>\u001b[0m in \u001b[0;36m<module>\u001b[0;34m()\u001b[0m\n\u001b[1;32m      8\u001b[0m     \u001b[0;32mdef\u001b[0m \u001b[0mfun1\u001b[0m\u001b[0;34m(\u001b[0m\u001b[0mself\u001b[0m\u001b[0;34m)\u001b[0m\u001b[0;34m:\u001b[0m\u001b[0;34m\u001b[0m\u001b[0m\n\u001b[1;32m      9\u001b[0m         \u001b[0;32mprint\u001b[0m \u001b[0;34m\"this is fun1\"\u001b[0m\u001b[0;34m\u001b[0m\u001b[0m\n\u001b[0;32m---> 10\u001b[0;31m \u001b[0me1\u001b[0m\u001b[0;34m=\u001b[0m\u001b[0mEmp\u001b[0m\u001b[0;34m(\u001b[0m\u001b[0;34m)\u001b[0m\u001b[0;34m\u001b[0m\u001b[0m\n\u001b[0m",
      "\u001b[0;31mTypeError\u001b[0m: __init__() takes exactly 3 arguments (1 given)"
     ]
    }
   ],
   "source": [
    "class Emp:\n",
    "    def __fun__(self):\n",
    "        print \"this is __fun__\"\n",
    "    def __init__(self,name,age):\n",
    "        print \"this is init\"\n",
    "        self.name=name\n",
    "        self.age=age\n",
    "    def fun1(self):\n",
    "        print \"this is fun1\"\n",
    "e1=Emp()"
   ]
  },
  {
   "cell_type": "code",
   "execution_count": 27,
   "metadata": {},
   "outputs": [
    {
     "ename": "TypeError",
     "evalue": "__init__() takes exactly 3 arguments (1 given)",
     "output_type": "error",
     "traceback": [
      "\u001b[0;31m---------------------------------------------------------------------------\u001b[0m",
      "\u001b[0;31mTypeError\u001b[0m                                 Traceback (most recent call last)",
      "\u001b[0;32m<ipython-input-27-20cd50d72910>\u001b[0m in \u001b[0;36m<module>\u001b[0;34m()\u001b[0m\n\u001b[1;32m      8\u001b[0m     \u001b[0;32mdef\u001b[0m \u001b[0mfun1\u001b[0m\u001b[0;34m(\u001b[0m\u001b[0mself\u001b[0m\u001b[0;34m)\u001b[0m\u001b[0;34m:\u001b[0m\u001b[0;34m\u001b[0m\u001b[0m\n\u001b[1;32m      9\u001b[0m         \u001b[0;32mprint\u001b[0m \u001b[0;34m\"this is fun1\"\u001b[0m\u001b[0;34m\u001b[0m\u001b[0m\n\u001b[0;32m---> 10\u001b[0;31m \u001b[0me1\u001b[0m\u001b[0;34m=\u001b[0m\u001b[0mEmp\u001b[0m\u001b[0;34m(\u001b[0m\u001b[0;34m)\u001b[0m\u001b[0;34m\u001b[0m\u001b[0m\n\u001b[0m\u001b[1;32m     11\u001b[0m \"\"\"\n\u001b[1;32m     12\u001b[0m \u001b[0mstep1\u001b[0m\u001b[0;34m:\u001b[0m \u001b[0mIt\u001b[0m \u001b[0mwill\u001b[0m \u001b[0mcall\u001b[0m \u001b[0m__new__\u001b[0m\u001b[0;34m.\u001b[0m \u001b[0mwhat\u001b[0m \u001b[0m__new__\u001b[0m \u001b[0mwill\u001b[0m \u001b[0mdo\u001b[0m\u001b[0;31m?\u001b[0m\u001b[0;34m.\u001b[0m \u001b[0m__new__\u001b[0m \u001b[0mcreates\u001b[0m \u001b[0man\u001b[0m \u001b[0minstance\u001b[0m \u001b[0;32mand\u001b[0m \u001b[0mreturns\u001b[0m\u001b[0;34m.\u001b[0m\u001b[0;34m\u001b[0m\u001b[0m\n",
      "\u001b[0;31mTypeError\u001b[0m: __init__() takes exactly 3 arguments (1 given)"
     ]
    }
   ],
   "source": [
    "class Emp:\n",
    "    def __fun__(self):\n",
    "        print \"this is __fun__\"\n",
    "    def __init__(self,name,age):\n",
    "        print \"this is init\"\n",
    "        self.name=name\n",
    "        self.age=age\n",
    "    def fun1(self):\n",
    "        print \"this is fun1\"\n",
    "e1=Emp()\n",
    "\"\"\"\n",
    "step1: It will call __new__. what __new__ will do?. __new__ creates an instance and returns.\n",
    "step2: by using that instance which is created above it will call the constructor(__init__)\n",
    "        with the arguments passed to class call. instance.__init__()\n",
    "\n",
    "\"\"\""
   ]
  },
  {
   "cell_type": "code",
   "execution_count": 30,
   "metadata": {},
   "outputs": [
    {
     "name": "stdout",
     "output_type": "stream",
     "text": [
      "this is init\n",
      "\n"
     ]
    }
   ],
   "source": [
    "class Emp:\n",
    "    def __fun__(self):\n",
    "        print \"this is __fun__\"\n",
    "    def __init__(self,name,age):\n",
    "        print \"this is init\"\n",
    "        self.name=name\n",
    "        self.age=age\n",
    "    def fun1(self):\n",
    "        print \"this is fun1\"\n",
    "e1=Emp(\"anil\",25)\n",
    "\"\"\"\n",
    "step1: It will call __new__. what __new__ will do?. __new__ creates an instance and returns.\n",
    "step2: by using that instance which is created above it will call the constructor(__init__)\n",
    "        with the arguments passed to class call. instance.__init__(\"anil\",25)\n",
    "\n",
    "\"\"\"\n",
    "print "
   ]
  },
  {
   "cell_type": "code",
   "execution_count": 28,
   "metadata": {},
   "outputs": [
    {
     "ename": "NameError",
     "evalue": "name 'a24' is not defined",
     "output_type": "error",
     "traceback": [
      "\u001b[0;31m---------------------------------------------------------------------------\u001b[0m",
      "\u001b[0;31mNameError\u001b[0m                                 Traceback (most recent call last)",
      "\u001b[0;32m<ipython-input-28-7f4ec69c9a2d>\u001b[0m in \u001b[0;36m<module>\u001b[0;34m()\u001b[0m\n\u001b[0;32m----> 1\u001b[0;31m \u001b[0ma24\u001b[0m\u001b[0;34m\u001b[0m\u001b[0m\n\u001b[0m",
      "\u001b[0;31mNameError\u001b[0m: name 'a24' is not defined"
     ]
    }
   ],
   "source": [
    "a24"
   ]
  },
  {
   "cell_type": "code",
   "execution_count": 32,
   "metadata": {},
   "outputs": [
    {
     "name": "stdout",
     "output_type": "stream",
     "text": [
      "{'name': 'anil', 'sal': 245677, 'age': 23, 'hight': 5.6, 'cell': 9676622023, 'passport': '', 'pan': ''}\n",
      "{'name': 'ajay', 'sal': 2456787, 'age': 25, 'hight': 5.3, 'cell': 9676622024, 'passport': '', 'pan': ''}\n",
      "248133.77\n",
      "2481354.87\n"
     ]
    },
    {
     "ename": "TypeError",
     "evalue": "__init__() takes at least 4 arguments (1 given)",
     "output_type": "error",
     "traceback": [
      "\u001b[0;31m---------------------------------------------------------------------------\u001b[0m",
      "\u001b[0;31mTypeError\u001b[0m                                 Traceback (most recent call last)",
      "\u001b[0;32m<ipython-input-32-52a711a0fa1a>\u001b[0m in \u001b[0;36m<module>\u001b[0;34m()\u001b[0m\n\u001b[1;32m     34\u001b[0m \u001b[0memp1\u001b[0m\u001b[0;34m.\u001b[0m\u001b[0msal_cal\u001b[0m\u001b[0;34m(\u001b[0m\u001b[0;34m)\u001b[0m\u001b[0;34m\u001b[0m\u001b[0m\n\u001b[1;32m     35\u001b[0m \u001b[0memp2\u001b[0m\u001b[0;34m.\u001b[0m\u001b[0msal_cal\u001b[0m\u001b[0;34m(\u001b[0m\u001b[0;34m)\u001b[0m\u001b[0;34m\u001b[0m\u001b[0m\n\u001b[0;32m---> 36\u001b[0;31m \u001b[0memp3\u001b[0m \u001b[0;34m=\u001b[0m \u001b[0mEmployee\u001b[0m\u001b[0;34m(\u001b[0m\u001b[0;34m)\u001b[0m\u001b[0;34m\u001b[0m\u001b[0m\n\u001b[0m",
      "\u001b[0;31mTypeError\u001b[0m: __init__() takes at least 4 arguments (1 given)"
     ]
    }
   ],
   "source": [
    "class Employee:\n",
    "    company_name=\"KHYAATHI\"\n",
    "    company_address=\"maithrivanam, hyderabad, TS, India\"\n",
    "    '''\n",
    "    def set_data(self,e_name,e_age,e_height,e_passport=\"\",e_cell=\"\",e_pan=\"\",sal=0):\n",
    "        self.name=e_name\n",
    "        self.age=e_age\n",
    "        self.hight=e_height\n",
    "        self.passport=e_passport\n",
    "        self.cell=e_cell\n",
    "        self.pan=e_pan\n",
    "        self.sal=sal\n",
    "    \n",
    "    '''\n",
    "    def __init__(self,e_name,e_age,e_height,e_passport=\"\",e_cell=\"\",e_pan=\"\",sal=0):\n",
    "        self.name=e_name\n",
    "        self.age=e_age\n",
    "        self.hight=e_height\n",
    "        self.passport=e_passport\n",
    "        self.cell=e_cell\n",
    "        self.pan=e_pan\n",
    "        self.sal=sal\n",
    "    \n",
    "    def get(self):\n",
    "        return self.__dict__\n",
    "    def sal_cal(self):\n",
    "        print self.sal+self.sal*0.01\n",
    "emp1 = Employee(\"anil\",23,5.6,e_cell=9676622023,sal=245677)\n",
    "#emp1.set_data(\"anil\",23,5.6,e_cell=9676622023,sal=245677)\n",
    "emp2 = Employee(\"ajay\",25,5.3,e_cell=9676622024,sal=2456787)\n",
    "#emp2.set_data(\"ajay\",25,5.3,e_cell=9676622024,sal=2456787)\n",
    "print emp1.get() # in get method self reffers emp1\n",
    "print emp2.get() # in get method self reffres emp2\n",
    "emp1.sal_cal()\n",
    "emp2.sal_cal()\n",
    "emp3 = Employee()\n"
   ]
  },
  {
   "cell_type": "code",
   "execution_count": 33,
   "metadata": {},
   "outputs": [
    {
     "name": "stdout",
     "output_type": "stream",
     "text": [
      "{'name': 'anil', 'sal': 245677, 'age': 23, 'hight': 5.6, 'cell': 9676622023, 'passport': '', 'pan': ''}\n",
      "{'name': 'ajay', 'sal': 2456787, 'age': 25, 'hight': 5.3, 'cell': 9676622024, 'passport': '', 'pan': ''}\n",
      "248133.77\n",
      "2481354.87\n"
     ]
    }
   ],
   "source": [
    "class Employee:\n",
    "    company_name=\"KHYAATHI\"\n",
    "    company_address=\"maithrivanam, hyderabad, TS, India\"\n",
    "    def __init__(self,e_name,e_age,e_height,e_passport=\"\",e_cell=\"\",e_pan=\"\",sal=0):\n",
    "        self.name=e_name\n",
    "        self.age=e_age\n",
    "        self.hight=e_height\n",
    "        self.passport=e_passport\n",
    "        self.cell=e_cell\n",
    "        self.pan=e_pan\n",
    "        self.sal=sal\n",
    "    def get(self):\n",
    "        return self.__dict__\n",
    "    def sal_cal(self):\n",
    "        print self.sal+self.sal*0.01\n",
    "emp1 = Employee(\"anil\",23,5.6,e_cell=9676622023,sal=245677)\n",
    "emp2 = Employee(\"ajay\",25,5.3,e_cell=9676622024,sal=2456787)\n",
    "print emp1.get() # in get method self reffers emp1\n",
    "print emp2.get() # in get method self reffres emp2\n",
    "emp1.sal_cal()\n",
    "emp2.sal_cal()\n"
   ]
  },
  {
   "cell_type": "code",
   "execution_count": 2,
   "metadata": {
    "collapsed": true
   },
   "outputs": [],
   "source": [
    "class c1:\n",
    "    def fun1(self):\n",
    "        print \"this is fun1 in c1\"\n",
    "class c2:\n",
    "    def fun2(self):\n",
    "        print \"this is fun2 in c2\"\n",
    "class app:\n",
    "    def operations(self):\n",
    "        print \"this is an operations\"\n",
    "# call the operations,fun2,fun1 methods outside the class."
   ]
  },
  {
   "cell_type": "code",
   "execution_count": 3,
   "metadata": {},
   "outputs": [
    {
     "name": "stdout",
     "output_type": "stream",
     "text": [
      "this is an operations\n",
      "this is fun1 in c1\n",
      "this is fun2 in c2\n"
     ]
    }
   ],
   "source": [
    "class c1:\n",
    "    def fun1(self):\n",
    "        print \"this is fun1 in c1\"\n",
    "class c2:\n",
    "    def fun2(self):\n",
    "        print \"this is fun2 in c2\"\n",
    "class app:\n",
    "    def operations(self):\n",
    "        print \"this is an operations\"\n",
    "# call the operations,fun2,fun1 methods outside the class.\n",
    "o1=c1()\n",
    "o2=c2()\n",
    "a1=app()\n",
    "a1.operations()\n",
    "o1.fun1()\n",
    "o2.fun2()"
   ]
  },
  {
   "cell_type": "code",
   "execution_count": 4,
   "metadata": {},
   "outputs": [
    {
     "name": "stdout",
     "output_type": "stream",
     "text": [
      "this is an operations\n"
     ]
    },
    {
     "ename": "AttributeError",
     "evalue": "app instance has no attribute 'fun1'",
     "output_type": "error",
     "traceback": [
      "\u001b[0;31m---------------------------------------------------------------------------\u001b[0m",
      "\u001b[0;31mAttributeError\u001b[0m                            Traceback (most recent call last)",
      "\u001b[0;32m<ipython-input-4-1d1d2f0c6ff1>\u001b[0m in \u001b[0;36m<module>\u001b[0;34m()\u001b[0m\n\u001b[1;32m     11\u001b[0m \u001b[0ma1\u001b[0m\u001b[0;34m=\u001b[0m\u001b[0mapp\u001b[0m\u001b[0;34m(\u001b[0m\u001b[0;34m)\u001b[0m\u001b[0;34m\u001b[0m\u001b[0m\n\u001b[1;32m     12\u001b[0m \u001b[0ma1\u001b[0m\u001b[0;34m.\u001b[0m\u001b[0moperations\u001b[0m\u001b[0;34m(\u001b[0m\u001b[0;34m)\u001b[0m\u001b[0;34m\u001b[0m\u001b[0m\n\u001b[0;32m---> 13\u001b[0;31m \u001b[0ma1\u001b[0m\u001b[0;34m.\u001b[0m\u001b[0mfun1\u001b[0m\u001b[0;34m(\u001b[0m\u001b[0;34m)\u001b[0m\u001b[0;34m\u001b[0m\u001b[0m\n\u001b[0m",
      "\u001b[0;31mAttributeError\u001b[0m: app instance has no attribute 'fun1'"
     ]
    }
   ],
   "source": [
    "class c1:\n",
    "    def fun1(self):\n",
    "        print \"this is fun1 in c1\"\n",
    "class c2:\n",
    "    def fun2(self):\n",
    "        print \"this is fun2 in c2\"\n",
    "class app:\n",
    "    def operations(self):\n",
    "        print \"this is an operations\"\n",
    "# call the operations,fun2,fun1 methods outside the class using an app instance.\n",
    "a1=app()\n",
    "a1.operations()\n",
    "a1.fun1()"
   ]
  },
  {
   "cell_type": "code",
   "execution_count": 5,
   "metadata": {},
   "outputs": [
    {
     "name": "stdout",
     "output_type": "stream",
     "text": [
      "this is an operations\n",
      "this is fun1 in c1\n"
     ]
    }
   ],
   "source": [
    "class c1:\n",
    "    def fun1(self):\n",
    "        print \"this is fun1 in c1\"\n",
    "class c2:\n",
    "    def fun2(self):\n",
    "        print \"this is fun2 in c2\"\n",
    "class app(c1):\n",
    "    def operations(self):\n",
    "        print \"this is an operations\"\n",
    "# call the operations,fun2,fun1 methods outside the class using an app instance.\n",
    "a1=app()\n",
    "a1.operations()\n",
    "a1.fun1()"
   ]
  },
  {
   "cell_type": "code",
   "execution_count": 6,
   "metadata": {},
   "outputs": [
    {
     "name": "stdout",
     "output_type": "stream",
     "text": [
      "this is an operations\n",
      "this is fun1 in c1\n"
     ]
    },
    {
     "ename": "AttributeError",
     "evalue": "app instance has no attribute 'fun2'",
     "output_type": "error",
     "traceback": [
      "\u001b[0;31m---------------------------------------------------------------------------\u001b[0m",
      "\u001b[0;31mAttributeError\u001b[0m                            Traceback (most recent call last)",
      "\u001b[0;32m<ipython-input-6-d4e80e21f456>\u001b[0m in \u001b[0;36m<module>\u001b[0;34m()\u001b[0m\n\u001b[1;32m     12\u001b[0m \u001b[0ma1\u001b[0m\u001b[0;34m.\u001b[0m\u001b[0moperations\u001b[0m\u001b[0;34m(\u001b[0m\u001b[0;34m)\u001b[0m\u001b[0;34m\u001b[0m\u001b[0m\n\u001b[1;32m     13\u001b[0m \u001b[0ma1\u001b[0m\u001b[0;34m.\u001b[0m\u001b[0mfun1\u001b[0m\u001b[0;34m(\u001b[0m\u001b[0;34m)\u001b[0m\u001b[0;34m\u001b[0m\u001b[0m\n\u001b[0;32m---> 14\u001b[0;31m \u001b[0ma1\u001b[0m\u001b[0;34m.\u001b[0m\u001b[0mfun2\u001b[0m\u001b[0;34m(\u001b[0m\u001b[0;34m)\u001b[0m\u001b[0;34m\u001b[0m\u001b[0m\n\u001b[0m",
      "\u001b[0;31mAttributeError\u001b[0m: app instance has no attribute 'fun2'"
     ]
    }
   ],
   "source": [
    "class c1:\n",
    "    def fun1(self):\n",
    "        print \"this is fun1 in c1\"\n",
    "class c2:\n",
    "    def fun2(self):\n",
    "        print \"this is fun2 in c2\"\n",
    "class app(c1):\n",
    "    def operations(self):\n",
    "        print \"this is an operations\"\n",
    "# call the operations,fun2,fun1 methods outside the class using an app instance.\n",
    "a1=app()\n",
    "a1.operations()\n",
    "a1.fun1()\n",
    "a1.fun2()"
   ]
  },
  {
   "cell_type": "code",
   "execution_count": 7,
   "metadata": {},
   "outputs": [
    {
     "name": "stdout",
     "output_type": "stream",
     "text": [
      "this is an operations\n",
      "this is fun1 in c1\n",
      "this is fun2 in c2\n"
     ]
    }
   ],
   "source": [
    "class c1:\n",
    "    def fun1(self):\n",
    "        print \"this is fun1 in c1\"\n",
    "class c2:\n",
    "    def fun2(self):\n",
    "        print \"this is fun2 in c2\"\n",
    "class app(c1,c2):\n",
    "    def operations(self):\n",
    "        print \"this is an operations\"\n",
    "# call the operations,fun2,fun1 methods outside the class using an app instance.\n",
    "a1=app()\n",
    "a1.operations()\n",
    "a1.fun1()\n",
    "a1.fun2()"
   ]
  },
  {
   "cell_type": "code",
   "execution_count": 8,
   "metadata": {},
   "outputs": [
    {
     "name": "stdout",
     "output_type": "stream",
     "text": [
      "this is an operations\n",
      "this is fun1 in c1\n",
      "this is fun2 in c2\n"
     ]
    }
   ],
   "source": [
    "\n",
    "class app:\n",
    "    def operations(self):\n",
    "        print \"this is an operations\"\n",
    "    def fun2(self):\n",
    "        print \"this is fun2 in c2\"\n",
    "    def fun1(self):\n",
    "        print \"this is fun1 in c1\"\n",
    "# call the operations,fun2,fun1 methods outside the class using an app instance.\n",
    "a1=app()\n",
    "a1.operations()\n",
    "a1.fun1()\n",
    "a1.fun2()"
   ]
  },
  {
   "cell_type": "code",
   "execution_count": 11,
   "metadata": {},
   "outputs": [
    {
     "name": "stdout",
     "output_type": "stream",
     "text": [
      "this is leavecal in emp\n",
      "this is sal_cal\n"
     ]
    }
   ],
   "source": [
    "class emp:\n",
    "    def leavecal(self):\n",
    "        print \"this is leavecal in emp\"\n",
    "\n",
    "class emp_extra(emp):\n",
    "    def sal_cal(self):\n",
    "        print \"this is sal_cal\"\n",
    "    def own_leavecal(self):\n",
    "        print \"validate the fields\"\n",
    "        print \"this is leavecal in emp\"\n",
    "o1=emp_extra()\n",
    "o1.leavecal()\n",
    "o1.sal_cal()"
   ]
  },
  {
   "cell_type": "code",
   "execution_count": 12,
   "metadata": {},
   "outputs": [
    {
     "name": "stdout",
     "output_type": "stream",
     "text": [
      "validate the fields\n",
      "this is leavecal in emp\n",
      "this is sal_cal\n"
     ]
    }
   ],
   "source": [
    "class emp:\n",
    "    def leavecal(self):\n",
    "        print \"this is leavecal in emp\"\n",
    "\n",
    "class emp_extra(emp):\n",
    "    def sal_cal(self):\n",
    "        print \"this is sal_cal\"\n",
    "    def own_leavecal(self):\n",
    "        print \"validate the fields\"\n",
    "        print \"this is leavecal in emp\"\n",
    "o1=emp_extra()\n",
    "o1.own_leavecal()\n",
    "o1.sal_cal()"
   ]
  },
  {
   "cell_type": "code",
   "execution_count": 13,
   "metadata": {},
   "outputs": [
    {
     "name": "stdout",
     "output_type": "stream",
     "text": [
      "validate the fields\n",
      "this is leavecal in emp\n",
      "this is sal_cal\n"
     ]
    }
   ],
   "source": [
    "class emp:\n",
    "    def leavecal(self):\n",
    "        print \"this is leavecal in emp\"\n",
    "\n",
    "class emp_extra(emp):\n",
    "    def sal_cal(self):\n",
    "        print \"this is sal_cal\"\n",
    "    def own_leavecal(self):\n",
    "        print \"validate the fields\"\n",
    "        #print \"this is leavecal in emp\"\n",
    "        self.leavecal()\n",
    "o1=emp_extra()\n",
    "o1.own_leavecal()\n",
    "o1.sal_cal()"
   ]
  },
  {
   "cell_type": "code",
   "execution_count": 14,
   "metadata": {},
   "outputs": [
    {
     "name": "stdout",
     "output_type": "stream",
     "text": [
      "validate the fields\n",
      "this is leavecal in emp\n",
      "this is sal_cal\n",
      "this is leavecal in emp\n"
     ]
    }
   ],
   "source": [
    "class emp:\n",
    "    def leavecal(self):\n",
    "        print \"this is leavecal in emp\"\n",
    "\n",
    "class emp_extra(emp):\n",
    "    def sal_cal(self):\n",
    "        print \"this is sal_cal\"\n",
    "    def own_leavecal(self):\n",
    "        print \"validate the fields\"\n",
    "        #print \"this is leavecal in emp\"\n",
    "        self.leavecal()\n",
    "o1=emp_extra()\n",
    "o1.own_leavecal()\n",
    "o1.sal_cal()\n",
    "o1.leavecal()"
   ]
  },
  {
   "cell_type": "code",
   "execution_count": 15,
   "metadata": {},
   "outputs": [
    {
     "name": "stdout",
     "output_type": "stream",
     "text": [
      "this is sal_cal\n",
      "validate the fields\n",
      "this is leavecal in emp\n"
     ]
    }
   ],
   "source": [
    "class emp:\n",
    "    def leavecal(self):\n",
    "        print \"this is leavecal in emp\"\n",
    "\n",
    "class emp_extra(emp):\n",
    "    def sal_cal(self):\n",
    "        print \"this is sal_cal\"\n",
    "    def leavecal(self):\n",
    "        print \"validate the fields\"\n",
    "        print \"this is leavecal in emp\"\n",
    "        #self.leavecal()\n",
    "o1=emp_extra()\n",
    "o1.sal_cal()\n",
    "o1.leavecal()"
   ]
  },
  {
   "cell_type": "code",
   "execution_count": 16,
   "metadata": {},
   "outputs": [
    {
     "name": "stdout",
     "output_type": "stream",
     "text": [
      "this is sal_cal\n",
      "validate the fields\n",
      "this is leavecal in emp\n"
     ]
    }
   ],
   "source": [
    "class emp:\n",
    "    def leavecal(self):\n",
    "        print \"this is leavecal in emp\"\n",
    "\n",
    "class emp_extra(emp):\n",
    "    def sal_cal(self):\n",
    "        print \"this is sal_cal\"\n",
    "    def leavecal(self):\n",
    "        print \"validate the fields\"\n",
    "        #print \"this is leavecal in emp\"\n",
    "        # self.leavecal()\n",
    "        emp.leavecal(self)\n",
    "o1=emp_extra()\n",
    "o1.sal_cal()\n",
    "o1.leavecal()"
   ]
  },
  {
   "cell_type": "code",
   "execution_count": 19,
   "metadata": {},
   "outputs": [
    {
     "name": "stdout",
     "output_type": "stream",
     "text": [
      "insert into customer {'id': 2, 'name': 'cust1'}\n",
      "insert into supplier {'id': 2, 'name': 'sup1'}\n"
     ]
    }
   ],
   "source": [
    "class DB:\n",
    "    def __init__(self, table_name, data):\n",
    "        self.table=table_name\n",
    "        self.data=data\n",
    "    def insert(self):\n",
    "        print \"insert into %s %s\"%(self.table, self.data)\n",
    "    def delete(self):\n",
    "        print \"delete from %s where id=%s\"%self.data[\"id\"]\n",
    "    def update(self):\n",
    "        print \"updata %s set data=%s\"%(self.table, self.data)\n",
    "class Customer(DB):\n",
    "    pass\n",
    "class Supplier(DB):\n",
    "    pass\n",
    "cust1=Customer(data={\"id\":2,\"name\":\"cust1\"},table_name=\"customer\")\n",
    "cust1.insert()\n",
    "sup1=Supplier(data={\"id\":2,\"name\":\"sup1\"},table_name=\"supplier\")\n",
    "sup1.insert()"
   ]
  },
  {
   "cell_type": "code",
   "execution_count": 20,
   "metadata": {},
   "outputs": [
    {
     "name": "stdout",
     "output_type": "stream",
     "text": [
      "insert into customer {'id': 2, 'name': 'cust1'}\n",
      "validate the data\n",
      "insert into supplier {'id': 2, 'name': 'sup1'}\n"
     ]
    }
   ],
   "source": [
    "class DB:\n",
    "    def __init__(self, table_name, data):\n",
    "        self.table=table_name\n",
    "        self.data=data\n",
    "    def insert(self):\n",
    "        print \"insert into %s %s\"%(self.table, self.data)\n",
    "    def delete(self):\n",
    "        print \"delete from %s where id=%s\"%self.data[\"id\"]\n",
    "    def update(self):\n",
    "        print \"updata %s set data=%s\"%(self.table, self.data)\n",
    "class Customer(DB):\n",
    "    pass\n",
    "class Supplier(DB):\n",
    "    def validate_insert(self):\n",
    "        print \"validate the data\"\n",
    "        self.insert()\n",
    "cust1=Customer(data={\"id\":2,\"name\":\"cust1\"},table_name=\"customer\")\n",
    "cust1.insert()\n",
    "sup1=Supplier(data={\"id\":2,\"name\":\"sup1\"},table_name=\"supplier\")\n",
    "sup1.validate_insert()"
   ]
  },
  {
   "cell_type": "code",
   "execution_count": 21,
   "metadata": {},
   "outputs": [
    {
     "name": "stdout",
     "output_type": "stream",
     "text": [
      "insert into customer {'id': 2, 'name': 'cust1'}\n",
      "insert into supplier {'id': 2, 'name': 'sup1'}\n"
     ]
    }
   ],
   "source": [
    "class DB:\n",
    "    def __init__(self, table_name, data):\n",
    "        self.table=table_name\n",
    "        self.data=data\n",
    "    def insert(self):\n",
    "        print \"insert into %s %s\"%(self.table, self.data)\n",
    "    def delete(self):\n",
    "        print \"delete from %s where id=%s\"%self.data[\"id\"]\n",
    "    def update(self):\n",
    "        print \"updata %s set data=%s\"%(self.table, self.data)\n",
    "class Customer(DB):\n",
    "    pass\n",
    "class Supplier(DB):\n",
    "    def validate_insert(self):\n",
    "        print \"validate the data\"\n",
    "        self.insert()\n",
    "cust1=Customer(data={\"id\":2,\"name\":\"cust1\"},table_name=\"customer\")\n",
    "cust1.insert()\n",
    "sup1=Supplier(data={\"id\":2,\"name\":\"sup1\"},table_name=\"supplier\")\n",
    "sup1.insert()"
   ]
  },
  {
   "cell_type": "code",
   "execution_count": 22,
   "metadata": {},
   "outputs": [
    {
     "name": "stdout",
     "output_type": "stream",
     "text": [
      "insert into customer {'id': 2, 'name': 'cust1'}\n",
      "validate the data\n",
      "insert into supplier {'id': 2, 'name': 'sup1'}\n"
     ]
    }
   ],
   "source": [
    "class DB:\n",
    "    def __init__(self, table_name, data):\n",
    "        self.table=table_name\n",
    "        self.data=data\n",
    "    def insert(self):\n",
    "        print \"insert into %s %s\"%(self.table, self.data)\n",
    "    def delete(self):\n",
    "        print \"delete from %s where id=%s\"%self.data[\"id\"]\n",
    "    def update(self):\n",
    "        print \"updata %s set data=%s\"%(self.table, self.data)\n",
    "class Customer(DB):\n",
    "    pass\n",
    "class Supplier(DB):\n",
    "    def insert(self):\n",
    "        print \"validate the data\"\n",
    "        DB.insert(self)\n",
    "cust1=Customer(data={\"id\":2,\"name\":\"cust1\"},table_name=\"customer\")\n",
    "cust1.insert()\n",
    "sup1=Supplier(data={\"id\":2,\"name\":\"sup1\"},table_name=\"supplier\")\n",
    "sup1.insert()"
   ]
  },
  {
   "cell_type": "code",
   "execution_count": 23,
   "metadata": {},
   "outputs": [
    {
     "name": "stdout",
     "output_type": "stream",
     "text": [
      "this is fun1 in c1\n"
     ]
    }
   ],
   "source": [
    "class c1:\n",
    "    def fun1(self):\n",
    "        print \"this is fun1 in c1\"\n",
    "class c2(c1):\n",
    "    def fun2(self):\n",
    "        print \"this is fun2 in c2\"\n",
    "class app(c2):\n",
    "    def operations(self):\n",
    "        print \"this is operations\"\n",
    "o1=app()\n",
    "o1.fun1()"
   ]
  },
  {
   "cell_type": "code",
   "execution_count": 24,
   "metadata": {},
   "outputs": [
    {
     "name": "stdout",
     "output_type": "stream",
     "text": [
      "fun1 in app\n"
     ]
    }
   ],
   "source": [
    "class c1:\n",
    "    def fun1(self):\n",
    "        print \"this is fun1 in c1\"\n",
    "class c2(c1):\n",
    "    def fun2(self):\n",
    "        print \"this is fun2 in c2\"\n",
    "class app(c2):\n",
    "    def operations(self):\n",
    "        print \"this is operations\"\n",
    "    def fun1(self):\n",
    "        print \"fun1 in app\"\n",
    "o1=app()\n",
    "o1.fun1()"
   ]
  },
  {
   "cell_type": "code",
   "execution_count": 25,
   "metadata": {},
   "outputs": [
    {
     "name": "stdout",
     "output_type": "stream",
     "text": [
      "fun1 in c2\n"
     ]
    }
   ],
   "source": [
    "class c1:\n",
    "    def fun1(self):\n",
    "        print \"this is fun1 in c1\"\n",
    "class c2(c1):\n",
    "    def fun2(self):\n",
    "        print \"this is fun2 in c2\"\n",
    "    def fun1(self):\n",
    "        print \"fun1 in c2\"\n",
    "class app(c2):\n",
    "    def operations(self):\n",
    "        print \"this is operations\"\n",
    "    \n",
    "o1=app()\n",
    "o1.fun1()"
   ]
  },
  {
   "cell_type": "code",
   "execution_count": 1,
   "metadata": {},
   "outputs": [
    {
     "ename": "TypeError",
     "evalue": "__init__() takes exactly 3 arguments (1 given)",
     "output_type": "error",
     "traceback": [
      "\u001b[0;31m---------------------------------------------------------------------------\u001b[0m",
      "\u001b[0;31mTypeError\u001b[0m                                 Traceback (most recent call last)",
      "\u001b[0;32m<ipython-input-1-c806bdf179d1>\u001b[0m in \u001b[0;36m<module>\u001b[0;34m()\u001b[0m\n\u001b[1;32m      5\u001b[0m     \u001b[0;32mdef\u001b[0m \u001b[0mget\u001b[0m\u001b[0;34m(\u001b[0m\u001b[0mself\u001b[0m\u001b[0;34m)\u001b[0m\u001b[0;34m:\u001b[0m\u001b[0;34m\u001b[0m\u001b[0m\n\u001b[1;32m      6\u001b[0m         \u001b[0;32mreturn\u001b[0m \u001b[0mself\u001b[0m\u001b[0;34m.\u001b[0m\u001b[0ma\u001b[0m\u001b[0;34m,\u001b[0m\u001b[0mself\u001b[0m\u001b[0;34m.\u001b[0m\u001b[0mb\u001b[0m\u001b[0;34m\u001b[0m\u001b[0m\n\u001b[0;32m----> 7\u001b[0;31m \u001b[0mo1\u001b[0m\u001b[0;34m=\u001b[0m\u001b[0mc1\u001b[0m\u001b[0;34m(\u001b[0m\u001b[0;34m)\u001b[0m\u001b[0;34m\u001b[0m\u001b[0m\n\u001b[0m",
      "\u001b[0;31mTypeError\u001b[0m: __init__() takes exactly 3 arguments (1 given)"
     ]
    }
   ],
   "source": [
    "class c1:\n",
    "    def __init__(self,a,b):\n",
    "        self.a=a\n",
    "        self.b=b\n",
    "    def get(self):\n",
    "        return self.a,self.b\n",
    "o1=c1()"
   ]
  },
  {
   "cell_type": "code",
   "execution_count": 2,
   "metadata": {},
   "outputs": [
    {
     "name": "stdout",
     "output_type": "stream",
     "text": [
      "(100, 2000)\n"
     ]
    }
   ],
   "source": [
    "class c1:\n",
    "    def __init__(self,a,b):\n",
    "        self.a=a\n",
    "        self.b=b\n",
    "    def get(self):\n",
    "        return self.a,self.b\n",
    "o1=c1(100,2000)\n",
    "print o1.get()"
   ]
  },
  {
   "cell_type": "code",
   "execution_count": 3,
   "metadata": {},
   "outputs": [
    {
     "ename": "TypeError",
     "evalue": "__init__() takes exactly 3 arguments (1 given)",
     "output_type": "error",
     "traceback": [
      "\u001b[0;31m---------------------------------------------------------------------------\u001b[0m",
      "\u001b[0;31mTypeError\u001b[0m                                 Traceback (most recent call last)",
      "\u001b[0;32m<ipython-input-3-7ec412131ca2>\u001b[0m in \u001b[0;36m<module>\u001b[0;34m()\u001b[0m\n\u001b[1;32m      9\u001b[0m \u001b[0;32mclass\u001b[0m \u001b[0mc2\u001b[0m\u001b[0;34m(\u001b[0m\u001b[0mc1\u001b[0m\u001b[0;34m)\u001b[0m\u001b[0;34m:\u001b[0m\u001b[0;34m\u001b[0m\u001b[0m\n\u001b[1;32m     10\u001b[0m     \u001b[0;32mpass\u001b[0m\u001b[0;34m\u001b[0m\u001b[0m\n\u001b[0;32m---> 11\u001b[0;31m \u001b[0mo2\u001b[0m\u001b[0;34m=\u001b[0m\u001b[0mc2\u001b[0m\u001b[0;34m(\u001b[0m\u001b[0;34m)\u001b[0m\u001b[0;34m\u001b[0m\u001b[0m\n\u001b[0m\u001b[1;32m     12\u001b[0m \u001b[0mo2\u001b[0m\u001b[0;34m.\u001b[0m\u001b[0mget\u001b[0m\u001b[0;34m(\u001b[0m\u001b[0;34m)\u001b[0m\u001b[0;34m\u001b[0m\u001b[0m\n",
      "\u001b[0;31mTypeError\u001b[0m: __init__() takes exactly 3 arguments (1 given)"
     ]
    }
   ],
   "source": [
    "class c1:\n",
    "    def __init__(self,a,b):\n",
    "        print \"c1 constructor\"\n",
    "        self.a=a\n",
    "        self.b=b\n",
    "    def get(self):\n",
    "        return self.a,self.b\n",
    "\n",
    "class c2(c1):\n",
    "    pass\n",
    "o2=c2()\n",
    "o2.get()"
   ]
  },
  {
   "cell_type": "code",
   "execution_count": 5,
   "metadata": {},
   "outputs": [
    {
     "name": "stdout",
     "output_type": "stream",
     "text": [
      "c1 constructor\n",
      "(1000, 2000)\n"
     ]
    }
   ],
   "source": [
    "class c1:\n",
    "    def __init__(self,a,b):\n",
    "        print \"c1 constructor\"\n",
    "        self.a=a\n",
    "        self.b=b\n",
    "    def get(self):\n",
    "        return self.a,self.b\n",
    "\n",
    "class c2(c1):\n",
    "    pass\n",
    "o2=c2(1000,2000)\n",
    "print o2.get()"
   ]
  },
  {
   "cell_type": "code",
   "execution_count": 6,
   "metadata": {},
   "outputs": [
    {
     "ename": "AttributeError",
     "evalue": "c2 instance has no attribute 'a'",
     "output_type": "error",
     "traceback": [
      "\u001b[0;31m---------------------------------------------------------------------------\u001b[0m",
      "\u001b[0;31mAttributeError\u001b[0m                            Traceback (most recent call last)",
      "\u001b[0;32m<ipython-input-6-3b4950fd6d16>\u001b[0m in \u001b[0;36m<module>\u001b[0;34m()\u001b[0m\n\u001b[1;32m     13\u001b[0m         \u001b[0;32mreturn\u001b[0m \u001b[0mself\u001b[0m\u001b[0;34m.\u001b[0m\u001b[0ma\u001b[0m\u001b[0;34m,\u001b[0m\u001b[0mself\u001b[0m\u001b[0;34m.\u001b[0m\u001b[0mb\u001b[0m\u001b[0;34m,\u001b[0m\u001b[0mself\u001b[0m\u001b[0;34m.\u001b[0m\u001b[0mc\u001b[0m\u001b[0;34m\u001b[0m\u001b[0m\n\u001b[1;32m     14\u001b[0m \u001b[0mo2\u001b[0m\u001b[0;34m=\u001b[0m\u001b[0mc2\u001b[0m\u001b[0;34m(\u001b[0m\u001b[0;36m1000\u001b[0m\u001b[0;34m)\u001b[0m\u001b[0;34m\u001b[0m\u001b[0m\n\u001b[0;32m---> 15\u001b[0;31m \u001b[0;32mprint\u001b[0m \u001b[0mo2\u001b[0m\u001b[0;34m.\u001b[0m\u001b[0mget\u001b[0m\u001b[0;34m(\u001b[0m\u001b[0;34m)\u001b[0m\u001b[0;34m\u001b[0m\u001b[0m\n\u001b[0m",
      "\u001b[0;32m<ipython-input-6-3b4950fd6d16>\u001b[0m in \u001b[0;36mget\u001b[0;34m(self)\u001b[0m\n\u001b[1;32m     11\u001b[0m         \u001b[0mself\u001b[0m\u001b[0;34m.\u001b[0m\u001b[0mc\u001b[0m\u001b[0;34m=\u001b[0m\u001b[0mc\u001b[0m\u001b[0;34m\u001b[0m\u001b[0m\n\u001b[1;32m     12\u001b[0m     \u001b[0;32mdef\u001b[0m \u001b[0mget\u001b[0m\u001b[0;34m(\u001b[0m\u001b[0mself\u001b[0m\u001b[0;34m)\u001b[0m\u001b[0;34m:\u001b[0m\u001b[0;34m\u001b[0m\u001b[0m\n\u001b[0;32m---> 13\u001b[0;31m         \u001b[0;32mreturn\u001b[0m \u001b[0mself\u001b[0m\u001b[0;34m.\u001b[0m\u001b[0ma\u001b[0m\u001b[0;34m,\u001b[0m\u001b[0mself\u001b[0m\u001b[0;34m.\u001b[0m\u001b[0mb\u001b[0m\u001b[0;34m,\u001b[0m\u001b[0mself\u001b[0m\u001b[0;34m.\u001b[0m\u001b[0mc\u001b[0m\u001b[0;34m\u001b[0m\u001b[0m\n\u001b[0m\u001b[1;32m     14\u001b[0m \u001b[0mo2\u001b[0m\u001b[0;34m=\u001b[0m\u001b[0mc2\u001b[0m\u001b[0;34m(\u001b[0m\u001b[0;36m1000\u001b[0m\u001b[0;34m)\u001b[0m\u001b[0;34m\u001b[0m\u001b[0m\n\u001b[1;32m     15\u001b[0m \u001b[0;32mprint\u001b[0m \u001b[0mo2\u001b[0m\u001b[0;34m.\u001b[0m\u001b[0mget\u001b[0m\u001b[0;34m(\u001b[0m\u001b[0;34m)\u001b[0m\u001b[0;34m\u001b[0m\u001b[0m\n",
      "\u001b[0;31mAttributeError\u001b[0m: c2 instance has no attribute 'a'"
     ]
    }
   ],
   "source": [
    "class c1:\n",
    "    def __init__(self,a,b):\n",
    "        print \"c1 constructor\"\n",
    "        self.a=a\n",
    "        self.b=b\n",
    "    def get(self):\n",
    "        return self.a,self.b\n",
    "\n",
    "class c2(c1):\n",
    "    def __init__(self,c):\n",
    "        self.c=c\n",
    "    def get(self):\n",
    "        return self.a,self.b,self.c\n",
    "o2=c2(1000)\n",
    "print o2.get()"
   ]
  },
  {
   "cell_type": "code",
   "execution_count": 7,
   "metadata": {},
   "outputs": [
    {
     "ename": "TypeError",
     "evalue": "__init__() takes exactly 2 arguments (4 given)",
     "output_type": "error",
     "traceback": [
      "\u001b[0;31m---------------------------------------------------------------------------\u001b[0m",
      "\u001b[0;31mTypeError\u001b[0m                                 Traceback (most recent call last)",
      "\u001b[0;32m<ipython-input-7-83dacdf54995>\u001b[0m in \u001b[0;36m<module>\u001b[0;34m()\u001b[0m\n\u001b[1;32m     12\u001b[0m     \u001b[0;32mdef\u001b[0m \u001b[0mget\u001b[0m\u001b[0;34m(\u001b[0m\u001b[0mself\u001b[0m\u001b[0;34m)\u001b[0m\u001b[0;34m:\u001b[0m\u001b[0;34m\u001b[0m\u001b[0m\n\u001b[1;32m     13\u001b[0m         \u001b[0;32mreturn\u001b[0m \u001b[0mself\u001b[0m\u001b[0;34m.\u001b[0m\u001b[0ma\u001b[0m\u001b[0;34m,\u001b[0m\u001b[0mself\u001b[0m\u001b[0;34m.\u001b[0m\u001b[0mb\u001b[0m\u001b[0;34m,\u001b[0m\u001b[0mself\u001b[0m\u001b[0;34m.\u001b[0m\u001b[0mc\u001b[0m\u001b[0;34m\u001b[0m\u001b[0m\n\u001b[0;32m---> 14\u001b[0;31m \u001b[0mo2\u001b[0m\u001b[0;34m=\u001b[0m\u001b[0mc2\u001b[0m\u001b[0;34m(\u001b[0m\u001b[0;36m1000\u001b[0m\u001b[0;34m,\u001b[0m\u001b[0;36m2000\u001b[0m\u001b[0;34m,\u001b[0m\u001b[0;36m3000\u001b[0m\u001b[0;34m)\u001b[0m\u001b[0;34m\u001b[0m\u001b[0m\n\u001b[0m\u001b[1;32m     15\u001b[0m \u001b[0;32mprint\u001b[0m \u001b[0mo2\u001b[0m\u001b[0;34m.\u001b[0m\u001b[0mget\u001b[0m\u001b[0;34m(\u001b[0m\u001b[0;34m)\u001b[0m\u001b[0;34m\u001b[0m\u001b[0m\n",
      "\u001b[0;31mTypeError\u001b[0m: __init__() takes exactly 2 arguments (4 given)"
     ]
    }
   ],
   "source": [
    "class c1:\n",
    "    def __init__(self,a,b):\n",
    "        print \"c1 constructor\"\n",
    "        self.a=a\n",
    "        self.b=b\n",
    "    def get(self):\n",
    "        return self.a,self.b\n",
    "\n",
    "class c2(c1):\n",
    "    def __init__(self,c):\n",
    "        self.c=c\n",
    "    def get(self):\n",
    "        return self.a,self.b,self.c\n",
    "o2=c2(1000,2000,3000)\n",
    "print o2.get()"
   ]
  },
  {
   "cell_type": "code",
   "execution_count": 8,
   "metadata": {},
   "outputs": [
    {
     "name": "stdout",
     "output_type": "stream",
     "text": [
      "c1 constructor\n",
      "(2000, 3000, 1000)\n"
     ]
    }
   ],
   "source": [
    "class c1:\n",
    "    def __init__(self,a,b):\n",
    "        print \"c1 constructor\"\n",
    "        self.a=a\n",
    "        self.b=b\n",
    "    def get(self):\n",
    "        return self.a,self.b\n",
    "\n",
    "class c2(c1):\n",
    "    def __init__(self,c,a,b):\n",
    "        self.c=c\n",
    "        c1.__init__(self,a,b)\n",
    "    def get(self):\n",
    "        return self.a,self.b,self.c\n",
    "o2=c2(1000,2000,3000)\n",
    "print o2.get()"
   ]
  },
  {
   "cell_type": "code",
   "execution_count": 9,
   "metadata": {},
   "outputs": [
    {
     "name": "stdout",
     "output_type": "stream",
     "text": [
      "c1 constructor\n",
      "(2000, 3000, 1000)\n"
     ]
    }
   ],
   "source": [
    "class c1:\n",
    "    def __init__(self,a,b):\n",
    "        print \"c1 constructor\"\n",
    "        self.a=a\n",
    "        self.b=b\n",
    "    def get(self):\n",
    "        return self.a,self.b\n",
    "\n",
    "class c2(c1):\n",
    "    def __init__(self,c,a,b):\n",
    "        self.c=c\n",
    "        c1.__init__(self,a,b)\n",
    "    def get(self):\n",
    "        return c1.get(self)+(self.c,)\n",
    "o2=c2(1000,2000,3000)\n",
    "print o2.get()"
   ]
  },
  {
   "cell_type": "code",
   "execution_count": 10,
   "metadata": {},
   "outputs": [
    {
     "ename": "NameError",
     "evalue": "name 'a123' is not defined",
     "output_type": "error",
     "traceback": [
      "\u001b[0;31m---------------------------------------------------------------------------\u001b[0m",
      "\u001b[0;31mNameError\u001b[0m                                 Traceback (most recent call last)",
      "\u001b[0;32m<ipython-input-10-03f718b7a20b>\u001b[0m in \u001b[0;36m<module>\u001b[0;34m()\u001b[0m\n\u001b[1;32m      3\u001b[0m     \u001b[0ma123\u001b[0m\u001b[0;34m=\u001b[0m\u001b[0;36m1000\u001b[0m\u001b[0;34m\u001b[0m\u001b[0m\n\u001b[1;32m      4\u001b[0m \u001b[0mfun\u001b[0m\u001b[0;34m(\u001b[0m\u001b[0;34m)\u001b[0m\u001b[0;34m\u001b[0m\u001b[0m\n\u001b[0;32m----> 5\u001b[0;31m \u001b[0;32mprint\u001b[0m \u001b[0ma123\u001b[0m\u001b[0;34m\u001b[0m\u001b[0m\n\u001b[0m",
      "\u001b[0;31mNameError\u001b[0m: name 'a123' is not defined"
     ]
    }
   ],
   "source": [
    "# encapsulation: flexible security\n",
    "def fun():\n",
    "    a123=1000\n",
    "    b123=2000\n",
    "    c123=3000\n",
    "fun()\n",
    "print a123"
   ]
  },
  {
   "cell_type": "code",
   "execution_count": 13,
   "metadata": {},
   "outputs": [
    {
     "name": "stdout",
     "output_type": "stream",
     "text": [
      "22000.0\n"
     ]
    }
   ],
   "source": [
    "class Emp:\n",
    "    def __init__(self,e_id,sal,incp):\n",
    "        self.id=e_id\n",
    "        self.sal=sal\n",
    "        self.incp=incp\n",
    "    def sal_cal(self):\n",
    "        return self.sal+self.sal*(self.incp/100.0)\n",
    "    def get(self):\n",
    "        return self.id,self.sal,self.incp\n",
    "anil = Emp(229,20000,10)\n",
    "print anil.sal_cal()\n"
   ]
  },
  {
   "cell_type": "code",
   "execution_count": 14,
   "metadata": {},
   "outputs": [
    {
     "name": "stdout",
     "output_type": "stream",
     "text": [
      "(229, 20000, 100)\n",
      "40000.0\n"
     ]
    }
   ],
   "source": [
    "class Emp:\n",
    "    def __init__(self,e_id,sal,incp):\n",
    "        self.id=e_id\n",
    "        self.sal=sal\n",
    "        self.incp=incp\n",
    "    def sal_cal(self):\n",
    "        return self.sal+self.sal*(self.incp/100.0)\n",
    "    def get(self):\n",
    "        return self.id,self.sal,self.incp\n",
    "anil = Emp(229,20000,10)\n",
    "if anil.id==229:\n",
    "    anil.incp=100\n",
    "print anil.get()\n",
    "print anil.sal_cal()\n"
   ]
  },
  {
   "cell_type": "code",
   "execution_count": 15,
   "metadata": {},
   "outputs": [
    {
     "name": "stdout",
     "output_type": "stream",
     "text": [
      "(229, 20000, 100)\n",
      "40000.0\n",
      "(230, 20000, 10)\n",
      "22000.0\n"
     ]
    }
   ],
   "source": [
    "class Emp:\n",
    "    def __init__(self,e_id,sal,incp):\n",
    "        self.id=e_id\n",
    "        self.sal=sal\n",
    "        self.incp=incp\n",
    "    def sal_cal(self):\n",
    "        return self.sal+self.sal*(self.incp/100.0)\n",
    "    def get(self):\n",
    "        return self.id,self.sal,self.incp\n",
    "anil = Emp(229,20000,10)\n",
    "anil1 = Emp(230,20000,10)\n",
    "if anil.id==229:\n",
    "    anil.incp=100\n",
    "print anil.get()\n",
    "print anil.sal_cal()\n",
    "print anil1.get()\n",
    "print anil1.sal_cal()"
   ]
  },
  {
   "cell_type": "code",
   "execution_count": 17,
   "metadata": {},
   "outputs": [
    {
     "name": "stdout",
     "output_type": "stream",
     "text": [
      "changing the value\n",
      "(229, 20000, 10)\n",
      "22000.0\n",
      "(230, 20000, 10)\n",
      "22000.0\n"
     ]
    }
   ],
   "source": [
    "class Emp:\n",
    "    def __init__(self,e_id,sal,incp):\n",
    "        self.id=e_id\n",
    "        self.sal=sal\n",
    "        self.__incp=incp # secured variable\n",
    "    def sal_cal(self):\n",
    "        return self.sal+self.sal*(self.__incp/100.0)\n",
    "    def get(self):\n",
    "        return self.id,self.sal,self.__incp\n",
    "anil = Emp(229,20000,10)\n",
    "anil1 = Emp(230,20000,10)\n",
    "if anil.id==229:\n",
    "    print \"changing the value\"\n",
    "    anil.__incp=100\n",
    "print anil.get()\n",
    "print anil.sal_cal()\n",
    "print anil1.get()\n",
    "print anil1.sal_cal()"
   ]
  },
  {
   "cell_type": "code",
   "execution_count": 18,
   "metadata": {},
   "outputs": [
    {
     "name": "stdout",
     "output_type": "stream",
     "text": [
      "changing the value\n",
      "(229, 20000, 100)\n",
      "40000.0\n",
      "(230, 20000, 10)\n",
      "22000.0\n"
     ]
    }
   ],
   "source": [
    "class Emp:\n",
    "    def __init__(self,e_id,sal,incp):\n",
    "        self.id=e_id\n",
    "        self.sal=sal\n",
    "        self.__incp__=incp \n",
    "    def sal_cal(self):\n",
    "        return self.sal+self.sal*(self.__incp__/100.0)\n",
    "    def get(self):\n",
    "        return self.id,self.sal,self.__incp__\n",
    "anil = Emp(229,20000,10)\n",
    "anil1 = Emp(230,20000,10)\n",
    "if anil.id==229:\n",
    "    print \"changing the value\"\n",
    "    anil.__incp__=100\n",
    "print anil.get()\n",
    "print anil.sal_cal()\n",
    "print anil1.get()\n",
    "print anil1.sal_cal()"
   ]
  },
  {
   "cell_type": "code",
   "execution_count": 19,
   "metadata": {},
   "outputs": [
    {
     "name": "stdout",
     "output_type": "stream",
     "text": [
      "changing the value\n",
      "(229, 20000, 10)\n",
      "22000.0\n",
      "(230, 20000, 20)\n",
      "24000.0\n"
     ]
    }
   ],
   "source": [
    "class Emp:\n",
    "    def __init__(self,e_id,sal,incp):\n",
    "        self.id=e_id\n",
    "        self.sal=sal\n",
    "        self.__incp=incp # secured variable\n",
    "    def change_incep(self):\n",
    "        self.__incp = 20\n",
    "    def sal_cal(self):\n",
    "        return self.sal+self.sal*(self.__incp/100.0)\n",
    "    def get(self):\n",
    "        return self.id,self.sal,self.__incp\n",
    "anil = Emp(229,20000,10)\n",
    "anil1 = Emp(230,20000,10)\n",
    "if anil.id==229:\n",
    "    print \"changing the value\"\n",
    "    anil.__incp=100\n",
    "print anil.get()\n",
    "print anil.sal_cal()\n",
    "anil1.change_incep()\n",
    "print anil1.get()\n",
    "print anil1.sal_cal()"
   ]
  },
  {
   "cell_type": "code",
   "execution_count": 24,
   "metadata": {},
   "outputs": [
    {
     "name": "stdout",
     "output_type": "stream",
     "text": [
      "changing the value\n",
      "(229, 20000, 15)\n",
      "23000.0\n",
      "(230, 20000, 10)\n",
      "22000.0\n"
     ]
    }
   ],
   "source": [
    "class Emp:\n",
    "    def __init__(self,e_id,sal,incp,team):\n",
    "        self.id=e_id\n",
    "        self.sal=sal\n",
    "        self.team = team\n",
    "        self.__incp=incp \n",
    "        if self.team==\"l1\":\n",
    "            self.__change_incep()\n",
    "        # secured variable\n",
    "    def __change_incep(self):\n",
    "        self.__incp=self.__incp+5\n",
    "    def sal_cal(self):\n",
    "        return self.sal+self.sal*(self.__incp/100.0)\n",
    "    def get(self):\n",
    "        return self.id,self.sal,self.__incp\n",
    "anil = Emp(229,20000,10,\"l1\")\n",
    "anil1 = Emp(230,20000,10,\"l2\")\n",
    "if anil.id==229:\n",
    "    print \"changing the value\"\n",
    "    anil.__incp=100\n",
    "print anil.get()\n",
    "print anil.sal_cal()\n",
    "\n",
    "print anil1.get()\n",
    "print anil1.sal_cal()"
   ]
  },
  {
   "cell_type": "code",
   "execution_count": 26,
   "metadata": {},
   "outputs": [
    {
     "name": "stdout",
     "output_type": "stream",
     "text": [
      "(229, 20000, 15)\n",
      "23000.0\n",
      "(230, 20000, 10)\n",
      "22000.0\n"
     ]
    },
    {
     "ename": "AttributeError",
     "evalue": "Emp instance has no attribute '__incp'",
     "output_type": "error",
     "traceback": [
      "\u001b[0;31m---------------------------------------------------------------------------\u001b[0m",
      "\u001b[0;31mAttributeError\u001b[0m                            Traceback (most recent call last)",
      "\u001b[0;32m<ipython-input-26-a9e626e3a2e4>\u001b[0m in \u001b[0;36m<module>\u001b[0;34m()\u001b[0m\n\u001b[1;32m     22\u001b[0m \u001b[0;32mprint\u001b[0m \u001b[0manil1\u001b[0m\u001b[0;34m.\u001b[0m\u001b[0mget\u001b[0m\u001b[0;34m(\u001b[0m\u001b[0;34m)\u001b[0m\u001b[0;34m\u001b[0m\u001b[0m\n\u001b[1;32m     23\u001b[0m \u001b[0;32mprint\u001b[0m \u001b[0manil1\u001b[0m\u001b[0;34m.\u001b[0m\u001b[0msal_cal\u001b[0m\u001b[0;34m(\u001b[0m\u001b[0;34m)\u001b[0m\u001b[0;34m\u001b[0m\u001b[0m\n\u001b[0;32m---> 24\u001b[0;31m \u001b[0;32mprint\u001b[0m \u001b[0manil\u001b[0m\u001b[0;34m.\u001b[0m\u001b[0m__incp\u001b[0m\u001b[0;34m\u001b[0m\u001b[0m\n\u001b[0m",
      "\u001b[0;31mAttributeError\u001b[0m: Emp instance has no attribute '__incp'"
     ]
    }
   ],
   "source": [
    "class Emp:\n",
    "    def __init__(self,e_id,sal,incp,team):\n",
    "        self.id=e_id\n",
    "        self.sal=sal\n",
    "        self.team = team\n",
    "        self.__incp=incp \n",
    "        if self.team==\"l1\":\n",
    "            self.__change_incep()\n",
    "        # secured variable\n",
    "    def __change_incep(self):\n",
    "        self.__incp=self.__incp+5\n",
    "    def sal_cal(self):\n",
    "        return self.sal+self.sal*(self.__incp/100.0)\n",
    "    def get(self):\n",
    "        return self.id,self.sal,self.__incp\n",
    "anil = Emp(229,20000,10,\"l1\")\n",
    "anil1 = Emp(230,20000,10,\"l2\")\n",
    "\n",
    "print anil.get()\n",
    "print anil.sal_cal()\n",
    "\n",
    "print anil1.get()\n",
    "print anil1.sal_cal()\n",
    "print anil.__incp"
   ]
  },
  {
   "cell_type": "code",
   "execution_count": 27,
   "metadata": {},
   "outputs": [
    {
     "name": "stdout",
     "output_type": "stream",
     "text": [
      "30\n",
      "str1str2\n",
      "[1, 2, 3, 4, 5, 6, 7, 8]\n",
      "(3+6j)\n"
     ]
    }
   ],
   "source": [
    "a=10\n",
    "b=20\n",
    "print a+b\n",
    "a=\"str1\"\n",
    "b=\"str2\"\n",
    "print a+b\n",
    "a=[1,2,3,4]\n",
    "b=[5,6,7,8]\n",
    "print a+b\n",
    "c1=1+2j\n",
    "c2=2+4j\n",
    "print c1+c2"
   ]
  },
  {
   "cell_type": "code",
   "execution_count": 28,
   "metadata": {},
   "outputs": [
    {
     "ename": "TypeError",
     "evalue": "unsupported operand type(s) for +: 'instance' and 'instance'",
     "output_type": "error",
     "traceback": [
      "\u001b[0;31m---------------------------------------------------------------------------\u001b[0m",
      "\u001b[0;31mTypeError\u001b[0m                                 Traceback (most recent call last)",
      "\u001b[0;32m<ipython-input-28-ca93f974dc9a>\u001b[0m in \u001b[0;36m<module>\u001b[0;34m()\u001b[0m\n\u001b[1;32m      5\u001b[0m \u001b[0me1\u001b[0m\u001b[0;34m=\u001b[0m\u001b[0mEmp\u001b[0m\u001b[0;34m(\u001b[0m\u001b[0;36m26\u001b[0m\u001b[0;34m,\u001b[0m\u001b[0;36m228\u001b[0m\u001b[0;34m)\u001b[0m\u001b[0;34m\u001b[0m\u001b[0m\n\u001b[1;32m      6\u001b[0m \u001b[0me2\u001b[0m\u001b[0;34m=\u001b[0m\u001b[0mEmp\u001b[0m\u001b[0;34m(\u001b[0m\u001b[0;36m27\u001b[0m\u001b[0;34m,\u001b[0m\u001b[0;36m227\u001b[0m\u001b[0;34m)\u001b[0m\u001b[0;34m\u001b[0m\u001b[0m\n\u001b[0;32m----> 7\u001b[0;31m \u001b[0;32mprint\u001b[0m \u001b[0me1\u001b[0m\u001b[0;34m+\u001b[0m\u001b[0me2\u001b[0m\u001b[0;34m\u001b[0m\u001b[0m\n\u001b[0m",
      "\u001b[0;31mTypeError\u001b[0m: unsupported operand type(s) for +: 'instance' and 'instance'"
     ]
    }
   ],
   "source": [
    "class Emp:\n",
    "    def __init__(self, age,e_id):\n",
    "        self.id=e_id\n",
    "        self.age=age\n",
    "e1=Emp(26,228)\n",
    "e2=Emp(27,227)\n",
    "print e1+e2"
   ]
  },
  {
   "cell_type": "code",
   "execution_count": 29,
   "metadata": {},
   "outputs": [
    {
     "ename": "TypeError",
     "evalue": "unsupported operand type(s) for +: 'dict' and 'dict'",
     "output_type": "error",
     "traceback": [
      "\u001b[0;31m---------------------------------------------------------------------------\u001b[0m",
      "\u001b[0;31mTypeError\u001b[0m                                 Traceback (most recent call last)",
      "\u001b[0;32m<ipython-input-29-4f7aa6ec0c21>\u001b[0m in \u001b[0;36m<module>\u001b[0;34m()\u001b[0m\n\u001b[1;32m      1\u001b[0m \u001b[0md1\u001b[0m\u001b[0;34m=\u001b[0m\u001b[0;34m{\u001b[0m\u001b[0;36m1\u001b[0m\u001b[0;34m:\u001b[0m\u001b[0;36m2\u001b[0m\u001b[0;34m,\u001b[0m\u001b[0;36m3\u001b[0m\u001b[0;34m:\u001b[0m\u001b[0;36m4\u001b[0m\u001b[0;34m}\u001b[0m\u001b[0;34m\u001b[0m\u001b[0m\n\u001b[1;32m      2\u001b[0m \u001b[0md2\u001b[0m\u001b[0;34m=\u001b[0m\u001b[0;34m{\u001b[0m\u001b[0;36m5\u001b[0m\u001b[0;34m:\u001b[0m\u001b[0;36m6\u001b[0m\u001b[0;34m,\u001b[0m\u001b[0;36m7\u001b[0m\u001b[0;34m:\u001b[0m\u001b[0;36m8\u001b[0m\u001b[0;34m}\u001b[0m\u001b[0;34m\u001b[0m\u001b[0m\n\u001b[0;32m----> 3\u001b[0;31m \u001b[0;32mprint\u001b[0m \u001b[0md1\u001b[0m\u001b[0;34m+\u001b[0m\u001b[0md2\u001b[0m\u001b[0;34m\u001b[0m\u001b[0m\n\u001b[0m",
      "\u001b[0;31mTypeError\u001b[0m: unsupported operand type(s) for +: 'dict' and 'dict'"
     ]
    }
   ],
   "source": [
    "d1={1:2,3:4}\n",
    "d2={5:6,7:8}\n",
    "print d1+d2"
   ]
  },
  {
   "cell_type": "code",
   "execution_count": 30,
   "metadata": {},
   "outputs": [
    {
     "name": "stdout",
     "output_type": "stream",
     "text": [
      "True\n"
     ]
    }
   ],
   "source": [
    "class Emp:\n",
    "    def __init__(self, age,e_id):\n",
    "        self.id=e_id\n",
    "        self.age=age\n",
    "e1=Emp(26,228)\n",
    "e2=Emp(27,227)\n",
    "print e1>e2"
   ]
  },
  {
   "cell_type": "code",
   "execution_count": 32,
   "metadata": {},
   "outputs": [
    {
     "ename": "TypeError",
     "evalue": "iteration over non-sequence",
     "output_type": "error",
     "traceback": [
      "\u001b[0;31m---------------------------------------------------------------------------\u001b[0m",
      "\u001b[0;31mTypeError\u001b[0m                                 Traceback (most recent call last)",
      "\u001b[0;32m<ipython-input-32-661def9571fb>\u001b[0m in \u001b[0;36m<module>\u001b[0;34m()\u001b[0m\n\u001b[1;32m      6\u001b[0m \u001b[0me2\u001b[0m\u001b[0;34m=\u001b[0m\u001b[0mEmp\u001b[0m\u001b[0;34m(\u001b[0m\u001b[0;36m27\u001b[0m\u001b[0;34m,\u001b[0m\u001b[0;36m227\u001b[0m\u001b[0;34m)\u001b[0m\u001b[0;34m\u001b[0m\u001b[0m\n\u001b[1;32m      7\u001b[0m \u001b[0;34m\u001b[0m\u001b[0m\n\u001b[0;32m----> 8\u001b[0;31m \u001b[0;32mfor\u001b[0m \u001b[0mi\u001b[0m \u001b[0;32min\u001b[0m \u001b[0me1\u001b[0m\u001b[0;34m:\u001b[0m\u001b[0;34m\u001b[0m\u001b[0m\n\u001b[0m\u001b[1;32m      9\u001b[0m     \u001b[0;32mprint\u001b[0m \u001b[0mi\u001b[0m\u001b[0;34m\u001b[0m\u001b[0m\n",
      "\u001b[0;31mTypeError\u001b[0m: iteration over non-sequence"
     ]
    }
   ],
   "source": [
    "class Emp:\n",
    "    def __init__(self, age,e_id):\n",
    "        self.id=e_id\n",
    "        self.age=age\n",
    "e1=Emp(26,228)\n",
    "e2=Emp(27,227)\n",
    "\n",
    "for i in e1:\n",
    "    print i"
   ]
  },
  {
   "cell_type": "code",
   "execution_count": 1,
   "metadata": {
    "collapsed": true
   },
   "outputs": [],
   "source": [
    "#operator overloading\n",
    "#method overloading\n",
    "#method overriding\n"
   ]
  },
  {
   "cell_type": "code",
   "execution_count": 2,
   "metadata": {},
   "outputs": [
    {
     "name": "stdout",
     "output_type": "stream",
     "text": [
      "30\n"
     ]
    },
    {
     "ename": "TypeError",
     "evalue": "fun() takes exactly 2 arguments (3 given)",
     "output_type": "error",
     "traceback": [
      "\u001b[0;31m---------------------------------------------------------------------------\u001b[0m",
      "\u001b[0;31mTypeError\u001b[0m                                 Traceback (most recent call last)",
      "\u001b[0;32m<ipython-input-2-2cb943674f75>\u001b[0m in \u001b[0;36m<module>\u001b[0;34m()\u001b[0m\n\u001b[1;32m      3\u001b[0m     \u001b[0;32mreturn\u001b[0m \u001b[0ma\u001b[0m\u001b[0;34m+\u001b[0m\u001b[0mb\u001b[0m\u001b[0;34m\u001b[0m\u001b[0m\n\u001b[1;32m      4\u001b[0m \u001b[0;32mprint\u001b[0m \u001b[0mfun\u001b[0m\u001b[0;34m(\u001b[0m\u001b[0;36m10\u001b[0m\u001b[0;34m,\u001b[0m\u001b[0;36m20\u001b[0m\u001b[0;34m)\u001b[0m\u001b[0;34m\u001b[0m\u001b[0m\n\u001b[0;32m----> 5\u001b[0;31m \u001b[0;32mprint\u001b[0m \u001b[0mfun\u001b[0m\u001b[0;34m(\u001b[0m\u001b[0;36m10\u001b[0m\u001b[0;34m,\u001b[0m\u001b[0;36m20\u001b[0m\u001b[0;34m,\u001b[0m\u001b[0;36m30\u001b[0m\u001b[0;34m)\u001b[0m\u001b[0;34m\u001b[0m\u001b[0m\n\u001b[0m",
      "\u001b[0;31mTypeError\u001b[0m: fun() takes exactly 2 arguments (3 given)"
     ]
    }
   ],
   "source": [
    "\n",
    "def fun(a,b):\n",
    "    return a+b\n",
    "print fun(10,20)\n",
    "print fun(10,20,30)"
   ]
  },
  {
   "cell_type": "code",
   "execution_count": 3,
   "metadata": {},
   "outputs": [
    {
     "ename": "TypeError",
     "evalue": "__init__() got an unexpected keyword argument 'pan'",
     "output_type": "error",
     "traceback": [
      "\u001b[0;31m---------------------------------------------------------------------------\u001b[0m",
      "\u001b[0;31mTypeError\u001b[0m                                 Traceback (most recent call last)",
      "\u001b[0;32m<ipython-input-3-f7ff2995b518>\u001b[0m in \u001b[0;36m<module>\u001b[0;34m()\u001b[0m\n\u001b[1;32m      4\u001b[0m         \u001b[0mself\u001b[0m\u001b[0;34m.\u001b[0m\u001b[0mage\u001b[0m\u001b[0;34m=\u001b[0m\u001b[0mage\u001b[0m\u001b[0;34m\u001b[0m\u001b[0m\n\u001b[1;32m      5\u001b[0m \u001b[0mo1\u001b[0m\u001b[0;34m=\u001b[0m\u001b[0mc1\u001b[0m\u001b[0;34m(\u001b[0m\u001b[0;34m\"anil\"\u001b[0m\u001b[0;34m,\u001b[0m\u001b[0;36m23\u001b[0m\u001b[0;34m)\u001b[0m\u001b[0;34m\u001b[0m\u001b[0m\n\u001b[0;32m----> 6\u001b[0;31m \u001b[0mo2\u001b[0m\u001b[0;34m=\u001b[0m\u001b[0mc1\u001b[0m\u001b[0;34m(\u001b[0m\u001b[0;34m\"ajay\"\u001b[0m\u001b[0;34m,\u001b[0m\u001b[0;36m24\u001b[0m\u001b[0;34m,\u001b[0m\u001b[0mpan\u001b[0m\u001b[0;34m=\u001b[0m\u001b[0;34m\"ERTREW234\"\u001b[0m\u001b[0;34m)\u001b[0m\u001b[0;34m\u001b[0m\u001b[0m\n\u001b[0m\u001b[1;32m      7\u001b[0m \u001b[0mo2\u001b[0m\u001b[0;34m=\u001b[0m\u001b[0mc1\u001b[0m\u001b[0;34m(\u001b[0m\u001b[0;34m\"jay\"\u001b[0m\u001b[0;34m,\u001b[0m\u001b[0;36m24\u001b[0m\u001b[0;34m,\u001b[0m\u001b[0mpan\u001b[0m\u001b[0;34m=\u001b[0m\u001b[0;34m\"ERTREW234\"\u001b[0m\u001b[0;34m,\u001b[0m\u001b[0madhar\u001b[0m\u001b[0;34m=\u001b[0m\u001b[0;34m\"2345678432\"\u001b[0m\u001b[0;34m)\u001b[0m\u001b[0;34m\u001b[0m\u001b[0m\n",
      "\u001b[0;31mTypeError\u001b[0m: __init__() got an unexpected keyword argument 'pan'"
     ]
    }
   ],
   "source": [
    "class c1:\n",
    "    def __init__(self,name,age):\n",
    "        self.name=name\n",
    "        self.age=age\n",
    "o1=c1(\"anil\",23)\n",
    "o2=c1(\"ajay\",24,pan=\"ERTREW234\")\n",
    "o2=c1(\"jay\",24,pan=\"ERTREW234\",adhar=\"2345678432\")"
   ]
  },
  {
   "cell_type": "code",
   "execution_count": 5,
   "metadata": {
    "collapsed": true
   },
   "outputs": [],
   "source": [
    "#method overloading using default arguments\n",
    "class c1:\n",
    "    def __init__(self,name,age,pan=\"\",adhar=\"\",cell=\"\"):\n",
    "        self.name=name\n",
    "        self.age=age\n",
    "        self.adhar=adhar\n",
    "        self.pan=pan\n",
    "        self.cell=cell\n",
    "o1=c1(\"anil\",23)\n",
    "o2=c1(\"ajay\",24,pan=\"ERTREW234\")\n",
    "o2=c1(\"jay\",24,pan=\"ERTREW234\",adhar=\"2345678432\")"
   ]
  },
  {
   "cell_type": "code",
   "execution_count": 6,
   "metadata": {},
   "outputs": [
    {
     "ename": "IndexError",
     "evalue": "tuple index out of range",
     "output_type": "error",
     "traceback": [
      "\u001b[0;31m---------------------------------------------------------------------------\u001b[0m",
      "\u001b[0;31mIndexError\u001b[0m                                Traceback (most recent call last)",
      "\u001b[0;32m<ipython-input-6-4317a4e9126e>\u001b[0m in \u001b[0;36m<module>\u001b[0;34m()\u001b[0m\n\u001b[1;32m     10\u001b[0m         \u001b[0mself\u001b[0m\u001b[0;34m.\u001b[0m\u001b[0mpan\u001b[0m\u001b[0;34m=\u001b[0m\u001b[0mcontext\u001b[0m\u001b[0;34m[\u001b[0m\u001b[0;36m3\u001b[0m\u001b[0;34m]\u001b[0m\u001b[0;34m\u001b[0m\u001b[0m\n\u001b[1;32m     11\u001b[0m         \u001b[0mself\u001b[0m\u001b[0;34m.\u001b[0m\u001b[0mcell\u001b[0m\u001b[0;34m=\u001b[0m\u001b[0mcontext\u001b[0m\u001b[0;34m[\u001b[0m\u001b[0;36m4\u001b[0m\u001b[0;34m]\u001b[0m\u001b[0;34m\u001b[0m\u001b[0m\n\u001b[0;32m---> 12\u001b[0;31m \u001b[0mo1\u001b[0m\u001b[0;34m=\u001b[0m\u001b[0mc1\u001b[0m\u001b[0;34m(\u001b[0m\u001b[0;34m\"anil\"\u001b[0m\u001b[0;34m,\u001b[0m\u001b[0;36m23\u001b[0m\u001b[0;34m)\u001b[0m\u001b[0;34m\u001b[0m\u001b[0m\n\u001b[0m\u001b[1;32m     13\u001b[0m \u001b[0mo2\u001b[0m\u001b[0;34m=\u001b[0m\u001b[0mc1\u001b[0m\u001b[0;34m(\u001b[0m\u001b[0;34m\"ajay\"\u001b[0m\u001b[0;34m,\u001b[0m\u001b[0;36m24\u001b[0m\u001b[0;34m,\u001b[0m\u001b[0;34m\"ERTREW234\"\u001b[0m\u001b[0;34m)\u001b[0m\u001b[0;34m\u001b[0m\u001b[0m\n\u001b[1;32m     14\u001b[0m \u001b[0mo2\u001b[0m\u001b[0;34m=\u001b[0m\u001b[0mc1\u001b[0m\u001b[0;34m(\u001b[0m\u001b[0;34m\"jay\"\u001b[0m\u001b[0;34m,\u001b[0m\u001b[0;36m24\u001b[0m\u001b[0;34m,\u001b[0m\u001b[0;34m\"ERTREW234\"\u001b[0m\u001b[0;34m,\u001b[0m\u001b[0;34m\"2345678432\"\u001b[0m\u001b[0;34m)\u001b[0m\u001b[0;34m\u001b[0m\u001b[0m\n",
      "\u001b[0;32m<ipython-input-6-4317a4e9126e>\u001b[0m in \u001b[0;36m__init__\u001b[0;34m(self, *context)\u001b[0m\n\u001b[1;32m      7\u001b[0m         \u001b[0mself\u001b[0m\u001b[0;34m.\u001b[0m\u001b[0mname\u001b[0m\u001b[0;34m=\u001b[0m\u001b[0mcontext\u001b[0m\u001b[0;34m[\u001b[0m\u001b[0;36m0\u001b[0m\u001b[0;34m]\u001b[0m\u001b[0;34m\u001b[0m\u001b[0m\n\u001b[1;32m      8\u001b[0m         \u001b[0mself\u001b[0m\u001b[0;34m.\u001b[0m\u001b[0mage\u001b[0m\u001b[0;34m=\u001b[0m\u001b[0mcontext\u001b[0m\u001b[0;34m[\u001b[0m\u001b[0;36m1\u001b[0m\u001b[0;34m]\u001b[0m\u001b[0;34m\u001b[0m\u001b[0m\n\u001b[0;32m----> 9\u001b[0;31m         \u001b[0mself\u001b[0m\u001b[0;34m.\u001b[0m\u001b[0madhar\u001b[0m\u001b[0;34m=\u001b[0m\u001b[0mcontext\u001b[0m\u001b[0;34m[\u001b[0m\u001b[0;36m2\u001b[0m\u001b[0;34m]\u001b[0m\u001b[0;34m\u001b[0m\u001b[0m\n\u001b[0m\u001b[1;32m     10\u001b[0m         \u001b[0mself\u001b[0m\u001b[0;34m.\u001b[0m\u001b[0mpan\u001b[0m\u001b[0;34m=\u001b[0m\u001b[0mcontext\u001b[0m\u001b[0;34m[\u001b[0m\u001b[0;36m3\u001b[0m\u001b[0;34m]\u001b[0m\u001b[0;34m\u001b[0m\u001b[0m\n\u001b[1;32m     11\u001b[0m         \u001b[0mself\u001b[0m\u001b[0;34m.\u001b[0m\u001b[0mcell\u001b[0m\u001b[0;34m=\u001b[0m\u001b[0mcontext\u001b[0m\u001b[0;34m[\u001b[0m\u001b[0;36m4\u001b[0m\u001b[0;34m]\u001b[0m\u001b[0;34m\u001b[0m\u001b[0m\n",
      "\u001b[0;31mIndexError\u001b[0m: tuple index out of range"
     ]
    }
   ],
   "source": [
    "#method overloading\n",
    "class c1:\n",
    "    def __init__(self,*context):\n",
    "        \"\"\"\n",
    "        pass all arguments in sequesnce. 1. name, 2. age, pan, adhar, cell\n",
    "        \"\"\"\n",
    "        self.name=context[0]\n",
    "        self.age=context[1]\n",
    "        self.adhar=context[2]\n",
    "        self.pan=context[3]\n",
    "        self.cell=context[4]\n",
    "o1=c1(\"anil\",23)\n",
    "o2=c1(\"ajay\",24,\"ERTREW234\")\n",
    "o2=c1(\"jay\",24,\"ERTREW234\",\"2345678432\")"
   ]
  },
  {
   "cell_type": "code",
   "execution_count": 9,
   "metadata": {},
   "outputs": [],
   "source": [
    "#method overloading using *args\n",
    "class c1:\n",
    "    def __init__(self,*context):\n",
    "        \"\"\"\n",
    "        pass all arguments in sequesnce. 1. name, 2. age, pan, adhar, cell\n",
    "        \"\"\"\n",
    "        try:\n",
    "            self.name=context[0]\n",
    "            self.age=context[1]\n",
    "            self.adhar=context[2]\n",
    "            self.pan=context[3]\n",
    "            self.cell=context[4]\n",
    "        except:\n",
    "            pass\n",
    "o1=c1(\"anil\",23)\n",
    "o2=c1(\"ajay\",24,\"ERTREW234\")\n",
    "o2=c1(\"jay\",24,\"ERTREW234\",\"2345678432\")"
   ]
  },
  {
   "cell_type": "code",
   "execution_count": 10,
   "metadata": {},
   "outputs": [
    {
     "name": "stdout",
     "output_type": "stream",
     "text": [
      "{'age': 23, 'name': 'anil'}\n",
      "{'age': 24, 'name': 'ajay', 'pan': 'ERTREW234'}\n",
      "{'age': 24, 'adhar': '2345678432', 'pan': 'ERTREW234', 'name': 'jay'}\n"
     ]
    }
   ],
   "source": [
    "#method overloading\n",
    "class c1:\n",
    "    def __init__(self,**context):\n",
    "        \"\"\"\n",
    "        pass all arguments in sequesnce. 1. name, 2. age, pan, adhar, cell\n",
    "        \"\"\"\n",
    "        print context\n",
    "        \n",
    "o1=c1(name=\"anil\",age=23)\n",
    "o2=c1(name=\"ajay\",age=24,pan=\"ERTREW234\")\n",
    "o2=c1(name=\"jay\",age=24,pan=\"ERTREW234\",adhar=\"2345678432\")"
   ]
  },
  {
   "cell_type": "code",
   "execution_count": 11,
   "metadata": {},
   "outputs": [
    {
     "name": "stdout",
     "output_type": "stream",
     "text": [
      "{'age': 23, 'name': 'anil'}\n",
      "{'age': 24, 'name': 'ajay', 'pan': 'ERTREW234'}\n",
      "{'age': 24, 'adhar': '2345678432', 'pan': 'ERTREW234', 'name': 'jay'}\n",
      "{}\n"
     ]
    }
   ],
   "source": [
    "#method overloading using **kwargs\n",
    "class c1:\n",
    "    def __init__(self,**context):\n",
    "        \"\"\"\n",
    "        pass all arguments in sequesnce. 1. name, 2. age, pan, adhar, cell\n",
    "        \"\"\"\n",
    "        print context\n",
    "      \n",
    "o1=c1(name=\"anil\",age=23)\n",
    "o2=c1(name=\"ajay\",age=24,pan=\"ERTREW234\")\n",
    "o3=c1(name=\"jay\",age=24,pan=\"ERTREW234\",adhar=\"2345678432\")\n",
    "o3=c1()"
   ]
  },
  {
   "cell_type": "code",
   "execution_count": 14,
   "metadata": {},
   "outputs": [
    {
     "name": "stdout",
     "output_type": "stream",
     "text": [
      "anil 23 {}\n",
      "ajay 24 {'pan': 'ERTREW234'}\n",
      "jay 24 {'adhar': '2345678432', 'pan': 'ERTREW234'}\n"
     ]
    },
    {
     "ename": "TypeError",
     "evalue": "__init__() takes exactly 3 arguments (1 given)",
     "output_type": "error",
     "traceback": [
      "\u001b[0;31m---------------------------------------------------------------------------\u001b[0m",
      "\u001b[0;31mTypeError\u001b[0m                                 Traceback (most recent call last)",
      "\u001b[0;32m<ipython-input-14-e47a2828f69e>\u001b[0m in \u001b[0;36m<module>\u001b[0;34m()\u001b[0m\n\u001b[1;32m     10\u001b[0m \u001b[0mo2\u001b[0m\u001b[0;34m=\u001b[0m\u001b[0mc1\u001b[0m\u001b[0;34m(\u001b[0m\u001b[0mname\u001b[0m\u001b[0;34m=\u001b[0m\u001b[0;34m\"ajay\"\u001b[0m\u001b[0;34m,\u001b[0m\u001b[0mage\u001b[0m\u001b[0;34m=\u001b[0m\u001b[0;36m24\u001b[0m\u001b[0;34m,\u001b[0m\u001b[0mpan\u001b[0m\u001b[0;34m=\u001b[0m\u001b[0;34m\"ERTREW234\"\u001b[0m\u001b[0;34m)\u001b[0m\u001b[0;34m\u001b[0m\u001b[0m\n\u001b[1;32m     11\u001b[0m \u001b[0mo3\u001b[0m\u001b[0;34m=\u001b[0m\u001b[0mc1\u001b[0m\u001b[0;34m(\u001b[0m\u001b[0mname\u001b[0m\u001b[0;34m=\u001b[0m\u001b[0;34m\"jay\"\u001b[0m\u001b[0;34m,\u001b[0m\u001b[0mage\u001b[0m\u001b[0;34m=\u001b[0m\u001b[0;36m24\u001b[0m\u001b[0;34m,\u001b[0m\u001b[0mpan\u001b[0m\u001b[0;34m=\u001b[0m\u001b[0;34m\"ERTREW234\"\u001b[0m\u001b[0;34m,\u001b[0m\u001b[0madhar\u001b[0m\u001b[0;34m=\u001b[0m\u001b[0;34m\"2345678432\"\u001b[0m\u001b[0;34m)\u001b[0m\u001b[0;34m\u001b[0m\u001b[0m\n\u001b[0;32m---> 12\u001b[0;31m \u001b[0mo3\u001b[0m\u001b[0;34m=\u001b[0m\u001b[0mc1\u001b[0m\u001b[0;34m(\u001b[0m\u001b[0;34m)\u001b[0m\u001b[0;34m\u001b[0m\u001b[0m\n\u001b[0m",
      "\u001b[0;31mTypeError\u001b[0m: __init__() takes exactly 3 arguments (1 given)"
     ]
    }
   ],
   "source": [
    "#method overloading\n",
    "class c1:\n",
    "    def __init__(self,name, age,**context):\n",
    "        \"\"\"\n",
    "        pass all arguments in sequesnce. 1. name, 2. age, pan, adhar, cell\n",
    "        \"\"\"\n",
    "        print name, age, context\n",
    "      \n",
    "o1=c1(name=\"anil\",age=23)\n",
    "o2=c1(name=\"ajay\",age=24,pan=\"ERTREW234\")\n",
    "o3=c1(name=\"jay\",age=24,pan=\"ERTREW234\",adhar=\"2345678432\")\n",
    "o3=c1()"
   ]
  },
  {
   "cell_type": "code",
   "execution_count": 15,
   "metadata": {},
   "outputs": [
    {
     "name": "stdout",
     "output_type": "stream",
     "text": [
      "anil 23 {}\n",
      "ajay 24 {'pan': 'ERTREW234'}\n",
      "jay 24 {'adhar': '2345678432', 'pan': 'ERTREW234'}\n"
     ]
    },
    {
     "ename": "TypeError",
     "evalue": "unsupported operand type(s) for +: 'instance' and 'instance'",
     "output_type": "error",
     "traceback": [
      "\u001b[0;31m---------------------------------------------------------------------------\u001b[0m",
      "\u001b[0;31mTypeError\u001b[0m                                 Traceback (most recent call last)",
      "\u001b[0;32m<ipython-input-15-1f497f9e0086>\u001b[0m in \u001b[0;36m<module>\u001b[0;34m()\u001b[0m\n\u001b[1;32m     10\u001b[0m \u001b[0mo2\u001b[0m\u001b[0;34m=\u001b[0m\u001b[0mc1\u001b[0m\u001b[0;34m(\u001b[0m\u001b[0mname\u001b[0m\u001b[0;34m=\u001b[0m\u001b[0;34m\"ajay\"\u001b[0m\u001b[0;34m,\u001b[0m\u001b[0mage\u001b[0m\u001b[0;34m=\u001b[0m\u001b[0;36m24\u001b[0m\u001b[0;34m,\u001b[0m\u001b[0mpan\u001b[0m\u001b[0;34m=\u001b[0m\u001b[0;34m\"ERTREW234\"\u001b[0m\u001b[0;34m)\u001b[0m\u001b[0;34m\u001b[0m\u001b[0m\n\u001b[1;32m     11\u001b[0m \u001b[0mo3\u001b[0m\u001b[0;34m=\u001b[0m\u001b[0mc1\u001b[0m\u001b[0;34m(\u001b[0m\u001b[0mname\u001b[0m\u001b[0;34m=\u001b[0m\u001b[0;34m\"jay\"\u001b[0m\u001b[0;34m,\u001b[0m\u001b[0mage\u001b[0m\u001b[0;34m=\u001b[0m\u001b[0;36m24\u001b[0m\u001b[0;34m,\u001b[0m\u001b[0mpan\u001b[0m\u001b[0;34m=\u001b[0m\u001b[0;34m\"ERTREW234\"\u001b[0m\u001b[0;34m,\u001b[0m\u001b[0madhar\u001b[0m\u001b[0;34m=\u001b[0m\u001b[0;34m\"2345678432\"\u001b[0m\u001b[0;34m)\u001b[0m\u001b[0;34m\u001b[0m\u001b[0m\n\u001b[0;32m---> 12\u001b[0;31m \u001b[0mo1\u001b[0m\u001b[0;34m+\u001b[0m\u001b[0mo2\u001b[0m\u001b[0;34m\u001b[0m\u001b[0m\n\u001b[0m",
      "\u001b[0;31mTypeError\u001b[0m: unsupported operand type(s) for +: 'instance' and 'instance'"
     ]
    }
   ],
   "source": [
    "# operator overloading?\n",
    "class c1:\n",
    "    def __init__(self,name, age,**context):\n",
    "        \"\"\"\n",
    "        pass all arguments in sequesnce. 1. name, 2. age, pan, adhar, cell\n",
    "        \"\"\"\n",
    "        print name, age, context\n",
    "      \n",
    "o1=c1(name=\"anil\",age=23)\n",
    "o2=c1(name=\"ajay\",age=24,pan=\"ERTREW234\")\n",
    "o3=c1(name=\"jay\",age=24,pan=\"ERTREW234\",adhar=\"2345678432\")\n",
    "o1+o2"
   ]
  },
  {
   "cell_type": "code",
   "execution_count": 17,
   "metadata": {},
   "outputs": [
    {
     "name": "stdout",
     "output_type": "stream",
     "text": [
      "anil 23 {}\n",
      "ajay 24 {'pan': 'ERTREW234'}\n",
      "jay 24 {'adhar': '2345678432', 'pan': 'ERTREW234'}\n",
      "summation\n"
     ]
    }
   ],
   "source": [
    "# operator overloading?\n",
    "class c1:\n",
    "    def __init__(self,name, age,**context):\n",
    "        \"\"\"\n",
    "        pass all arguments in sequesnce. 1. name, 2. age, pan, adhar, cell\n",
    "        \"\"\"\n",
    "        print name, age, context\n",
    "    def __add__(self, self2):\n",
    "        return \"summation\"\n",
    "      \n",
    "o1=c1(name=\"anil\",age=23)\n",
    "o2=c1(name=\"ajay\",age=24,pan=\"ERTREW234\")\n",
    "o3=c1(name=\"jay\",age=24,pan=\"ERTREW234\",adhar=\"2345678432\")\n",
    "print o1+o2"
   ]
  },
  {
   "cell_type": "code",
   "execution_count": 18,
   "metadata": {},
   "outputs": [
    {
     "name": "stdout",
     "output_type": "stream",
     "text": [
      "anil 23 {}\n",
      "ajay 24 {'pan': 'ERTREW234'}\n",
      "jay 24 {'adhar': '2345678432', 'pan': 'ERTREW234'}\n",
      "summation\n"
     ]
    }
   ],
   "source": [
    "# operator overloading?\n",
    "class c1:\n",
    "    def __init__(self,name, age,**context):\n",
    "        \"\"\"\n",
    "        pass all arguments in sequesnce. 1. name, 2. age, pan, adhar, cell\n",
    "        \"\"\"\n",
    "        print name, age, context\n",
    "    def __add__(self1, self2):\n",
    "        return \"summation\"\n",
    "      \n",
    "o1=c1(name=\"anil\",age=23)\n",
    "o2=c1(name=\"ajay\",age=24,pan=\"ERTREW234\")\n",
    "o3=c1(name=\"jay\",age=24,pan=\"ERTREW234\",adhar=\"2345678432\")\n",
    "print o1.__add__(o2)"
   ]
  },
  {
   "cell_type": "code",
   "execution_count": 19,
   "metadata": {},
   "outputs": [
    {
     "name": "stdout",
     "output_type": "stream",
     "text": [
      "anil 23 {}\n",
      "ajay 24 {'pan': 'ERTREW234'}\n",
      "jay 24 {'adhar': '2345678432', 'pan': 'ERTREW234'}\n",
      "summation\n"
     ]
    }
   ],
   "source": [
    "# operator overloading?\n",
    "class c1:\n",
    "    def __init__(self,name, age,**context):\n",
    "        \"\"\"\n",
    "        pass all arguments in sequesnce. 1. name, 2. age, pan, adhar, cell\n",
    "        \"\"\"\n",
    "        print name, age, context\n",
    "    def __add__(self1, self2):\n",
    "        return \"summation\"\n",
    "      \n",
    "o1=c1(name=\"anil\",age=23)\n",
    "o2=c1(name=\"ajay\",age=24,pan=\"ERTREW234\")\n",
    "o3=c1(name=\"jay\",age=24,pan=\"ERTREW234\",adhar=\"2345678432\")\n",
    "print o1+o2"
   ]
  },
  {
   "cell_type": "code",
   "execution_count": 21,
   "metadata": {},
   "outputs": [
    {
     "name": "stdout",
     "output_type": "stream",
     "text": [
      "30\n",
      "30\n"
     ]
    }
   ],
   "source": [
    "a=10\n",
    "b=20\n",
    "print a.__add__(b)\n",
    "print a+b"
   ]
  },
  {
   "cell_type": "code",
   "execution_count": 22,
   "metadata": {},
   "outputs": [
    {
     "name": "stdout",
     "output_type": "stream",
     "text": [
      "atr2str1\n",
      "atr2str1\n"
     ]
    }
   ],
   "source": [
    "a=\"atr2\"\n",
    "b=\"str1\"\n",
    "print a.__add__(b)\n",
    "print a+b"
   ]
  },
  {
   "cell_type": "code",
   "execution_count": 23,
   "metadata": {},
   "outputs": [
    {
     "name": "stdout",
     "output_type": "stream",
     "text": [
      "200\n",
      "200\n"
     ]
    }
   ],
   "source": [
    "a=10\n",
    "b=20\n",
    "print a.__mul__(b)\n",
    "print a*b"
   ]
  },
  {
   "cell_type": "code",
   "execution_count": 24,
   "metadata": {},
   "outputs": [
    {
     "name": "stdout",
     "output_type": "stream",
     "text": [
      "anil 23 {}\n",
      "ajay 24 {'pan': 'ERTREW234'}\n",
      "jay 24 {'adhar': '2345678432', 'pan': 'ERTREW234'}\n",
      "summation\n"
     ]
    },
    {
     "ename": "TypeError",
     "evalue": "iteration over non-sequence",
     "output_type": "error",
     "traceback": [
      "\u001b[0;31m---------------------------------------------------------------------------\u001b[0m",
      "\u001b[0;31mTypeError\u001b[0m                                 Traceback (most recent call last)",
      "\u001b[0;32m<ipython-input-24-47631d40f0c5>\u001b[0m in \u001b[0;36m<module>\u001b[0;34m()\u001b[0m\n\u001b[1;32m     13\u001b[0m \u001b[0mo3\u001b[0m\u001b[0;34m=\u001b[0m\u001b[0mc1\u001b[0m\u001b[0;34m(\u001b[0m\u001b[0mname\u001b[0m\u001b[0;34m=\u001b[0m\u001b[0;34m\"jay\"\u001b[0m\u001b[0;34m,\u001b[0m\u001b[0mage\u001b[0m\u001b[0;34m=\u001b[0m\u001b[0;36m24\u001b[0m\u001b[0;34m,\u001b[0m\u001b[0mpan\u001b[0m\u001b[0;34m=\u001b[0m\u001b[0;34m\"ERTREW234\"\u001b[0m\u001b[0;34m,\u001b[0m\u001b[0madhar\u001b[0m\u001b[0;34m=\u001b[0m\u001b[0;34m\"2345678432\"\u001b[0m\u001b[0;34m)\u001b[0m\u001b[0;34m\u001b[0m\u001b[0m\n\u001b[1;32m     14\u001b[0m \u001b[0;32mprint\u001b[0m \u001b[0mo1\u001b[0m\u001b[0;34m+\u001b[0m\u001b[0mo2\u001b[0m\u001b[0;34m\u001b[0m\u001b[0m\n\u001b[0;32m---> 15\u001b[0;31m \u001b[0;32mfor\u001b[0m \u001b[0mi\u001b[0m  \u001b[0;32min\u001b[0m \u001b[0mo1\u001b[0m\u001b[0;34m:\u001b[0m\u001b[0;34m\u001b[0m\u001b[0m\n\u001b[0m\u001b[1;32m     16\u001b[0m     \u001b[0;32mprint\u001b[0m \u001b[0mi\u001b[0m\u001b[0;34m\u001b[0m\u001b[0m\n",
      "\u001b[0;31mTypeError\u001b[0m: iteration over non-sequence"
     ]
    }
   ],
   "source": [
    "# operator overloading?\n",
    "class c1:\n",
    "    def __init__(self,name, age,**context):\n",
    "        \"\"\"\n",
    "        pass all arguments in sequesnce. 1. name, 2. age, pan, adhar, cell\n",
    "        \"\"\"\n",
    "        print name, age, context\n",
    "    def __add__(self1, self2):\n",
    "        return \"summation\"\n",
    "      \n",
    "o1=c1(name=\"anil\",age=23)\n",
    "o2=c1(name=\"ajay\",age=24,pan=\"ERTREW234\")\n",
    "o3=c1(name=\"jay\",age=24,pan=\"ERTREW234\",adhar=\"2345678432\")\n",
    "print o1+o2\n",
    "for i  in o1:\n",
    "    print i"
   ]
  },
  {
   "cell_type": "code",
   "execution_count": 28,
   "metadata": {},
   "outputs": [
    {
     "name": "stdout",
     "output_type": "stream",
     "text": [
      "{'age': (23, 24), 'name': ('anil', 'ajay')}\n"
     ]
    }
   ],
   "source": [
    "# operator overloading?\n",
    "class c1:\n",
    "    def __init__(self,name, age,**context):\n",
    "        \"\"\"\n",
    "        pass all arguments in sequesnce. 1. name, 2. age, pan, adhar, cell\n",
    "        \"\"\"\n",
    "        self.name=name\n",
    "        self.age=age\n",
    "    def __add__(self1, self2):\n",
    "        return {\"age\":(self1.age,self2.age),\"name\":(self1.name,self2.name)}\n",
    "      \n",
    "o1=c1(name=\"anil\",age=23)\n",
    "o2=c1(name=\"ajay\",age=24,pan=\"ERTREW234\")\n",
    "o3=c1(name=\"jay\",age=24,pan=\"ERTREW234\",adhar=\"2345678432\")\n",
    "print o1+o2\n"
   ]
  },
  {
   "cell_type": "code",
   "execution_count": 29,
   "metadata": {},
   "outputs": [
    {
     "name": "stdout",
     "output_type": "stream",
     "text": [
      "{'age': (23, 24), 'name': ('anil', 'ajay')}\n"
     ]
    },
    {
     "ename": "TypeError",
     "evalue": "iteration over non-sequence",
     "output_type": "error",
     "traceback": [
      "\u001b[0;31m---------------------------------------------------------------------------\u001b[0m",
      "\u001b[0;31mTypeError\u001b[0m                                 Traceback (most recent call last)",
      "\u001b[0;32m<ipython-input-29-040139823776>\u001b[0m in \u001b[0;36m<module>\u001b[0;34m()\u001b[0m\n\u001b[1;32m     14\u001b[0m \u001b[0mo3\u001b[0m\u001b[0;34m=\u001b[0m\u001b[0mc1\u001b[0m\u001b[0;34m(\u001b[0m\u001b[0mname\u001b[0m\u001b[0;34m=\u001b[0m\u001b[0;34m\"jay\"\u001b[0m\u001b[0;34m,\u001b[0m\u001b[0mage\u001b[0m\u001b[0;34m=\u001b[0m\u001b[0;36m24\u001b[0m\u001b[0;34m,\u001b[0m\u001b[0mpan\u001b[0m\u001b[0;34m=\u001b[0m\u001b[0;34m\"ERTREW234\"\u001b[0m\u001b[0;34m,\u001b[0m\u001b[0madhar\u001b[0m\u001b[0;34m=\u001b[0m\u001b[0;34m\"2345678432\"\u001b[0m\u001b[0;34m)\u001b[0m\u001b[0;34m\u001b[0m\u001b[0m\n\u001b[1;32m     15\u001b[0m \u001b[0;32mprint\u001b[0m \u001b[0mo1\u001b[0m\u001b[0;34m+\u001b[0m\u001b[0mo2\u001b[0m\u001b[0;34m\u001b[0m\u001b[0m\n\u001b[0;32m---> 16\u001b[0;31m \u001b[0;32mfor\u001b[0m \u001b[0mi\u001b[0m \u001b[0;32min\u001b[0m \u001b[0mo2\u001b[0m\u001b[0;34m:\u001b[0m\u001b[0;34m\u001b[0m\u001b[0m\n\u001b[0m\u001b[1;32m     17\u001b[0m     \u001b[0;32mprint\u001b[0m \u001b[0mi\u001b[0m\u001b[0;34m\u001b[0m\u001b[0m\n",
      "\u001b[0;31mTypeError\u001b[0m: iteration over non-sequence"
     ]
    }
   ],
   "source": [
    "# operator overloading?\n",
    "class c1:\n",
    "    def __init__(self,name, age,**context):\n",
    "        \"\"\"\n",
    "        pass all arguments in sequesnce. 1. name, 2. age, pan, adhar, cell\n",
    "        \"\"\"\n",
    "        self.name=name\n",
    "        self.age=age\n",
    "    def __add__(self1, self2):\n",
    "        return {\"age\":(self1.age,self2.age),\"name\":(self1.name,self2.name)}\n",
    "      \n",
    "o1=c1(name=\"anil\",age=23)\n",
    "o2=c1(name=\"ajay\",age=24,pan=\"ERTREW234\")\n",
    "o3=c1(name=\"jay\",age=24,pan=\"ERTREW234\",adhar=\"2345678432\")\n",
    "print o1+o2\n",
    "for i in o2:\n",
    "    print i"
   ]
  },
  {
   "cell_type": "code",
   "execution_count": 30,
   "metadata": {},
   "outputs": [
    {
     "name": "stdout",
     "output_type": "stream",
     "text": [
      "{'age': (23, 24), 'name': ('anil', 'ajay')}\n",
      "itr1\n",
      "0\n",
      "iter2\n",
      "1\n"
     ]
    }
   ],
   "source": [
    "# operator overloading?\n",
    "class c1:\n",
    "    def __init__(self,name, age,**context):\n",
    "        \"\"\"\n",
    "        pass all arguments in sequesnce. 1. name, 2. age, pan, adhar, cell\n",
    "        \"\"\"\n",
    "        self.name=name\n",
    "        self.age=age\n",
    "    def __add__(self1, self2):\n",
    "        return {\"age\":(self1.age,self2.age),\"name\":(self1.name,self2.name)}\n",
    "    def __iter__(self):\n",
    "        print \"itr1\"\n",
    "        yield 0\n",
    "        print \"iter2\"\n",
    "        yield 1\n",
    "      \n",
    "o1=c1(name=\"anil\",age=23)\n",
    "o2=c1(name=\"ajay\",age=24,pan=\"ERTREW234\")\n",
    "o3=c1(name=\"jay\",age=24,pan=\"ERTREW234\",adhar=\"2345678432\")\n",
    "print o1+o2\n",
    "for i in o2:\n",
    "    print i"
   ]
  },
  {
   "cell_type": "code",
   "execution_count": 32,
   "metadata": {},
   "outputs": [
    {
     "name": "stdout",
     "output_type": "stream",
     "text": [
      "{'age': (23, 24), 'name': ('anil', 'ajay')}\n",
      "{'name': 'ajay'}\n",
      "{'age': 24}\n"
     ]
    }
   ],
   "source": [
    "# operator overloading?\n",
    "class c1:\n",
    "    def __init__(self,name, age,**context):\n",
    "        \"\"\"\n",
    "        pass all arguments in sequesnce. 1. name, 2. age, pan, adhar, cell\n",
    "        \"\"\"\n",
    "        self.name=name\n",
    "        self.age=age\n",
    "    def __add__(self1, self2):\n",
    "        return {\"age\":(self1.age,self2.age),\"name\":(self1.name,self2.name)}\n",
    "    def __iter__(self):\n",
    "        yield {\"name\":self.name}\n",
    "        yield {\"age\":self.age}\n",
    "o1=c1(name=\"anil\",age=23)\n",
    "o2=c1(name=\"ajay\",age=24,pan=\"ERTREW234\")\n",
    "o3=c1(name=\"jay\",age=24,pan=\"ERTREW234\",adhar=\"2345678432\")\n",
    "print o1+o2\n",
    "for i in o2:\n",
    "    print i"
   ]
  },
  {
   "cell_type": "code",
   "execution_count": 33,
   "metadata": {},
   "outputs": [
    {
     "name": "stdout",
     "output_type": "stream",
     "text": [
      "{'age': (23, 24), 'name': ('anil', 'ajay')}\n",
      "<__main__.c1 instance at 0x7f46c451f6c8>\n",
      "<__main__.c1 instance at 0x7f46c4568050>\n",
      "<__main__.c1 instance at 0x7f46c4568248>\n"
     ]
    }
   ],
   "source": [
    "# operator overloading?\n",
    "class c1:\n",
    "    def __init__(self,name, age,**context):\n",
    "        \"\"\"\n",
    "        pass all arguments in sequesnce. 1. name, 2. age, pan, adhar, cell\n",
    "        \"\"\"\n",
    "        self.name=name\n",
    "        self.age=age\n",
    "    def __add__(self1, self2):\n",
    "        return {\"age\":(self1.age,self2.age),\"name\":(self1.name,self2.name)}\n",
    "    def __iter__(self):\n",
    "        yield {\"name\":self.name}\n",
    "        yield {\"age\":self.age}\n",
    "o1=c1(name=\"anil\",age=23)\n",
    "o2=c1(name=\"ajay\",age=24,pan=\"ERTREW234\")\n",
    "o3=c1(name=\"jay\",age=24,pan=\"ERTREW234\",adhar=\"2345678432\")\n",
    "print o1+o2\n",
    "for i in [o2,o1,o3]:\n",
    "    print i"
   ]
  },
  {
   "cell_type": "code",
   "execution_count": 35,
   "metadata": {},
   "outputs": [
    {
     "name": "stdout",
     "output_type": "stream",
     "text": [
      "{'age': (23, 24), 'name': ('anil', 'ajay')}\n",
      "********************\n",
      "{'name': 'jay'}\n",
      "{'age': 24}\n",
      "******************************\n"
     ]
    }
   ],
   "source": [
    "# operator overloading?\n",
    "class c1:\n",
    "    def __init__(self,name, age,**context):\n",
    "        \"\"\"\n",
    "        pass all arguments in sequesnce. 1. name, 2. age, pan, adhar, cell\n",
    "        \"\"\"\n",
    "        self.name=name\n",
    "        self.age=age\n",
    "    def __add__(self1, self2):\n",
    "        return {\"age\":(self1.age,self2.age),\"name\":(self1.name,self2.name)}\n",
    "    def __iter__(self):\n",
    "        yield {\"name\":self.name}\n",
    "        yield {\"age\":self.age}\n",
    "o1=c1(name=\"anil\",age=23)\n",
    "o2=c1(name=\"ajay\",age=24,pan=\"ERTREW234\")\n",
    "o3=c1(name=\"jay\",age=24,pan=\"ERTREW234\",adhar=\"2345678432\")\n",
    "print o1+o2\n",
    "print \"*\"*20\n",
    "for i in o3:\n",
    "    print i\n",
    "print \"*\"*30"
   ]
  },
  {
   "cell_type": "code",
   "execution_count": 36,
   "metadata": {
    "collapsed": true
   },
   "outputs": [],
   "source": [
    "a=10"
   ]
  },
  {
   "cell_type": "code",
   "execution_count": 37,
   "metadata": {},
   "outputs": [
    {
     "name": "stdout",
     "output_type": "stream",
     "text": [
      "['__abs__', '__add__', '__and__', '__class__', '__cmp__', '__coerce__', '__delattr__', '__div__', '__divmod__', '__doc__', '__float__', '__floordiv__', '__format__', '__getattribute__', '__getnewargs__', '__hash__', '__hex__', '__index__', '__init__', '__int__', '__invert__', '__long__', '__lshift__', '__mod__', '__mul__', '__neg__', '__new__', '__nonzero__', '__oct__', '__or__', '__pos__', '__pow__', '__radd__', '__rand__', '__rdiv__', '__rdivmod__', '__reduce__', '__reduce_ex__', '__repr__', '__rfloordiv__', '__rlshift__', '__rmod__', '__rmul__', '__ror__', '__rpow__', '__rrshift__', '__rshift__', '__rsub__', '__rtruediv__', '__rxor__', '__setattr__', '__sizeof__', '__str__', '__sub__', '__subclasshook__', '__truediv__', '__trunc__', '__xor__', 'bit_length', 'conjugate', 'denominator', 'imag', 'numerator', 'real']\n"
     ]
    }
   ],
   "source": [
    "print dir(a)"
   ]
  },
  {
   "cell_type": "code",
   "execution_count": 38,
   "metadata": {},
   "outputs": [
    {
     "name": "stdout",
     "output_type": "stream",
     "text": [
      "{'age': (23, 24), 'name': ('anil', 'ajay')}\n",
      "********************\n",
      "{'name': 'jay'}\n",
      "{'age': 24}\n",
      "******************************\n"
     ]
    },
    {
     "ename": "AttributeError",
     "evalue": "c1 instance has no attribute '__len__'",
     "output_type": "error",
     "traceback": [
      "\u001b[0;31m---------------------------------------------------------------------------\u001b[0m",
      "\u001b[0;31mAttributeError\u001b[0m                            Traceback (most recent call last)",
      "\u001b[0;32m<ipython-input-38-58e54ef8f0bf>\u001b[0m in \u001b[0;36m<module>\u001b[0;34m()\u001b[0m\n\u001b[1;32m     20\u001b[0m     \u001b[0;32mprint\u001b[0m \u001b[0mi\u001b[0m\u001b[0;34m\u001b[0m\u001b[0m\n\u001b[1;32m     21\u001b[0m \u001b[0;32mprint\u001b[0m \u001b[0;34m\"*\"\u001b[0m\u001b[0;34m*\u001b[0m\u001b[0;36m30\u001b[0m\u001b[0;34m\u001b[0m\u001b[0m\n\u001b[0;32m---> 22\u001b[0;31m \u001b[0;32mprint\u001b[0m \u001b[0mlen\u001b[0m\u001b[0;34m(\u001b[0m\u001b[0mo1\u001b[0m\u001b[0;34m)\u001b[0m\u001b[0;34m\u001b[0m\u001b[0m\n\u001b[0m",
      "\u001b[0;31mAttributeError\u001b[0m: c1 instance has no attribute '__len__'"
     ]
    }
   ],
   "source": [
    "# operator overloading?\n",
    "class c1:\n",
    "    def __init__(self,name, age,**context):\n",
    "        \"\"\"\n",
    "        pass all arguments in sequesnce. 1. name, 2. age, pan, adhar, cell\n",
    "        \"\"\"\n",
    "        self.name=name\n",
    "        self.age=age\n",
    "    def __add__(self1, self2):\n",
    "        return {\"age\":(self1.age,self2.age),\"name\":(self1.name,self2.name)}\n",
    "    def __iter__(self):\n",
    "        yield {\"name\":self.name}\n",
    "        yield {\"age\":self.age}\n",
    "o1=c1(name=\"anil\",age=23)\n",
    "o2=c1(name=\"ajay\",age=24,pan=\"ERTREW234\")\n",
    "o3=c1(name=\"jay\",age=24,pan=\"ERTREW234\",adhar=\"2345678432\")\n",
    "print o1+o2\n",
    "print \"*\"*20\n",
    "for i in o3:\n",
    "    print i\n",
    "print \"*\"*30\n",
    "print len(o1)"
   ]
  },
  {
   "cell_type": "code",
   "execution_count": 39,
   "metadata": {},
   "outputs": [
    {
     "name": "stdout",
     "output_type": "stream",
     "text": [
      "{'age': (23, 24), 'name': ('anil', 'ajay')}\n",
      "********************\n",
      "{'name': 'jay'}\n",
      "{'age': 24}\n",
      "******************************\n",
      "39\n"
     ]
    }
   ],
   "source": [
    "# operator overloading?\n",
    "class c1:\n",
    "    def __init__(self,name, age,**context):\n",
    "        \"\"\"\n",
    "        pass all arguments in sequesnce. 1. name, 2. age, pan, adhar, cell\n",
    "        \"\"\"\n",
    "        self.name=name\n",
    "        self.age=age\n",
    "    def __add__(self1, self2):\n",
    "        return {\"age\":(self1.age,self2.age),\"name\":(self1.name,self2.name)}\n",
    "    def __iter__(self):\n",
    "        yield {\"name\":self.name}\n",
    "        yield {\"age\":self.age}\n",
    "    def __len__(self):\n",
    "        return 39\n",
    "o1=c1(name=\"anil\",age=23)\n",
    "o2=c1(name=\"ajay\",age=24,pan=\"ERTREW234\")\n",
    "o3=c1(name=\"jay\",age=24,pan=\"ERTREW234\",adhar=\"2345678432\")\n",
    "print o1+o2\n",
    "print \"*\"*20\n",
    "for i in o3:\n",
    "    print i\n",
    "print \"*\"*30\n",
    "print len(o1)"
   ]
  },
  {
   "cell_type": "code",
   "execution_count": 41,
   "metadata": {},
   "outputs": [
    {
     "name": "stdout",
     "output_type": "stream",
     "text": [
      "{'age': (23, 24), 'name': ('anil', 'ajay')}\n",
      "********************\n",
      "{'name': 'jay'}\n",
      "{'age': 24}\n",
      "******************************\n",
      "2\n",
      "2\n",
      "2\n"
     ]
    }
   ],
   "source": [
    "# operator overloading?\n",
    "class c1:\n",
    "    def __init__(self,name, age,**context):\n",
    "        \"\"\"\n",
    "        pass all arguments in sequesnce. 1. name, 2. age, pan, adhar, cell\n",
    "        \"\"\"\n",
    "        self.name=name\n",
    "        self.age=age\n",
    "    def __add__(self1, self2):\n",
    "        return {\"age\":(self1.age,self2.age),\"name\":(self1.name,self2.name)}\n",
    "    def __iter__(self):\n",
    "        yield {\"name\":self.name}\n",
    "        yield {\"age\":self.age}\n",
    "    def __len__(self):\n",
    "        return len(self.__dict__)\n",
    "o1=c1(name=\"anil\",age=23)\n",
    "o2=c1(name=\"ajay\",age=24,pan=\"ERTREW234\")\n",
    "o3=c1(name=\"jay\",age=24,pan=\"ERTREW234\",adhar=\"2345678432\")\n",
    "print o1+o2\n",
    "print \"*\"*20\n",
    "for i in o3:\n",
    "    print i\n",
    "print \"*\"*30\n",
    "print len(o1)\n",
    "print len(o2)\n",
    "print len(o3)"
   ]
  },
  {
   "cell_type": "code",
   "execution_count": 42,
   "metadata": {
    "collapsed": true
   },
   "outputs": [],
   "source": [
    "a=10"
   ]
  },
  {
   "cell_type": "code",
   "execution_count": 43,
   "metadata": {},
   "outputs": [
    {
     "name": "stdout",
     "output_type": "stream",
     "text": [
      "['__abs__', '__add__', '__and__', '__class__', '__cmp__', '__coerce__', '__delattr__', '__div__', '__divmod__', '__doc__', '__float__', '__floordiv__', '__format__', '__getattribute__', '__getnewargs__', '__hash__', '__hex__', '__index__', '__init__', '__int__', '__invert__', '__long__', '__lshift__', '__mod__', '__mul__', '__neg__', '__new__', '__nonzero__', '__oct__', '__or__', '__pos__', '__pow__', '__radd__', '__rand__', '__rdiv__', '__rdivmod__', '__reduce__', '__reduce_ex__', '__repr__', '__rfloordiv__', '__rlshift__', '__rmod__', '__rmul__', '__ror__', '__rpow__', '__rrshift__', '__rshift__', '__rsub__', '__rtruediv__', '__rxor__', '__setattr__', '__sizeof__', '__str__', '__sub__', '__subclasshook__', '__truediv__', '__trunc__', '__xor__', 'bit_length', 'conjugate', 'denominator', 'imag', 'numerator', 'real']\n"
     ]
    }
   ],
   "source": [
    "print dir(a)"
   ]
  },
  {
   "cell_type": "code",
   "execution_count": 44,
   "metadata": {},
   "outputs": [
    {
     "name": "stdout",
     "output_type": "stream",
     "text": [
      "['__add__', '__class__', '__contains__', '__delattr__', '__delitem__', '__delslice__', '__doc__', '__eq__', '__format__', '__ge__', '__getattribute__', '__getitem__', '__getslice__', '__gt__', '__hash__', '__iadd__', '__imul__', '__init__', '__iter__', '__le__', '__len__', '__lt__', '__mul__', '__ne__', '__new__', '__reduce__', '__reduce_ex__', '__repr__', '__reversed__', '__rmul__', '__setattr__', '__setitem__', '__setslice__', '__sizeof__', '__str__', '__subclasshook__', 'append', 'count', 'extend', 'index', 'insert', 'pop', 'remove', 'reverse', 'sort']\n"
     ]
    }
   ],
   "source": [
    "l=[10,20]\n",
    "print dir(l)"
   ]
  },
  {
   "cell_type": "code",
   "execution_count": 45,
   "metadata": {},
   "outputs": [
    {
     "data": {
      "text/plain": [
       "10"
      ]
     },
     "execution_count": 45,
     "metadata": {},
     "output_type": "execute_result"
    }
   ],
   "source": [
    "l[0]"
   ]
  },
  {
   "cell_type": "code",
   "execution_count": 46,
   "metadata": {},
   "outputs": [
    {
     "name": "stdout",
     "output_type": "stream",
     "text": [
      "o1 details: <__main__.Emp instance at 0x7f46c4568b90> 139941918444432\n",
      "self details: <__main__.Emp instance at 0x7f46c4568b90> 139941918444432\n"
     ]
    },
    {
     "data": {
      "text/plain": [
       "('anil', 23, 'Khyaathi')"
      ]
     },
     "execution_count": 46,
     "metadata": {},
     "output_type": "execute_result"
    }
   ],
   "source": [
    "class Emp:\n",
    "    company = \"Khyaathi\"\n",
    "    def __init__(self, name,age):\n",
    "        # instance method and constructor\n",
    "        self.name=name\n",
    "        self.age=age\n",
    "    def get(self):\n",
    "        # instance method\n",
    "        print \"self details:\",self, id(self)\n",
    "        return self.name, self.age, self.company\n",
    "    @classmethod\n",
    "    def clm(cls):\n",
    "        print \"this is class method\"\n",
    "        print cls\n",
    "        print cls.company\n",
    "        print \"end of class method\"\n",
    "    @staticmethod\n",
    "    def sta(a,b):\n",
    "        print \"this is static method\"\n",
    "        print a\n",
    "        print b\n",
    "        print \"end of static method\"\n",
    "o1=Emp(\"anil\",23)\n",
    "print \"o1 details:\",o1, id(o1)\n",
    "o1.get()"
   ]
  },
  {
   "cell_type": "code",
   "execution_count": 49,
   "metadata": {},
   "outputs": [
    {
     "name": "stdout",
     "output_type": "stream",
     "text": [
      "o1 details: <__main__.Emp instance at 0x7f46c4562560> 139941918418272\n",
      "self details: <__main__.Emp instance at 0x7f46c4562560> 139941918418272\n",
      "('anil', 23, 'Khyaathi')\n",
      "Emp details: __main__.Emp 139941918403608\n",
      "this is class method\n",
      "cls details: __main__.Emp 139941918403608\n",
      "Khyaathi\n",
      "end of class method\n"
     ]
    }
   ],
   "source": [
    "class Emp:\n",
    "    company = \"Khyaathi\"\n",
    "    def __init__(self, name,age):\n",
    "        # instance method and constructor\n",
    "        self.name=name\n",
    "        self.age=age\n",
    "    def get(self):\n",
    "        # instance method\n",
    "        print \"self details:\",self, id(self)\n",
    "        return self.name, self.age, self.company\n",
    "    @classmethod\n",
    "    def clm(cls):\n",
    "        print \"this is class method\"\n",
    "        print \"cls details:\",cls,id(cls)\n",
    "        print cls.company\n",
    "        print \"end of class method\"\n",
    "    @staticmethod\n",
    "    def sta(a,b):\n",
    "        print \"this is static method\"\n",
    "        print a\n",
    "        print b\n",
    "        print \"end of static method\"\n",
    "o1=Emp(\"anil\",23)\n",
    "print \"o1 details:\",o1, id(o1)\n",
    "print o1.get()\n",
    "print \"Emp details:\",Emp,id(Emp)\n",
    "o1.clm()"
   ]
  },
  {
   "cell_type": "code",
   "execution_count": 50,
   "metadata": {},
   "outputs": [
    {
     "name": "stdout",
     "output_type": "stream",
     "text": [
      "o1 details: <__main__.Emp instance at 0x7f46c45626c8> 139941918418632\n",
      "self details: <__main__.Emp instance at 0x7f46c45626c8> 139941918418632\n",
      "('anil', 23, 'Khyaathi')\n",
      "Emp details: __main__.Emp 139941918404128\n",
      "this is class method\n",
      "cls details: __main__.Emp 139941918404128\n",
      "Khyaathi\n"
     ]
    },
    {
     "ename": "AttributeError",
     "evalue": "class Emp has no attribute 'name'",
     "output_type": "error",
     "traceback": [
      "\u001b[0;31m---------------------------------------------------------------------------\u001b[0m",
      "\u001b[0;31mAttributeError\u001b[0m                            Traceback (most recent call last)",
      "\u001b[0;32m<ipython-input-50-ed6766cfb3c7>\u001b[0m in \u001b[0;36m<module>\u001b[0;34m()\u001b[0m\n\u001b[1;32m     26\u001b[0m \u001b[0;32mprint\u001b[0m \u001b[0mo1\u001b[0m\u001b[0;34m.\u001b[0m\u001b[0mget\u001b[0m\u001b[0;34m(\u001b[0m\u001b[0;34m)\u001b[0m\u001b[0;34m\u001b[0m\u001b[0m\n\u001b[1;32m     27\u001b[0m \u001b[0;32mprint\u001b[0m \u001b[0;34m\"Emp details:\"\u001b[0m\u001b[0;34m,\u001b[0m\u001b[0mEmp\u001b[0m\u001b[0;34m,\u001b[0m\u001b[0mid\u001b[0m\u001b[0;34m(\u001b[0m\u001b[0mEmp\u001b[0m\u001b[0;34m)\u001b[0m\u001b[0;34m\u001b[0m\u001b[0m\n\u001b[0;32m---> 28\u001b[0;31m \u001b[0mo1\u001b[0m\u001b[0;34m.\u001b[0m\u001b[0mclm\u001b[0m\u001b[0;34m(\u001b[0m\u001b[0;34m)\u001b[0m\u001b[0;34m\u001b[0m\u001b[0m\n\u001b[0m",
      "\u001b[0;32m<ipython-input-50-ed6766cfb3c7>\u001b[0m in \u001b[0;36mclm\u001b[0;34m(cls)\u001b[0m\n\u001b[1;32m     14\u001b[0m         \u001b[0;32mprint\u001b[0m \u001b[0;34m\"cls details:\"\u001b[0m\u001b[0;34m,\u001b[0m\u001b[0mcls\u001b[0m\u001b[0;34m,\u001b[0m\u001b[0mid\u001b[0m\u001b[0;34m(\u001b[0m\u001b[0mcls\u001b[0m\u001b[0;34m)\u001b[0m\u001b[0;34m\u001b[0m\u001b[0m\n\u001b[1;32m     15\u001b[0m         \u001b[0;32mprint\u001b[0m \u001b[0mcls\u001b[0m\u001b[0;34m.\u001b[0m\u001b[0mcompany\u001b[0m\u001b[0;34m\u001b[0m\u001b[0m\n\u001b[0;32m---> 16\u001b[0;31m         \u001b[0;32mprint\u001b[0m \u001b[0mcls\u001b[0m\u001b[0;34m.\u001b[0m\u001b[0mname\u001b[0m\u001b[0;34m\u001b[0m\u001b[0m\n\u001b[0m\u001b[1;32m     17\u001b[0m         \u001b[0;32mprint\u001b[0m \u001b[0;34m\"end of class method\"\u001b[0m\u001b[0;34m\u001b[0m\u001b[0m\n\u001b[1;32m     18\u001b[0m     \u001b[0;34m@\u001b[0m\u001b[0mstaticmethod\u001b[0m\u001b[0;34m\u001b[0m\u001b[0m\n",
      "\u001b[0;31mAttributeError\u001b[0m: class Emp has no attribute 'name'"
     ]
    }
   ],
   "source": [
    "class Emp:\n",
    "    company = \"Khyaathi\"\n",
    "    def __init__(self, name,age):\n",
    "        # instance method and constructor\n",
    "        self.name=name\n",
    "        self.age=age\n",
    "    def get(self):\n",
    "        # instance method\n",
    "        print \"self details:\",self, id(self)\n",
    "        return self.name, self.age, self.company\n",
    "    @classmethod\n",
    "    def clm(cls):\n",
    "        print \"this is class method\"\n",
    "        print \"cls details:\",cls,id(cls)\n",
    "        print cls.company\n",
    "        print cls.name\n",
    "        print \"end of class method\"\n",
    "    @staticmethod\n",
    "    def sta(a,b):\n",
    "        print \"this is static method\"\n",
    "        print a\n",
    "        print b\n",
    "        print \"end of static method\"\n",
    "o1=Emp(\"anil\",23)\n",
    "print \"o1 details:\",o1, id(o1)\n",
    "print o1.get()\n",
    "print \"Emp details:\",Emp,id(Emp)\n",
    "o1.clm()"
   ]
  },
  {
   "cell_type": "code",
   "execution_count": 51,
   "metadata": {},
   "outputs": [
    {
     "name": "stdout",
     "output_type": "stream",
     "text": [
      "o1 details: <__main__.Emp instance at 0x7f46c4562e18> 139941918420504\n",
      "self details: <__main__.Emp instance at 0x7f46c4562e18> 139941918420504\n",
      "('anil', 23, 'Khyaathi')\n",
      "Emp details: __main__.Emp 139941919192056\n",
      "this is class method\n",
      "cls details: __main__.Emp 139941919192056\n",
      "Khyaathi\n",
      "end of class method\n",
      "this is static method\n",
      "100\n",
      "200\n",
      "end of static method\n"
     ]
    }
   ],
   "source": [
    "class Emp:\n",
    "    company = \"Khyaathi\"\n",
    "    def __init__(self, name,age):\n",
    "        # instance method and constructor\n",
    "        self.name=name\n",
    "        self.age=age\n",
    "    def get(self):\n",
    "        # instance method\n",
    "        print \"self details:\",self, id(self)\n",
    "        return self.name, self.age, self.company\n",
    "    @classmethod\n",
    "    def clm(cls):\n",
    "        print \"this is class method\"\n",
    "        print \"cls details:\",cls,id(cls)\n",
    "        print cls.company\n",
    "        print \"end of class method\"\n",
    "    @staticmethod\n",
    "    def sta(a,b):\n",
    "        print \"this is static method\"\n",
    "        print a\n",
    "        print b\n",
    "        print \"end of static method\"\n",
    "o1=Emp(\"anil\",23)\n",
    "print \"o1 details:\",o1, id(o1)\n",
    "print o1.get()\n",
    "print \"Emp details:\",Emp,id(Emp)\n",
    "o1.clm()\n",
    "o1.sta(100,200)"
   ]
  },
  {
   "cell_type": "code",
   "execution_count": 52,
   "metadata": {},
   "outputs": [
    {
     "name": "stdout",
     "output_type": "stream",
     "text": [
      "o1 details: <__main__.Emp instance at 0x7f46c45221b8> 139941918155192\n",
      "self details: <__main__.Emp instance at 0x7f46c45221b8> 139941918155192\n",
      "('anil', 23, 'Khyaathi')\n",
      "Emp details: __main__.Emp 139941919192472\n",
      "this is class method\n",
      "cls details: __main__.Emp 139941919192472\n",
      "Khyaathi\n",
      "end of class method\n",
      "this is static method\n",
      "100\n",
      "200\n",
      "end of static method\n",
      "this is class method\n",
      "cls details: __main__.Emp 139941919192472\n",
      "Khyaathi\n",
      "end of class method\n",
      "this is static method\n",
      "10000\n",
      "20000\n",
      "end of static method\n"
     ]
    }
   ],
   "source": [
    "class Emp:\n",
    "    company = \"Khyaathi\"\n",
    "    def __init__(self, name,age):\n",
    "        # instance method and constructor\n",
    "        self.name=name\n",
    "        self.age=age\n",
    "    def get(self):\n",
    "        # instance method\n",
    "        print \"self details:\",self, id(self)\n",
    "        return self.name, self.age, self.company\n",
    "    @classmethod\n",
    "    def clm(cls):\n",
    "        print \"this is class method\"\n",
    "        print \"cls details:\",cls,id(cls)\n",
    "        print cls.company\n",
    "        print \"end of class method\"\n",
    "    @staticmethod\n",
    "    def sta(a,b):\n",
    "        print \"this is static method\"\n",
    "        print a\n",
    "        print b\n",
    "        print \"end of static method\"\n",
    "o1=Emp(\"anil\",23)\n",
    "print \"o1 details:\",o1, id(o1)\n",
    "print o1.get()\n",
    "print \"Emp details:\",Emp,id(Emp)\n",
    "# Can call class method and static method using data object.\n",
    "o1.clm()\n",
    "o1.sta(100,200)\n",
    "# Can call class method and static method using class object.\n",
    "Emp.clm()\n",
    "Emp.sta(10000,20000)"
   ]
  },
  {
   "cell_type": "code",
   "execution_count": 53,
   "metadata": {},
   "outputs": [
    {
     "name": "stdout",
     "output_type": "stream",
     "text": [
      "Khyaathi\n",
      "('Khyaathi', 'anil', 23)\n"
     ]
    }
   ],
   "source": [
    "class Emp:\n",
    "    company = \"Khyaathi\"\n",
    "    def __init__(self, name,age):\n",
    "        # instance method and constructor\n",
    "        self.name=name\n",
    "        self.age=age\n",
    "    def get_company(self):\n",
    "        return self.company\n",
    "    def get_emp(self):\n",
    "        return self.company, self.name, self.age\n",
    "o1=Emp(\"anil\",23)\n",
    "print o1.get_company()\n",
    "print o1.get_emp()"
   ]
  },
  {
   "cell_type": "code",
   "execution_count": 54,
   "metadata": {},
   "outputs": [
    {
     "name": "stdout",
     "output_type": "stream",
     "text": [
      "Khyaathi\n",
      "('Khyaathi', 'anil', 23)\n"
     ]
    }
   ],
   "source": [
    "class Emp:\n",
    "    company = \"Khyaathi\"\n",
    "    def __init__(self, name,age):\n",
    "        # instance method and constructor\n",
    "        self.name=name\n",
    "        self.age=age\n",
    "    @classmethod\n",
    "    def get_company(cls):\n",
    "        return cls.company\n",
    "    def get_emp(self):\n",
    "        return self.company, self.name, self.age\n",
    "o1=Emp(\"anil\",23)\n",
    "print o1.get_company()\n",
    "print o1.get_emp()"
   ]
  },
  {
   "cell_type": "code",
   "execution_count": null,
   "metadata": {
    "collapsed": true
   },
   "outputs": [],
   "source": []
  }
 ],
 "metadata": {
  "kernelspec": {
   "display_name": "Python 2",
   "language": "python",
   "name": "python2"
  },
  "language_info": {
   "codemirror_mode": {
    "name": "ipython",
    "version": 2
   },
   "file_extension": ".py",
   "mimetype": "text/x-python",
   "name": "python",
   "nbconvert_exporter": "python",
   "pygments_lexer": "ipython2",
   "version": "2.7.14"
  }
 },
 "nbformat": 4,
 "nbformat_minor": 2
}
