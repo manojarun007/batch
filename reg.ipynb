{
 "cells": [
  {
   "cell_type": "code",
   "execution_count": 1,
   "metadata": {},
   "outputs": [
    {
     "name": "stdout",
     "output_type": "stream",
     "text": [
      "id,name,phone,email\n",
      "1,Anil kumar,9676622023,anil@gmail.com\n",
      "2,Ajay kumar,9676622024,AJAY@yahoo.co.in\n",
      "3,Ashok,9676622025,Ashokkumar@rediff.org\n",
      "\n"
     ]
    }
   ],
   "source": [
    "s=\"id,name,phone,email\\n1,Anil kumar,9676622023,anil@gmail.com\\n2,Ajay kumar,9676622024,\\\n",
    "AJAY@yahoo.co.in\\n3,Ashok,9676622025,Ashokkumar@rediff.org\\n\"\n",
    "print s"
   ]
  },
  {
   "cell_type": "code",
   "execution_count": 2,
   "metadata": {},
   "outputs": [
    {
     "data": {
      "text/plain": [
       "str"
      ]
     },
     "execution_count": 2,
     "metadata": {},
     "output_type": "execute_result"
    }
   ],
   "source": [
    "type(s)"
   ]
  },
  {
   "cell_type": "code",
   "execution_count": 3,
   "metadata": {},
   "outputs": [
    {
     "data": {
      "text/plain": [
       "['id,name,phone,email',\n",
       " '1,Anil kumar,9676622023,anil@gmail.com',\n",
       " '2,Ajay kumar,9676622024,AJAY@yahoo.co.in',\n",
       " '3,Ashok,9676622025,Ashokkumar@rediff.org']"
      ]
     },
     "execution_count": 3,
     "metadata": {},
     "output_type": "execute_result"
    }
   ],
   "source": [
    "s.splitlines()"
   ]
  },
  {
   "cell_type": "code",
   "execution_count": 4,
   "metadata": {},
   "outputs": [
    {
     "name": "stdout",
     "output_type": "stream",
     "text": [
      "id,name,phone,email\n"
     ]
    }
   ],
   "source": [
    "for row in s.splitlines():\n",
    "    print row\n",
    "    break"
   ]
  },
  {
   "cell_type": "code",
   "execution_count": 5,
   "metadata": {},
   "outputs": [
    {
     "name": "stdout",
     "output_type": "stream",
     "text": [
      "['id', 'name', 'phone', 'email']\n"
     ]
    }
   ],
   "source": [
    "for row in s.splitlines():\n",
    "    print row.split(\",\")\n",
    "    break"
   ]
  },
  {
   "cell_type": "code",
   "execution_count": 6,
   "metadata": {},
   "outputs": [
    {
     "name": "stdout",
     "output_type": "stream",
     "text": [
      "email\n",
      "anil@gmail.com\n",
      "AJAY@yahoo.co.in\n",
      "Ashokkumar@rediff.org\n"
     ]
    }
   ],
   "source": [
    "for row in s.splitlines():\n",
    "    print row.split(\",\")[-1]"
   ]
  },
  {
   "cell_type": "code",
   "execution_count": 7,
   "metadata": {},
   "outputs": [
    {
     "name": "stdout",
     "output_type": "stream",
     "text": [
      "phone\n",
      "9676622023\n",
      "9676622024\n",
      "9676622025\n"
     ]
    }
   ],
   "source": [
    "for row in s.splitlines():\n",
    "    print row.split(\",\")[2]"
   ]
  },
  {
   "cell_type": "code",
   "execution_count": 12,
   "metadata": {},
   "outputs": [
    {
     "data": {
      "text/plain": [
       "'id:234'"
      ]
     },
     "execution_count": 12,
     "metadata": {},
     "output_type": "execute_result"
    }
   ],
   "source": [
    "resp=\"warnings:'' customer created successfully.id:234.errors:'' \"\n",
    "resp[42:48]"
   ]
  },
  {
   "cell_type": "code",
   "execution_count": 13,
   "metadata": {
    "collapsed": true
   },
   "outputs": [],
   "source": [
    "import re"
   ]
  },
  {
   "cell_type": "code",
   "execution_count": 15,
   "metadata": {},
   "outputs": [
    {
     "data": {
      "text/plain": [
       "['id:234']"
      ]
     },
     "execution_count": 15,
     "metadata": {},
     "output_type": "execute_result"
    }
   ],
   "source": [
    "re.findall(\"id:[0-9]+\",resp)"
   ]
  },
  {
   "cell_type": "code",
   "execution_count": 17,
   "metadata": {},
   "outputs": [
    {
     "name": "stdout",
     "output_type": "stream",
     "text": [
      "1,Anil kumar,9676622023,anil@gmail.com\n",
      "Ajay kumar,2,9676622024,AJAY@yahoo.co.in\n",
      "9676622025,3,Ashok,Ashokkumar@rediff.org\n",
      "\n"
     ]
    }
   ],
   "source": [
    "s=\"1,Anil kumar,9676622023,anil@gmail.com\\nAjay kumar,2,9676622024,\\\n",
    "AJAY@yahoo.co.in\\n9676622025,3,Ashok,Ashokkumar@rediff.org\\n\"\n",
    "print s"
   ]
  },
  {
   "cell_type": "code",
   "execution_count": 18,
   "metadata": {},
   "outputs": [
    {
     "name": "stdout",
     "output_type": "stream",
     "text": [
      "9676622023\n",
      "9676622024\n",
      "Ashok\n"
     ]
    }
   ],
   "source": [
    "s=\"1,Anil kumar,9676622023,anil@gmail.com\\nAjay kumar,2,9676622024,\\\n",
    "AJAY@yahoo.co.in\\n9676622025,3,Ashok,Ashokkumar@rediff.org\\n\"\n",
    "for row in s.splitlines():\n",
    "    print row.split(\",\")[2]"
   ]
  },
  {
   "cell_type": "code",
   "execution_count": 21,
   "metadata": {},
   "outputs": [
    {
     "data": {
      "text/plain": [
       "['9676622023', '9676622024', '9676622025']"
      ]
     },
     "execution_count": 21,
     "metadata": {},
     "output_type": "execute_result"
    }
   ],
   "source": [
    "s=\"1,Anil kumar,9676622023,anil@gmail.com\\nAjay kumar,2,9676622024,\\\n",
    "AJAY@yahoo.co.in\\n9676622025,3,Ashok,Ashokkumar@rediff.org\\n\"\n",
    "re.findall(\"[0-9]{10}\",s)"
   ]
  },
  {
   "cell_type": "code",
   "execution_count": 22,
   "metadata": {},
   "outputs": [
    {
     "name": "stdout",
     "output_type": "stream",
     "text": [
      "[]\n"
     ]
    }
   ],
   "source": [
    "s=\"1,Anil kumar,9676622023,anil@gmail.com\\nAjay kumar,2,9676622024,\\\n",
    "AJAY@yahoo.co.in\\n9676622025,3,Ashok,Ashokkumar@rediff.org\\n\"\n",
    "print re.findall(\"abc\",s)"
   ]
  },
  {
   "cell_type": "code",
   "execution_count": 23,
   "metadata": {},
   "outputs": [
    {
     "name": "stdout",
     "output_type": "stream",
     "text": [
      "['a', 'a', 'a', 'c', 'a', 'a', 'a', 'c', 'a']\n"
     ]
    }
   ],
   "source": [
    "s=\"1,Anil kumar,9676622023,anil@gmail.com\\nAjay kumar,2,9676622024,\\\n",
    "AJAY@yahoo.co.in\\n9676622025,3,Ashok,Ashokkumar@rediff.org\\n\"\n",
    "print re.findall(\"[abc]\",s)"
   ]
  },
  {
   "cell_type": "code",
   "execution_count": 24,
   "metadata": {},
   "outputs": [
    {
     "name": "stdout",
     "output_type": "stream",
     "text": [
      "['n', 'i', 'l', 'k', 'u', 'm', 'a', 'r', 'a', 'n', 'i', 'l', 'g', 'm', 'a', 'i', 'l', 'c', 'o', 'm', 'j', 'a', 'y', 'k', 'u', 'm', 'a', 'r', 'y', 'a', 'h', 'o', 'o', 'c', 'o', 'i', 'n', 's', 'h', 'o', 'k', 's', 'h', 'o', 'k', 'k', 'u', 'm', 'a', 'r', 'r', 'e', 'd', 'i', 'f', 'f', 'o', 'r', 'g']\n"
     ]
    }
   ],
   "source": [
    "s=\"1,Anil kumar,9676622023,anil@gmail.com\\nAjay kumar,2,9676622024,\\\n",
    "AJAY@yahoo.co.in\\n9676622025,3,Ashok,Ashokkumar@rediff.org\\n\"\n",
    "print re.findall(\"[abcdefghijklmanopqrstuvwxyz]\",s)"
   ]
  },
  {
   "cell_type": "code",
   "execution_count": 25,
   "metadata": {},
   "outputs": [
    {
     "name": "stdout",
     "output_type": "stream",
     "text": [
      "['A', 'n', 'i', 'l', 'k', 'u', 'm', 'a', 'r', 'a', 'n', 'i', 'l', 'g', 'm', 'a', 'i', 'l', 'c', 'o', 'm', 'A', 'j', 'a', 'y', 'k', 'u', 'm', 'a', 'r', 'A', 'J', 'A', 'Y', 'y', 'a', 'h', 'o', 'o', 'c', 'o', 'i', 'n', 'A', 's', 'h', 'o', 'k', 'A', 's', 'h', 'o', 'k', 'k', 'u', 'm', 'a', 'r', 'r', 'e', 'd', 'i', 'f', 'f', 'o', 'r', 'g']\n"
     ]
    }
   ],
   "source": [
    "s=\"1,Anil kumar,9676622023,anil@gmail.com\\nAjay kumar,2,9676622024,\\\n",
    "AJAY@yahoo.co.in\\n9676622025,3,Ashok,Ashokkumar@rediff.org\\n\"\n",
    "print re.findall(\"[abcdefghijklmanopqrstuvwxyz]\",s,re.I)"
   ]
  },
  {
   "cell_type": "code",
   "execution_count": 26,
   "metadata": {},
   "outputs": [
    {
     "name": "stdout",
     "output_type": "stream",
     "text": [
      "['A', 'n', 'i', 'l', 'k', 'u', 'm', 'a', 'r', 'a', 'n', 'i', 'l', 'g', 'm', 'a', 'i', 'l', 'c', 'o', 'm', 'A', 'j', 'a', 'y', 'k', 'u', 'm', 'a', 'r', 'A', 'J', 'A', 'Y', 'y', 'a', 'h', 'o', 'o', 'c', 'o', 'i', 'n', 'A', 's', 'h', 'o', 'k', 'A', 's', 'h', 'o', 'k', 'k', 'u', 'm', 'a', 'r', 'r', 'e', 'd', 'i', 'f', 'f', 'o', 'r', 'g']\n"
     ]
    }
   ],
   "source": [
    "s=\"1,Anil kumar,9676622023,anil@gmail.com\\nAjay kumar,2,9676622024,\\\n",
    "AJAY@yahoo.co.in\\n9676622025,3,Ashok,Ashokkumar@rediff.org\\n\"\n",
    "print re.findall(\"[a-z]\",s,re.I)"
   ]
  },
  {
   "cell_type": "code",
   "execution_count": 28,
   "metadata": {},
   "outputs": [
    {
     "name": "stdout",
     "output_type": "stream",
     "text": [
      "['r2', 'k3']\n"
     ]
    }
   ],
   "source": [
    "s=\"1,Anil kumar2,9676622023,anil@gmail.com\\nAjay kumar,2,9676622024,\\\n",
    "AJAY@yahoo.co.in\\n9676622025,3,Ashok3,Ashokkumar@rediff.org\\n\"\n",
    "print re.findall(\"[a-z][0-9]\",s,re.I)"
   ]
  },
  {
   "cell_type": "code",
   "execution_count": 29,
   "metadata": {},
   "outputs": [
    {
     "name": "stdout",
     "output_type": "stream",
     "text": [
      "['96', '76', '62', '20', '23', '96', '76', '62', '20', '24', '96', '76', '62', '20', '25']\n"
     ]
    }
   ],
   "source": [
    "s=\"1,Anil kumar2,9676622023,anil@gmail.com\\nAjay kumar,2,9676622024,\\\n",
    "AJAY@yahoo.co.in\\n9676622025,3,Ashok3,Ashokkumar@rediff.org\\n\"\n",
    "print re.findall(\"[0-9][0-9]\",s,re.I)"
   ]
  },
  {
   "cell_type": "code",
   "execution_count": 30,
   "metadata": {},
   "outputs": [
    {
     "name": "stdout",
     "output_type": "stream",
     "text": [
      "['967', '662', '202', '967', '662', '202', '967', '662', '202']\n"
     ]
    }
   ],
   "source": [
    "s=\"1,Anil kumar2,9676622023,anil@gmail.com\\nAjay kumar,2,9676622024,\\\n",
    "AJAY@yahoo.co.in\\n9676622025,3,Ashok3,Ashokkumar@rediff.org\\n\"\n",
    "print re.findall(\"[0-9][0-9][0-9]\",s,re.I)"
   ]
  },
  {
   "cell_type": "code",
   "execution_count": 31,
   "metadata": {},
   "outputs": [
    {
     "name": "stdout",
     "output_type": "stream",
     "text": [
      "['9676', '6220', '9676', '6220', '9676', '6220']\n"
     ]
    }
   ],
   "source": [
    "s=\"1,Anil kumar2,9676622023,anil@gmail.com\\nAjay kumar,2,9676622024,\\\n",
    "AJAY@yahoo.co.in\\n9676622025,3,Ashok3,Ashokkumar@rediff.org\\n\"\n",
    "print re.findall(\"[0-9][0-9][0-9][0-9]\",s,re.I)"
   ]
  },
  {
   "cell_type": "code",
   "execution_count": 32,
   "metadata": {},
   "outputs": [
    {
     "name": "stdout",
     "output_type": "stream",
     "text": [
      "['9676', '6220', '9676', '6220', '9676', '6220']\n"
     ]
    }
   ],
   "source": [
    "s=\"1,Anil kumar2,9676622023,anil@gmail.com\\nAjay kumar,2,9676622024,\\\n",
    "AJAY@yahoo.co.in\\n9676622025,3,Ashok3,Ashokkumar@rediff.org\\n\"\n",
    "print re.findall(\"[0-9]{4}\",s,re.I)"
   ]
  },
  {
   "cell_type": "code",
   "execution_count": 33,
   "metadata": {},
   "outputs": [
    {
     "name": "stdout",
     "output_type": "stream",
     "text": [
      "['9676622023', '9676622024', '9676622025']\n"
     ]
    }
   ],
   "source": [
    "s=\"1,Anil kumar2,9676622023,anil@gmail.com\\nAjay kumar,2,9676622024,\\\n",
    "AJAY@yahoo.co.in\\n9676622025,3,Ashok3,Ashokkumar@rediff.org\\n\"\n",
    "print re.findall(\"[0-9]{10}\",s,re.I)"
   ]
  },
  {
   "cell_type": "code",
   "execution_count": 34,
   "metadata": {},
   "outputs": [
    {
     "name": "stdout",
     "output_type": "stream",
     "text": [
      "['9676622023', '9676622024', '9676622025']\n"
     ]
    }
   ],
   "source": [
    "s=\"1,Anil kumar2,9676622023,anil@gmail.com\\nAjay kumar,2,9676622024,\\\n",
    "AJAY@yahoo.co.in\\n9676622025,3,Ashok3,Ashokkumar@rediff.org\\n\"\n",
    "print re.findall(\"[0-9]{5,10}\",s,re.I)"
   ]
  },
  {
   "cell_type": "code",
   "execution_count": 35,
   "metadata": {},
   "outputs": [
    {
     "name": "stdout",
     "output_type": "stream",
     "text": [
      "['1', '2', '9676622023', '2', '9676622024', '9676622025', '3', '3']\n"
     ]
    }
   ],
   "source": [
    "s=\"1,Anil kumar2,9676622023,anil@gmail.com\\nAjay kumar,2,9676622024,\\\n",
    "AJAY@yahoo.co.in\\n9676622025,3,Ashok3,Ashokkumar@rediff.org\\n\"\n",
    "print re.findall(\"[0-9]{1,10}\",s,re.I)"
   ]
  },
  {
   "cell_type": "code",
   "execution_count": 36,
   "metadata": {},
   "outputs": [
    {
     "name": "stdout",
     "output_type": "stream",
     "text": [
      "['1', '2', '9676622023', '2', '9676622024', '9676622025', '3', '3']\n"
     ]
    }
   ],
   "source": [
    "s=\"1,Anil kumar2,9676622023,anil@gmail.com\\nAjay kumar,2,9676622024,\\\n",
    "AJAY@yahoo.co.in\\n9676622025,3,Ashok3,Ashokkumar@rediff.org\\n\"\n",
    "print re.findall(\"[0-9]{1,}\",s,re.I)"
   ]
  },
  {
   "cell_type": "code",
   "execution_count": 37,
   "metadata": {},
   "outputs": [
    {
     "name": "stdout",
     "output_type": "stream",
     "text": [
      "['1', '2', '9676622023', '2', '9676622024', '9676622025', '3', '3']\n"
     ]
    }
   ],
   "source": [
    "s=\"1,Anil kumar2,9676622023,anil@gmail.com\\nAjay kumar,2,9676622024,\\\n",
    "AJAY@yahoo.co.in\\n9676622025,3,Ashok3,Ashokkumar@rediff.org\\n\"\n",
    "print re.findall(\"[0-9]+\",s,re.I)"
   ]
  },
  {
   "cell_type": "code",
   "execution_count": 38,
   "metadata": {},
   "outputs": [
    {
     "name": "stdout",
     "output_type": "stream",
     "text": [
      "['1', '', '', '', '', '', '', '', '', '', '', '', '2', '', '9676622023', '', '', '', '', '', '', '', '', '', '', '', '', '', '', '', '', '', '', '', '', '', '', '', '', '', '', '', '2', '', '9676622024', '', '', '', '', '', '', '', '', '', '', '', '', '', '', '', '', '', '', '9676622025', '', '3', '', '', '', '', '', '', '3', '', '', '', '', '', '', '', '', '', '', '', '', '', '', '', '', '', '', '', '', '', '', '', '']\n"
     ]
    }
   ],
   "source": [
    "s=\"1,Anil kumar2,9676622023,anil@gmail.com\\nAjay kumar,2,9676622024,\\\n",
    "AJAY@yahoo.co.in\\n9676622025,3,Ashok3,Ashokkumar@rediff.org\\n\"\n",
    "print re.findall(\"[0-9]{0,}\",s,re.I)"
   ]
  },
  {
   "cell_type": "code",
   "execution_count": 39,
   "metadata": {},
   "outputs": [
    {
     "name": "stdout",
     "output_type": "stream",
     "text": [
      "['1', '', '', '', '', '', '', '', '', '', '', '', '2', '', '9676622023', '', '', '', '', '', '', '', '', '', '', '', '', '', '', '', '', '', '', '', '', '', '', '', '', '', '', '', '2', '', '9676622024', '', '', '', '', '', '', '', '', '', '', '', '', '', '', '', '', '', '', '9676622025', '', '3', '', '', '', '', '', '', '3', '', '', '', '', '', '', '', '', '', '', '', '', '', '', '', '', '', '', '', '', '', '', '', '']\n"
     ]
    }
   ],
   "source": [
    "s=\"1,Anil kumar2,9676622023,anil@gmail.com\\nAjay kumar,2,9676622024,\\\n",
    "AJAY@yahoo.co.in\\n9676622025,3,Ashok3,Ashokkumar@rediff.org\\n\"\n",
    "print re.findall(\"[0-9]*\",s,re.I)"
   ]
  },
  {
   "cell_type": "code",
   "execution_count": 40,
   "metadata": {},
   "outputs": [
    {
     "name": "stdout",
     "output_type": "stream",
     "text": [
      "['1', '', '', '', '', '', '', '', '', '', '', '', '2', '', '9', '6', '7', '6', '6', '2', '2', '0', '2', '3', '', '', '', '', '', '', '', '', '', '', '', '', '', '', '', '', '', '', '', '', '', '', '', '', '', '', '', '2', '', '9', '6', '7', '6', '6', '2', '2', '0', '2', '4', '', '', '', '', '', '', '', '', '', '', '', '', '', '', '', '', '', '', '9', '6', '7', '6', '6', '2', '2', '0', '2', '5', '', '3', '', '', '', '', '', '', '3', '', '', '', '', '', '', '', '', '', '', '', '', '', '', '', '', '', '', '', '', '', '', '', '']\n"
     ]
    }
   ],
   "source": [
    "s=\"1,Anil kumar2,9676622023,anil@gmail.com\\nAjay kumar,2,9676622024,\\\n",
    "AJAY@yahoo.co.in\\n9676622025,3,Ashok3,Ashokkumar@rediff.org\\n\"\n",
    "print re.findall(\"[0-9]{0,1}\",s,re.I)"
   ]
  },
  {
   "cell_type": "code",
   "execution_count": 41,
   "metadata": {},
   "outputs": [
    {
     "name": "stdout",
     "output_type": "stream",
     "text": [
      "['1', '', '', '', '', '', '', '', '', '', '', '', '2', '', '9', '6', '7', '6', '6', '2', '2', '0', '2', '3', '', '', '', '', '', '', '', '', '', '', '', '', '', '', '', '', '', '', '', '', '', '', '', '', '', '', '', '2', '', '9', '6', '7', '6', '6', '2', '2', '0', '2', '4', '', '', '', '', '', '', '', '', '', '', '', '', '', '', '', '', '', '', '9', '6', '7', '6', '6', '2', '2', '0', '2', '5', '', '3', '', '', '', '', '', '', '3', '', '', '', '', '', '', '', '', '', '', '', '', '', '', '', '', '', '', '', '', '', '', '', '']\n"
     ]
    }
   ],
   "source": [
    "s=\"1,Anil kumar2,9676622023,anil@gmail.com\\nAjay kumar,2,9676622024,\\\n",
    "AJAY@yahoo.co.in\\n9676622025,3,Ashok3,Ashokkumar@rediff.org\\n\"\n",
    "print re.findall(\"[0-9]?\",s,re.I)"
   ]
  },
  {
   "cell_type": "code",
   "execution_count": 42,
   "metadata": {},
   "outputs": [
    {
     "name": "stdout",
     "output_type": "stream",
     "text": [
      "1,Anil kumar2,9676622023,anil@gmail.com\n",
      "Ajay kumar,2,9676622024,AJAY@yahoo.co.in\n",
      "9676622025,3,Ashok3,Ashokkumar@rediff.org\n",
      "\n"
     ]
    }
   ],
   "source": [
    "s=\"1,Anil kumar2,9676622023,anil@gmail.com\\nAjay kumar,2,9676622024,\\\n",
    "AJAY@yahoo.co.in\\n9676622025,3,Ashok3,Ashokkumar@rediff.org\\n\"\n",
    "print s"
   ]
  },
  {
   "cell_type": "code",
   "execution_count": 43,
   "metadata": {},
   "outputs": [
    {
     "name": "stdout",
     "output_type": "stream",
     "text": [
      "['1', '2', '9', '6', '7', '6', '6', '2', '2', '0', '2', '3', '2', '9', '6', '7', '6', '6', '2', '2', '0', '2', '4', '9', '6', '7', '6', '6', '2', '2', '0', '2', '5', '3', '3']\n"
     ]
    }
   ],
   "source": [
    "s=\"1,Anil kumar2,9676622023,anil@gmail.com\\nAjay kumar,2,9676622024,\\\n",
    "AJAY@yahoo.co.in\\n9676622025,3,Ashok3,Ashokkumar@rediff.org\\n\"\n",
    "print re.findall(\"[0-9]\",s)"
   ]
  },
  {
   "cell_type": "code",
   "execution_count": 44,
   "metadata": {},
   "outputs": [
    {
     "name": "stdout",
     "output_type": "stream",
     "text": [
      "['1']\n"
     ]
    }
   ],
   "source": [
    "s=\"1,Anil kumar2,9676622023,anil@gmail.com\\nAjay kumar,2,9676622024,\\\n",
    "AJAY@yahoo.co.in\\n9676622025,3,Ashok3,Ashokkumar@rediff.org\\n\"\n",
    "print re.findall(\"^[0-9]\",s)"
   ]
  },
  {
   "cell_type": "code",
   "execution_count": 45,
   "metadata": {},
   "outputs": [
    {
     "name": "stdout",
     "output_type": "stream",
     "text": [
      "[]\n"
     ]
    }
   ],
   "source": [
    "s=\"1,Anil kumar2,9676622023,anil@gmail.com\\nAjay kumar,2,9676622024,\\\n",
    "AJAY@yahoo.co.in\\n9676622025,3,Ashok3,Ashokkumar@rediff.org\\n\"\n",
    "print re.findall(\"[0-9]$\",s)"
   ]
  },
  {
   "cell_type": "code",
   "execution_count": 46,
   "metadata": {},
   "outputs": [
    {
     "name": "stdout",
     "output_type": "stream",
     "text": [
      "['3']\n"
     ]
    }
   ],
   "source": [
    "s=\"1,Anil kumar2,9676622023,anil@gmail.com\\nAjay kumar,2,9676622024,\\\n",
    "AJAY@yahoo.co.in\\n9676622025,3,Ashok3,Ashokkumar@rediff.org23\\n\"\n",
    "print re.findall(\"[0-9]$\",s)"
   ]
  },
  {
   "cell_type": "code",
   "execution_count": 47,
   "metadata": {},
   "outputs": [
    {
     "name": "stdout",
     "output_type": "stream",
     "text": [
      "['23']\n"
     ]
    }
   ],
   "source": [
    "s=\"1,Anil kumar2,9676622023,anil@gmail.com\\nAjay kumar,2,9676622024,\\\n",
    "AJAY@yahoo.co.in\\n9676622025,3,Ashok3,Ashokkumar@rediff.org23\\n\"\n",
    "print re.findall(\"[0-9]+$\",s)"
   ]
  },
  {
   "cell_type": "code",
   "execution_count": 48,
   "metadata": {},
   "outputs": [
    {
     "name": "stdout",
     "output_type": "stream",
     "text": [
      "['1', '2', '9', '6', '7', '6', '6', '2', '2', '0', '2', '3', '2', '9', '6', '7', '6', '6', '2', '2', '0', '2', '4', '9', '6', '7', '6', '6', '2', '2', '0', '2', '5', '3', '3']\n"
     ]
    }
   ],
   "source": [
    "s=\"1,Anil kumar2,9676622023,anil@gmail.com\\nAjay kumar,2,9676622024,\\\n",
    "AJAY@yahoo.co.in\\n9676622025,3,Ashok3,Ashokkumar@rediff.org\\n\"\n",
    "print re.findall(\"[0-9]\",s)"
   ]
  },
  {
   "cell_type": "code",
   "execution_count": 49,
   "metadata": {},
   "outputs": [
    {
     "name": "stdout",
     "output_type": "stream",
     "text": [
      "[',', 'A', 'n', 'i', 'l', ' ', 'k', 'u', 'm', 'a', 'r', ',', ',', 'a', 'n', 'i', 'l', '@', 'g', 'm', 'a', 'i', 'l', '.', 'c', 'o', 'm', '\\n', 'A', 'j', 'a', 'y', ' ', 'k', 'u', 'm', 'a', 'r', ',', ',', ',', 'A', 'J', 'A', 'Y', '@', 'y', 'a', 'h', 'o', 'o', '.', 'c', 'o', '.', 'i', 'n', '\\n', ',', ',', 'A', 's', 'h', 'o', 'k', ',', 'A', 's', 'h', 'o', 'k', 'k', 'u', 'm', 'a', 'r', '@', 'r', 'e', 'd', 'i', 'f', 'f', '.', 'o', 'r', 'g', '\\n']\n"
     ]
    }
   ],
   "source": [
    "s=\"1,Anil kumar2,9676622023,anil@gmail.com\\nAjay kumar,2,9676622024,\\\n",
    "AJAY@yahoo.co.in\\n9676622025,3,Ashok3,Ashokkumar@rediff.org\\n\"\n",
    "print re.findall(\"[^0-9]\",s)"
   ]
  },
  {
   "cell_type": "code",
   "execution_count": 50,
   "metadata": {},
   "outputs": [
    {
     "name": "stdout",
     "output_type": "stream",
     "text": [
      "['a', 'b']\n"
     ]
    }
   ],
   "source": [
    "print [\"a\",\"b\"]"
   ]
  },
  {
   "cell_type": "code",
   "execution_count": 51,
   "metadata": {},
   "outputs": [
    {
     "name": "stdout",
     "output_type": "stream",
     "text": [
      "[]\n"
     ]
    }
   ],
   "source": [
    "s=\"1,Anil kumar2,9676622023,anil@gmail.com\\nAjay kumar,2,9676622024,\\\n",
    "AJAY@yahoo.co.in\\n9676622025,3,Ashok3,Ashokkumar@rediff.org\\n\"\n",
    "print re.findall(\"as[a-z]*ar\",s)"
   ]
  },
  {
   "cell_type": "code",
   "execution_count": 52,
   "metadata": {},
   "outputs": [
    {
     "name": "stdout",
     "output_type": "stream",
     "text": [
      "['Ashokkumar']\n"
     ]
    }
   ],
   "source": [
    "s=\"1,Anil kumar2,9676622023,anil@gmail.com\\nAjay kumar,2,9676622024,\\\n",
    "AJAY@yahoo.co.in\\n9676622025,3,Ashok3,Ashokkumar@rediff.org\\n\"\n",
    "print re.findall(\"as[a-z]*ar\",s,re.I)"
   ]
  },
  {
   "cell_type": "code",
   "execution_count": 53,
   "metadata": {},
   "outputs": [
    {
     "name": "stdout",
     "output_type": "stream",
     "text": [
      "[]\n"
     ]
    }
   ],
   "source": [
    "s=\"1,Anil kumar2,9676622023,anil@gmail.com\\nAjay kumar,2,9676622024,\\\n",
    "AJAY@yahoo.co.in\\n9676622025,3,Ashok3,Ashok kumar@rediff.org\\n\"\n",
    "print re.findall(\"as[a-z]*ar\",s,re.I)"
   ]
  },
  {
   "cell_type": "code",
   "execution_count": 54,
   "metadata": {},
   "outputs": [
    {
     "name": "stdout",
     "output_type": "stream",
     "text": [
      "['Ashok kumar']\n"
     ]
    }
   ],
   "source": [
    "s=\"1,Anil kumar2,9676622023,anil@gmail.com\\nAjay kumar,2,9676622024,\\\n",
    "AJAY@yahoo.co.in\\n9676622025,3,Ashok3,Ashok kumar@rediff.org\\n\"\n",
    "print re.findall(\"as[a-z ]*ar\",s,re.I)"
   ]
  },
  {
   "cell_type": "code",
   "execution_count": 55,
   "metadata": {},
   "outputs": [
    {
     "name": "stdout",
     "output_type": "stream",
     "text": [
      "['1', ',', 'A', 'n', 'i', 'l', ' ', 'k', 'u', 'm', 'a', 'r', '2', ',', '9', '6', '7', '6', '6', '2', '2', '0', '2', '3', ',', 'a', 'n', 'i', 'l', '@', 'g', 'm', 'a', 'i', 'l', '.', 'c', 'o', 'm', 'A', 'j', 'a', 'y', ' ', 'k', 'u', 'm', 'a', 'r', ',', '2', ',', '9', '6', '7', '6', '6', '2', '2', '0', '2', '4', ',', 'A', 'J', 'A', 'Y', '@', 'y', 'a', 'h', 'o', 'o', '.', 'c', 'o', '.', 'i', 'n', '9', '6', '7', '6', '6', '2', '2', '0', '2', '5', ',', '3', ',', 'A', 's', 'h', 'o', 'k', '3', ',', 'A', 's', 'h', 'o', 'k', ' ', 'k', 'u', 'm', 'a', 'r', '@', 'r', 'e', 'd', 'i', 'f', 'f', '.', 'o', 'r', 'g']\n"
     ]
    }
   ],
   "source": [
    "s=\"1,Anil kumar2,9676622023,anil@gmail.com\\nAjay kumar,2,9676622024,\\\n",
    "AJAY@yahoo.co.in\\n9676622025,3,Ashok3,Ashok kumar@rediff.org\\n\"\n",
    "print re.findall(\".\",s,re.I)"
   ]
  },
  {
   "cell_type": "code",
   "execution_count": 56,
   "metadata": {},
   "outputs": [
    {
     "name": "stdout",
     "output_type": "stream",
     "text": [
      "['1', ',', 'A', 'n', 'i', 'l', ' ', 'k', 'u', 'm', 'a', 'r', '2', ',', '9', '6', '7', '6', '6', '2', '2', '0', '2', '3', ',', 'a', 'n', 'i', 'l', '@', 'g', 'm', 'a', 'i', 'l', '.', 'c', 'o', 'm', '\\n', 'A', 'j', 'a', 'y', ' ', 'k', 'u', 'm', 'a', 'r', ',', '2', ',', '9', '6', '7', '6', '6', '2', '2', '0', '2', '4', ',', 'A', 'J', 'A', 'Y', '@', 'y', 'a', 'h', 'o', 'o', '.', 'c', 'o', '.', 'i', 'n', '\\n', '9', '6', '7', '6', '6', '2', '2', '0', '2', '5', ',', '3', ',', 'A', 's', 'h', 'o', 'k', '3', ',', 'A', 's', 'h', 'o', 'k', ' ', 'k', 'u', 'm', 'a', 'r', '@', 'r', 'e', 'd', 'i', 'f', 'f', '.', 'o', 'r', 'g', '\\n']\n"
     ]
    }
   ],
   "source": [
    "s=\"1,Anil kumar2,9676622023,anil@gmail.com\\nAjay kumar,2,9676622024,\\\n",
    "AJAY@yahoo.co.in\\n9676622025,3,Ashok3,Ashok kumar@rediff.org\\n\"\n",
    "print re.findall(\".\",s,re.I|re.DOTALL)"
   ]
  },
  {
   "cell_type": "code",
   "execution_count": 57,
   "metadata": {},
   "outputs": [
    {
     "name": "stdout",
     "output_type": "stream",
     "text": [
      "['.', '.', '.', '.']\n"
     ]
    }
   ],
   "source": [
    "s=\"1,Anil kumar2,9676622023,anil_kumar@gmail.com\\nAjay kumar,2,9676622024,\\\n",
    "AJAY@yahoo.co.in\\n9676622025,3,Ashok3,Ashok kumar@rediff.org\\n\"\n",
    "print re.findall(\"\\.\",s,re.I|re.DOTALL)"
   ]
  },
  {
   "cell_type": "code",
   "execution_count": 58,
   "metadata": {},
   "outputs": [
    {
     "name": "stdout",
     "output_type": "stream",
     "text": [
      "['anil_kumar@gmail.com', 'AJAY@yahoo.co.in', 'kumar@rediff.org']\n"
     ]
    }
   ],
   "source": [
    "#sambapython@gmail.com\n",
    "#sambapython-username--- [a-z0-9_]+\n",
    "#@--- @\n",
    "#gamil-domain name-- [a-z]+\n",
    "#. -- \\.\n",
    "#com- extension-- [.a-z]*\n",
    "s=\"1,Anil kumar2,9676622023,anil_kumar@gmail.com\\nAjay kumar,2,9676622024,\\\n",
    "AJAY@yahoo.co.in\\n9676622025,3,Ashok3,Ashok kumar@rediff.org\\n\"\n",
    "print re.findall(\"[a-z0-9_]+@[a-z]+\\.[.a-z]*\",s,re.I|re.DOTALL)"
   ]
  },
  {
   "cell_type": "code",
   "execution_count": 59,
   "metadata": {},
   "outputs": [
    {
     "name": "stdout",
     "output_type": "stream",
     "text": [
      "['1', '2', '9', '6', '7', '6', '6', '2', '2', '0', '2', '3', '2', '9', '6', '7', '6', '6', '2', '2', '0', '2', '4', '9', '6', '7', '6', '6', '2', '2', '0', '2', '5', '3', '3']\n"
     ]
    }
   ],
   "source": [
    "s=\"1,Anil kumar2,9676622023,anil_kumar@gmail.com\\nAjay kumar,2,9676622024,\\\n",
    "AJAY@yahoo.co.in\\n9676622025,3,Ashok3,Ashok kumar@rediff.org\\n\"\n",
    "print re.findall(\"\\d\",s)"
   ]
  },
  {
   "cell_type": "code",
   "execution_count": 60,
   "metadata": {},
   "outputs": [
    {
     "name": "stdout",
     "output_type": "stream",
     "text": [
      "['1', 'A', 'n', 'i', 'l', 'k', 'u', 'm', 'a', 'r', '2', '9', '6', '7', '6', '6', '2', '2', '0', '2', '3', 'a', 'n', 'i', 'l', '_', 'k', 'u', 'm', 'a', 'r', 'g', 'm', 'a', 'i', 'l', 'c', 'o', 'm', 'A', 'j', 'a', 'y', 'k', 'u', 'm', 'a', 'r', '2', '9', '6', '7', '6', '6', '2', '2', '0', '2', '4', 'A', 'J', 'A', 'Y', 'y', 'a', 'h', 'o', 'o', 'c', 'o', 'i', 'n', '9', '6', '7', '6', '6', '2', '2', '0', '2', '5', '3', 'A', 's', 'h', 'o', 'k', '3', 'A', 's', 'h', 'o', 'k', 'k', 'u', 'm', 'a', 'r', 'r', 'e', 'd', 'i', 'f', 'f', 'o', 'r', 'g']\n"
     ]
    }
   ],
   "source": [
    "s=\"1,Anil kumar2,9676622023,anil_kumar@gmail.com\\nAjay kumar,2,9676622024,\\\n",
    "AJAY@yahoo.co.in\\n9676622025,3,Ashok3,Ashok kumar@rediff.org\\n\"\n",
    "print re.findall(\"\\w\",s)"
   ]
  },
  {
   "cell_type": "code",
   "execution_count": 61,
   "metadata": {},
   "outputs": [
    {
     "name": "stdout",
     "output_type": "stream",
     "text": [
      "['anil_kumar@gmail.com', 'AJAY@yahoo.co.in', 'kumar@rediff.org']\n"
     ]
    }
   ],
   "source": [
    "#sambapython@gmail.com\n",
    "#sambapython-username--- [a-z0-9_]+\n",
    "#@--- @\n",
    "#gamil-domain name-- [a-z]+\n",
    "#. -- \\.\n",
    "#com- extension-- [.a-z]*\n",
    "s=\"1,Anil kumar2,9676622023,anil_kumar@gmail.com\\nAjay kumar,2,9676622024,\\\n",
    "AJAY@yahoo.co.in\\n9676622025,3,Ashok3,Ashok kumar@rediff.org\\n\"\n",
    "print re.findall(\"\\w+@[a-z]+\\.[.a-z]*\",s,re.I|re.DOTALL)"
   ]
  },
  {
   "cell_type": "code",
   "execution_count": 62,
   "metadata": {},
   "outputs": [
    {
     "name": "stdout",
     "output_type": "stream",
     "text": [
      "<_sre.SRE_Match object at 0x7f78305787e8>\n"
     ]
    }
   ],
   "source": [
    "s=\"1,Anil kumar2,9676622023,anil_kumar@gmail.com\\nAjay kumar,2,9676622024,\\\n",
    "AJAY@yahoo.co.in\\n9676622025,3,Ashok3,Ashok kumar@rediff.org\\n\"\n",
    "print re.match(\"[0-9]\",s,re.I|re.DOTALL)"
   ]
  },
  {
   "cell_type": "code",
   "execution_count": 63,
   "metadata": {},
   "outputs": [
    {
     "name": "stdout",
     "output_type": "stream",
     "text": [
      "None\n"
     ]
    }
   ],
   "source": [
    "s=\"1,Anil kumar2,9676622023,anil_kumar@gmail.com\\nAjay kumar,2,9676622024,\\\n",
    "AJAY@yahoo.co.in\\n9676622025,3,Ashok3,Ashok kumar@rediff.org\\n\"\n",
    "print re.match(\"[a-z]\",s,re.I|re.DOTALL)"
   ]
  },
  {
   "cell_type": "code",
   "execution_count": 64,
   "metadata": {},
   "outputs": [
    {
     "name": "stdout",
     "output_type": "stream",
     "text": [
      "<_sre.SRE_Match object at 0x7f7830578850>\n"
     ]
    }
   ],
   "source": [
    "s=\"1,Anil kumar2,9676622023,anil_kumar@gmail.com\\nAjay kumar,2,9676622024,\\\n",
    "AJAY@yahoo.co.in\\n9676622025,3,Ashok3,Ashok kumar@rediff.org\\n\"\n",
    "print re.search(\"[a-z]\",s,re.I|re.DOTALL)"
   ]
  },
  {
   "cell_type": "code",
   "execution_count": 65,
   "metadata": {},
   "outputs": [
    {
     "name": "stdout",
     "output_type": "stream",
     "text": [
      "['A', 'n', 'i', 'l', 'k', 'u', 'm', 'a', 'r', 'a', 'n', 'i', 'l', 'k', 'u', 'm', 'a', 'r', 'g', 'm', 'a', 'i', 'l', 'c', 'o', 'm', 'A', 'j', 'a', 'y', 'k', 'u', 'm', 'a', 'r', 'A', 'J', 'A', 'Y', 'y', 'a', 'h', 'o', 'o', 'c', 'o', 'i', 'n', 'A', 's', 'h', 'o', 'k', 'A', 's', 'h', 'o', 'k', 'k', 'u', 'm', 'a', 'r', 'r', 'e', 'd', 'i', 'f', 'f', 'o', 'r', 'g']\n"
     ]
    }
   ],
   "source": [
    "s=\"1,Anil kumar2,9676622023,anil_kumar@gmail.com\\nAjay kumar,2,9676622024,\\\n",
    "AJAY@yahoo.co.in\\n9676622025,3,Ashok3,Ashok kumar@rediff.org\\n\"\n",
    "print re.findall(\"[a-z]\",s,re.I|re.DOTALL)"
   ]
  },
  {
   "cell_type": "code",
   "execution_count": 67,
   "metadata": {},
   "outputs": [
    {
     "name": "stdout",
     "output_type": "stream",
     "text": [
      "1,Anil kumar2,9676622023,anil_kumar@gmail.com\n",
      "Ajay kumar,2,9676622024,AJAY@yahoo.co.in\n",
      "9676622025,3,Ashok3,Ashok kumar@rediff.org\n",
      "\n",
      "[]\n"
     ]
    }
   ],
   "source": [
    "s=\"1,Anil kumar2,9676622023,anil_kumar@gmail.com\\nAjay kumar,2,9676622024,\\\n",
    "AJAY@yahoo.co.in\\n9676622025,3,Ashok3,Ashok kumar@rediff.org\\n\"\n",
    "print s\n",
    "print re.findall(\"^[a-z]\",s,re.I|re.DOTALL)"
   ]
  },
  {
   "cell_type": "code",
   "execution_count": 68,
   "metadata": {},
   "outputs": [
    {
     "name": "stdout",
     "output_type": "stream",
     "text": [
      "1,Anil kumar2,9676622023,anil_kumar@gmail.com\n",
      "Ajay kumar,2,9676622024,AJAY@yahoo.co.in\n",
      "9676622025,3,Ashok3,Ashok kumar@rediff.org\n",
      "\n",
      "['A']\n"
     ]
    }
   ],
   "source": [
    "s=\"1,Anil kumar2,9676622023,anil_kumar@gmail.com\\nAjay kumar,2,9676622024,\\\n",
    "AJAY@yahoo.co.in\\n9676622025,3,Ashok3,Ashok kumar@rediff.org\\n\"\n",
    "print s\n",
    "print re.findall(\"^[a-z]\",s,re.I|re.DOTALL|re.M)"
   ]
  },
  {
   "cell_type": "code",
   "execution_count": 69,
   "metadata": {},
   "outputs": [
    {
     "name": "stdout",
     "output_type": "stream",
     "text": [
      "1,Anil kumar2,9676622023,anil_kumar@gmail.com\n",
      "Ajay kumar,2,9676622024,AJAY@yahoo.co.in\n",
      "9676622025,3,Ashok3,Ashok kumar@rediff.org\n",
      "\n",
      "['1', '9']\n"
     ]
    }
   ],
   "source": [
    "s=\"1,Anil kumar2,9676622023,anil_kumar@gmail.com\\nAjay kumar,2,9676622024,\\\n",
    "AJAY@yahoo.co.in\\n9676622025,3,Ashok3,Ashok kumar@rediff.org\\n\"\n",
    "print s\n",
    "print re.findall(\"^[0-9]\",s,re.I|re.DOTALL|re.M)"
   ]
  },
  {
   "cell_type": "code",
   "execution_count": 70,
   "metadata": {},
   "outputs": [
    {
     "name": "stdout",
     "output_type": "stream",
     "text": [
      "1,Anil kumar2,9676622023,anil_kumar@gmail.com\n",
      "Ajay kumar,2,9676622024,AJAY@yahoo.co.in\n",
      "9676622025,3,Ashok3,Ashok kumar@rediff.org\n",
      "\n",
      "[]\n"
     ]
    }
   ],
   "source": [
    "s=\"1,Anil kumar2,9676622023,anil_kumar@gmail.com\\nAjay kumar,2,9676622024,\\\n",
    "AJAY@yahoo.co.in\\n9676622025,3,Ashok3,Ashok kumar@rediff.org\\n\"\n",
    "print s\n",
    "print re.findall(\"[0-9]$\",s,re.I|re.DOTALL|re.M)"
   ]
  },
  {
   "cell_type": "code",
   "execution_count": 71,
   "metadata": {},
   "outputs": [
    {
     "name": "stdout",
     "output_type": "stream",
     "text": [
      "1,Anil kumar2,9676622023,anil_kumar@gmail.com\n",
      "Ajay kumar,2,9676622024,AJAY@yahoo.co.in\n",
      "9676622025,3,Ashok3,Ashok kumar@rediff.org\n",
      "\n",
      "['m', 'n', 'g']\n"
     ]
    }
   ],
   "source": [
    "s=\"1,Anil kumar2,9676622023,anil_kumar@gmail.com\\nAjay kumar,2,9676622024,\\\n",
    "AJAY@yahoo.co.in\\n9676622025,3,Ashok3,Ashok kumar@rediff.org\\n\"\n",
    "print s\n",
    "print re.findall(\"[a-z]$\",s,re.I|re.DOTALL|re.M)"
   ]
  },
  {
   "cell_type": "code",
   "execution_count": 72,
   "metadata": {},
   "outputs": [
    {
     "name": "stdout",
     "output_type": "stream",
     "text": [
      "1,Anil kumar2,9676622023,anil_kumar@gmail.com\n",
      "Ajay kumar,2,9676622024,AJAY@yahoo.co.in\n",
      "9676622025,3,Ashok3,Ashok kumar@rediff.org\n",
      "\n",
      "<callable-iterator object at 0x7f78306d2410>\n"
     ]
    }
   ],
   "source": [
    "s=\"1,Anil kumar2,9676622023,anil_kumar@gmail.com\\nAjay kumar,2,9676622024,\\\n",
    "AJAY@yahoo.co.in\\n9676622025,3,Ashok3,Ashok kumar@rediff.org\\n\"\n",
    "print s\n",
    "print re.finditer(\"[a-z]$\",s,re.I|re.DOTALL|re.M)"
   ]
  },
  {
   "cell_type": "code",
   "execution_count": 73,
   "metadata": {},
   "outputs": [
    {
     "name": "stdout",
     "output_type": "stream",
     "text": [
      "1,Anil kumar2,9676622023,anil_kumar@gmail.com\n",
      "Ajay kumar,2,9676622024,AJAY@yahoo.co.in\n",
      "9676622025,3,Ashok3,Ashok kumar@rediff.org\n",
      "\n",
      "<_sre.SRE_Match object at 0x7f7830578bf8>\n",
      "<_sre.SRE_Match object at 0x7f7830578c60>\n",
      "<_sre.SRE_Match object at 0x7f7830578bf8>\n"
     ]
    }
   ],
   "source": [
    "s=\"1,Anil kumar2,9676622023,anil_kumar@gmail.com\\nAjay kumar,2,9676622024,\\\n",
    "AJAY@yahoo.co.in\\n9676622025,3,Ashok3,Ashok kumar@rediff.org\\n\"\n",
    "print s\n",
    "objs = re.finditer(\"[a-z]$\",s,re.I|re.DOTALL|re.M)\n",
    "for obj in objs:\n",
    "    print obj"
   ]
  },
  {
   "cell_type": "code",
   "execution_count": 76,
   "metadata": {},
   "outputs": [
    {
     "name": "stdout",
     "output_type": "stream",
     "text": [
      "1,Anil kumar2,9676622023,anil_kumar@gmail.com\n",
      "Ajay kumar,2,9676622024,AJAY@yahoo.co.in\n",
      "9676622025,3,Ashok3,Ashok kumar@rediff.org\n",
      "\n",
      "m\n",
      "n\n",
      "g\n"
     ]
    }
   ],
   "source": [
    "s=\"1,Anil kumar2,9676622023,anil_kumar@gmail.com\\nAjay kumar,2,9676622024,\\\n",
    "AJAY@yahoo.co.in\\n9676622025,3,Ashok3,Ashok kumar@rediff.org\\n\"\n",
    "print s\n",
    "objs = re.finditer(\"[a-z]$\",s,re.I|re.DOTALL|re.M)\n",
    "for obj in objs:\n",
    "    print obj.group(0)"
   ]
  },
  {
   "cell_type": "code",
   "execution_count": 77,
   "metadata": {},
   "outputs": [
    {
     "name": "stdout",
     "output_type": "stream",
     "text": [
      "1,Anil kumar2,9676622023,anil_kumar@gmail.com\n",
      "Ajay kumar,2,9676622024,AJAY@yahoo.co.in\n",
      "9676622025,3,Ashok3,Ashok kumar@rediff.org\n",
      "\n",
      "9676622023\n",
      "9676622024\n",
      "9676622025\n"
     ]
    }
   ],
   "source": [
    "s=\"1,Anil kumar2,9676622023,anil_kumar@gmail.com\\nAjay kumar,2,9676622024,\\\n",
    "AJAY@yahoo.co.in\\n9676622025,3,Ashok3,Ashok kumar@rediff.org\\n\"\n",
    "print s\n",
    "objs = re.finditer(\"[0-9]{10}\",s,re.I|re.DOTALL|re.M)\n",
    "for obj in objs:\n",
    "    print obj.group(0)"
   ]
  },
  {
   "cell_type": "code",
   "execution_count": null,
   "metadata": {
    "collapsed": true
   },
   "outputs": [],
   "source": []
  }
 ],
 "metadata": {
  "kernelspec": {
   "display_name": "Python 2",
   "language": "python",
   "name": "python2"
  },
  "language_info": {
   "codemirror_mode": {
    "name": "ipython",
    "version": 2
   },
   "file_extension": ".py",
   "mimetype": "text/x-python",
   "name": "python",
   "nbconvert_exporter": "python",
   "pygments_lexer": "ipython2",
   "version": "2.7.14"
  }
 },
 "nbformat": 4,
 "nbformat_minor": 2
}
