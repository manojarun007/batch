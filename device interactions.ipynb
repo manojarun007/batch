{
 "cells": [
  {
   "cell_type": "code",
   "execution_count": 2,
   "metadata": {},
   "outputs": [],
   "source": [
    "from github import Github"
   ]
  },
  {
   "cell_type": "code",
   "execution_count": 3,
   "metadata": {
    "collapsed": true
   },
   "outputs": [],
   "source": [
    "password = \"\"\n",
    "user=\"\"\n",
    "git = Github(user,password)"
   ]
  },
  {
   "cell_type": "code",
   "execution_count": 4,
   "metadata": {},
   "outputs": [
    {
     "data": {
      "text/plain": [
       "['FIX_REPO_GET_GIT_REF',\n",
       " '_Github__get_FIX_REPO_GET_GIT_REF',\n",
       " '_Github__get_per_page',\n",
       " '_Github__requester',\n",
       " '_Github__set_FIX_REPO_GET_GIT_REF',\n",
       " '_Github__set_per_page',\n",
       " '__class__',\n",
       " '__delattr__',\n",
       " '__dict__',\n",
       " '__doc__',\n",
       " '__format__',\n",
       " '__getattribute__',\n",
       " '__hash__',\n",
       " '__init__',\n",
       " '__module__',\n",
       " '__new__',\n",
       " '__reduce__',\n",
       " '__reduce_ex__',\n",
       " '__repr__',\n",
       " '__setattr__',\n",
       " '__sizeof__',\n",
       " '__str__',\n",
       " '__subclasshook__',\n",
       " '__weakref__',\n",
       " 'create_from_raw_data',\n",
       " 'dump',\n",
       " 'get_api_status',\n",
       " 'get_api_status_messages',\n",
       " 'get_emojis',\n",
       " 'get_gist',\n",
       " 'get_gists',\n",
       " 'get_gitignore_template',\n",
       " 'get_gitignore_templates',\n",
       " 'get_hook',\n",
       " 'get_hooks',\n",
       " 'get_installation',\n",
       " 'get_last_api_status_message',\n",
       " 'get_organization',\n",
       " 'get_rate_limit',\n",
       " 'get_repo',\n",
       " 'get_repos',\n",
       " 'get_user',\n",
       " 'get_users',\n",
       " 'legacy_search_repos',\n",
       " 'legacy_search_user_by_email',\n",
       " 'legacy_search_users',\n",
       " 'load',\n",
       " 'oauth_scopes',\n",
       " 'per_page',\n",
       " 'rate_limiting',\n",
       " 'rate_limiting_resettime',\n",
       " 'render_markdown',\n",
       " 'search_code',\n",
       " 'search_issues',\n",
       " 'search_repositories',\n",
       " 'search_users']"
      ]
     },
     "execution_count": 4,
     "metadata": {},
     "output_type": "execute_result"
    }
   ],
   "source": [
    "dir(git)"
   ]
  },
  {
   "cell_type": "code",
   "execution_count": 5,
   "metadata": {
    "collapsed": true
   },
   "outputs": [],
   "source": [
    "user = git.get_user()"
   ]
  },
  {
   "cell_type": "code",
   "execution_count": 10,
   "metadata": {},
   "outputs": [
    {
     "name": "stdout",
     "output_type": "stream",
     "text": [
      "Repository(full_name=\"khyaathi/batch44_repo0\")\n",
      "Repository(full_name=\"khyaathi/batch48\")\n",
      "Repository(full_name=\"khyaathi/batch48_API\")\n",
      "Repository(full_name=\"khyaathi/khyaathirepo1\")\n",
      "Repository(full_name=\"khyaathi/khyaathirepo2\")\n",
      "Repository(full_name=\"khyaathi/python_repo\")\n",
      "Repository(full_name=\"khyaathi/repo410\")\n",
      "Repository(full_name=\"khyaathi/repocreatedbyAPI\")\n",
      "Repository(full_name=\"khyaathi/repo_api\")\n",
      "Repository(full_name=\"khyaathiinstitute/batch44\")\n",
      "Repository(full_name=\"khyaathiinstitute/batch44_auto\")\n",
      "Repository(full_name=\"khyaathiinstitute/batch44_repo2\")\n",
      "Repository(full_name=\"khyaathiinstitute/batch46\")\n",
      "Repository(full_name=\"khyaathiinstitute/batch48\")\n",
      "Repository(full_name=\"tcloud123/batch44_repo1\")\n",
      "Repository(full_name=\"tcloud123/batch48\")\n",
      "Repository(full_name=\"tcloud123/newrepo\")\n",
      "Repository(full_name=\"tcloud123/repo411\")\n",
      "Repository(full_name=\"uday1834/batch44\")\n",
      "Repository(full_name=\"uday1834/batch44_1\")\n",
      "Repository(full_name=\"uday1834/django\")\n",
      "Repository(full_name=\"uday1834/python\")\n",
      "Repository(full_name=\"uday1834/r1234\")\n",
      "Repository(full_name=\"uday1834/repo1\")\n",
      "Repository(full_name=\"uday1834/repo123\")\n"
     ]
    }
   ],
   "source": [
    "for repo in user.get_repos():\n",
    "    print repo"
   ]
  },
  {
   "cell_type": "code",
   "execution_count": 11,
   "metadata": {},
   "outputs": [
    {
     "data": {
      "text/plain": [
       "u'uday1834/repo123'"
      ]
     },
     "execution_count": 11,
     "metadata": {},
     "output_type": "execute_result"
    }
   ],
   "source": [
    "repo.full_name"
   ]
  },
  {
   "cell_type": "code",
   "execution_count": 12,
   "metadata": {},
   "outputs": [
    {
     "name": "stdout",
     "output_type": "stream",
     "text": [
      "Repository(full_name=\"khyaathi/batch44_repo0\")\n",
      "Repository(full_name=\"khyaathi/batch48\")\n",
      "Repository(full_name=\"khyaathi/batch48_API\")\n",
      "Repository(full_name=\"khyaathi/khyaathirepo1\")\n",
      "Repository(full_name=\"khyaathi/khyaathirepo2\")\n",
      "Repository(full_name=\"khyaathi/python_repo\")\n",
      "Repository(full_name=\"khyaathi/repo410\")\n",
      "Repository(full_name=\"khyaathi/repocreatedbyAPI\")\n",
      "Repository(full_name=\"khyaathi/repo_api\")\n",
      "Repository(full_name=\"khyaathiinstitute/batch44\")\n",
      "Repository(full_name=\"khyaathiinstitute/batch44_auto\")\n",
      "Repository(full_name=\"khyaathiinstitute/batch44_repo2\")\n",
      "Repository(full_name=\"khyaathiinstitute/batch46\")\n",
      "Repository(full_name=\"khyaathiinstitute/batch48\")\n",
      "Repository(full_name=\"tcloud123/batch44_repo1\")\n",
      "Repository(full_name=\"tcloud123/batch48\")\n",
      "Repository(full_name=\"tcloud123/newrepo\")\n",
      "Repository(full_name=\"tcloud123/repo411\")\n"
     ]
    }
   ],
   "source": [
    "for repo in user.get_repos():\n",
    "    if \"uday1834\" in repo.full_name:\n",
    "        repo.delete()\n",
    "for repo in user.get_repos():\n",
    "    print repo"
   ]
  },
  {
   "cell_type": "code",
   "execution_count": 13,
   "metadata": {
    "collapsed": true
   },
   "outputs": [],
   "source": [
    "user.create_repo?"
   ]
  },
  {
   "cell_type": "code",
   "execution_count": 14,
   "metadata": {},
   "outputs": [
    {
     "data": {
      "text/plain": [
       "Repository(full_name=\"uday1834/batch48\")"
      ]
     },
     "execution_count": 14,
     "metadata": {},
     "output_type": "execute_result"
    }
   ],
   "source": [
    "user.create_repo(\"batch48\")"
   ]
  },
  {
   "cell_type": "code",
   "execution_count": null,
   "metadata": {
    "collapsed": true
   },
   "outputs": [],
   "source": []
  }
 ],
 "metadata": {
  "kernelspec": {
   "display_name": "Python 2",
   "language": "python",
   "name": "python2"
  },
  "language_info": {
   "codemirror_mode": {
    "name": "ipython",
    "version": 2
   },
   "file_extension": ".py",
   "mimetype": "text/x-python",
   "name": "python",
   "nbconvert_exporter": "python",
   "pygments_lexer": "ipython2",
   "version": "2.7.14"
  }
 },
 "nbformat": 4,
 "nbformat_minor": 2
}
