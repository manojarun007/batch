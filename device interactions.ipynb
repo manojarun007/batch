{
 "cells": [
  {
   "cell_type": "code",
   "execution_count": 2,
   "metadata": {
    "collapsed": true
   },
   "outputs": [],
   "source": [
    "from github import Github"
   ]
  },
  {
   "cell_type": "code",
   "execution_count": 3,
   "metadata": {
    "collapsed": true
   },
   "outputs": [],
   "source": [
    "password = \"\"\n",
    "user=\"\"\n",
    "git = Github(user,password)"
   ]
  },
  {
   "cell_type": "code",
   "execution_count": 4,
   "metadata": {},
   "outputs": [
    {
     "data": {
      "text/plain": [
       "['FIX_REPO_GET_GIT_REF',\n",
       " '_Github__get_FIX_REPO_GET_GIT_REF',\n",
       " '_Github__get_per_page',\n",
       " '_Github__requester',\n",
       " '_Github__set_FIX_REPO_GET_GIT_REF',\n",
       " '_Github__set_per_page',\n",
       " '__class__',\n",
       " '__delattr__',\n",
       " '__dict__',\n",
       " '__doc__',\n",
       " '__format__',\n",
       " '__getattribute__',\n",
       " '__hash__',\n",
       " '__init__',\n",
       " '__module__',\n",
       " '__new__',\n",
       " '__reduce__',\n",
       " '__reduce_ex__',\n",
       " '__repr__',\n",
       " '__setattr__',\n",
       " '__sizeof__',\n",
       " '__str__',\n",
       " '__subclasshook__',\n",
       " '__weakref__',\n",
       " 'create_from_raw_data',\n",
       " 'dump',\n",
       " 'get_api_status',\n",
       " 'get_api_status_messages',\n",
       " 'get_emojis',\n",
       " 'get_gist',\n",
       " 'get_gists',\n",
       " 'get_gitignore_template',\n",
       " 'get_gitignore_templates',\n",
       " 'get_hook',\n",
       " 'get_hooks',\n",
       " 'get_installation',\n",
       " 'get_last_api_status_message',\n",
       " 'get_organization',\n",
       " 'get_rate_limit',\n",
       " 'get_repo',\n",
       " 'get_repos',\n",
       " 'get_user',\n",
       " 'get_users',\n",
       " 'legacy_search_repos',\n",
       " 'legacy_search_user_by_email',\n",
       " 'legacy_search_users',\n",
       " 'load',\n",
       " 'oauth_scopes',\n",
       " 'per_page',\n",
       " 'rate_limiting',\n",
       " 'rate_limiting_resettime',\n",
       " 'render_markdown',\n",
       " 'search_code',\n",
       " 'search_issues',\n",
       " 'search_repositories',\n",
       " 'search_users']"
      ]
     },
     "execution_count": 4,
     "metadata": {},
     "output_type": "execute_result"
    }
   ],
   "source": [
    "dir(git)"
   ]
  },
  {
   "cell_type": "code",
   "execution_count": 5,
   "metadata": {
    "collapsed": true
   },
   "outputs": [],
   "source": [
    "user = git.get_user()"
   ]
  },
  {
   "cell_type": "code",
   "execution_count": 10,
   "metadata": {},
   "outputs": [
    {
     "name": "stdout",
     "output_type": "stream",
     "text": [
      "Repository(full_name=\"khyaathi/batch44_repo0\")\n",
      "Repository(full_name=\"khyaathi/batch48\")\n",
      "Repository(full_name=\"khyaathi/batch48_API\")\n",
      "Repository(full_name=\"khyaathi/khyaathirepo1\")\n",
      "Repository(full_name=\"khyaathi/khyaathirepo2\")\n",
      "Repository(full_name=\"khyaathi/python_repo\")\n",
      "Repository(full_name=\"khyaathi/repo410\")\n",
      "Repository(full_name=\"khyaathi/repocreatedbyAPI\")\n",
      "Repository(full_name=\"khyaathi/repo_api\")\n",
      "Repository(full_name=\"khyaathiinstitute/batch44\")\n",
      "Repository(full_name=\"khyaathiinstitute/batch44_auto\")\n",
      "Repository(full_name=\"khyaathiinstitute/batch44_repo2\")\n",
      "Repository(full_name=\"khyaathiinstitute/batch46\")\n",
      "Repository(full_name=\"khyaathiinstitute/batch48\")\n",
      "Repository(full_name=\"tcloud123/batch44_repo1\")\n",
      "Repository(full_name=\"tcloud123/batch48\")\n",
      "Repository(full_name=\"tcloud123/newrepo\")\n",
      "Repository(full_name=\"tcloud123/repo411\")\n",
      "Repository(full_name=\"uday1834/batch44\")\n",
      "Repository(full_name=\"uday1834/batch44_1\")\n",
      "Repository(full_name=\"uday1834/django\")\n",
      "Repository(full_name=\"uday1834/python\")\n",
      "Repository(full_name=\"uday1834/r1234\")\n",
      "Repository(full_name=\"uday1834/repo1\")\n",
      "Repository(full_name=\"uday1834/repo123\")\n"
     ]
    }
   ],
   "source": [
    "for repo in user.get_repos():\n",
    "    print repo"
   ]
  },
  {
   "cell_type": "code",
   "execution_count": 11,
   "metadata": {},
   "outputs": [
    {
     "data": {
      "text/plain": [
       "u'uday1834/repo123'"
      ]
     },
     "execution_count": 11,
     "metadata": {},
     "output_type": "execute_result"
    }
   ],
   "source": [
    "repo.full_name"
   ]
  },
  {
   "cell_type": "code",
   "execution_count": 12,
   "metadata": {},
   "outputs": [
    {
     "name": "stdout",
     "output_type": "stream",
     "text": [
      "Repository(full_name=\"khyaathi/batch44_repo0\")\n",
      "Repository(full_name=\"khyaathi/batch48\")\n",
      "Repository(full_name=\"khyaathi/batch48_API\")\n",
      "Repository(full_name=\"khyaathi/khyaathirepo1\")\n",
      "Repository(full_name=\"khyaathi/khyaathirepo2\")\n",
      "Repository(full_name=\"khyaathi/python_repo\")\n",
      "Repository(full_name=\"khyaathi/repo410\")\n",
      "Repository(full_name=\"khyaathi/repocreatedbyAPI\")\n",
      "Repository(full_name=\"khyaathi/repo_api\")\n",
      "Repository(full_name=\"khyaathiinstitute/batch44\")\n",
      "Repository(full_name=\"khyaathiinstitute/batch44_auto\")\n",
      "Repository(full_name=\"khyaathiinstitute/batch44_repo2\")\n",
      "Repository(full_name=\"khyaathiinstitute/batch46\")\n",
      "Repository(full_name=\"khyaathiinstitute/batch48\")\n",
      "Repository(full_name=\"tcloud123/batch44_repo1\")\n",
      "Repository(full_name=\"tcloud123/batch48\")\n",
      "Repository(full_name=\"tcloud123/newrepo\")\n",
      "Repository(full_name=\"tcloud123/repo411\")\n"
     ]
    }
   ],
   "source": [
    "for repo in user.get_repos():\n",
    "    if \"uday1834\" in repo.full_name:\n",
    "        repo.delete()\n",
    "for repo in user.get_repos():\n",
    "    print repo"
   ]
  },
  {
   "cell_type": "code",
   "execution_count": 13,
   "metadata": {
    "collapsed": true
   },
   "outputs": [],
   "source": [
    "user.create_repo?"
   ]
  },
  {
   "cell_type": "code",
   "execution_count": 14,
   "metadata": {},
   "outputs": [
    {
     "data": {
      "text/plain": [
       "Repository(full_name=\"uday1834/batch48\")"
      ]
     },
     "execution_count": 14,
     "metadata": {},
     "output_type": "execute_result"
    }
   ],
   "source": [
    "user.create_repo(\"batch48\")"
   ]
  },
  {
   "cell_type": "code",
   "execution_count": 2,
   "metadata": {},
   "outputs": [],
   "source": [
    "# if there is no python module to connect to the device. You need to write own module to \n",
    "# connect to the device. Using Services(API,webservices). Read the API document of the device.\n",
    "username = \"\"\n",
    "pwd = \"\"\n",
    "import requests\n",
    "resp = requests\n"
   ]
  },
  {
   "cell_type": "code",
   "execution_count": 4,
   "metadata": {},
   "outputs": [],
   "source": [
    "url=\"https://api.github.com/orgs/\"\n",
    "resp = requests.get(url,auth=(username,pwd))"
   ]
  },
  {
   "cell_type": "code",
   "execution_count": 5,
   "metadata": {},
   "outputs": [
    {
     "data": {
      "text/plain": [
       "<Response [404]>"
      ]
     },
     "execution_count": 5,
     "metadata": {},
     "output_type": "execute_result"
    }
   ],
   "source": [
    "resp"
   ]
  },
  {
   "cell_type": "code",
   "execution_count": 6,
   "metadata": {},
   "outputs": [
    {
     "data": {
      "text/plain": [
       "'Not Found'"
      ]
     },
     "execution_count": 6,
     "metadata": {},
     "output_type": "execute_result"
    }
   ],
   "source": [
    "resp.reason"
   ]
  },
  {
   "cell_type": "code",
   "execution_count": 7,
   "metadata": {
    "collapsed": true
   },
   "outputs": [],
   "source": [
    "url=\"https://api.github.com/orgs/khyaathi/repos\"\n",
    "resp = requests.get(url,auth=(username,pwd))"
   ]
  },
  {
   "cell_type": "code",
   "execution_count": 8,
   "metadata": {},
   "outputs": [
    {
     "data": {
      "text/plain": [
       "<Response [200]>"
      ]
     },
     "execution_count": 8,
     "metadata": {},
     "output_type": "execute_result"
    }
   ],
   "source": [
    "resp"
   ]
  },
  {
   "cell_type": "code",
   "execution_count": 9,
   "metadata": {},
   "outputs": [
    {
     "data": {
      "text/plain": [
       "[{u'archive_url': u'https://api.github.com/repos/khyaathi/khyaathirepo1/{archive_format}{/ref}',\n",
       "  u'archived': False,\n",
       "  u'assignees_url': u'https://api.github.com/repos/khyaathi/khyaathirepo1/assignees{/user}',\n",
       "  u'blobs_url': u'https://api.github.com/repos/khyaathi/khyaathirepo1/git/blobs{/sha}',\n",
       "  u'branches_url': u'https://api.github.com/repos/khyaathi/khyaathirepo1/branches{/branch}',\n",
       "  u'clone_url': u'https://github.com/khyaathi/khyaathirepo1.git',\n",
       "  u'collaborators_url': u'https://api.github.com/repos/khyaathi/khyaathirepo1/collaborators{/collaborator}',\n",
       "  u'comments_url': u'https://api.github.com/repos/khyaathi/khyaathirepo1/comments{/number}',\n",
       "  u'commits_url': u'https://api.github.com/repos/khyaathi/khyaathirepo1/commits{/sha}',\n",
       "  u'compare_url': u'https://api.github.com/repos/khyaathi/khyaathirepo1/compare/{base}...{head}',\n",
       "  u'contents_url': u'https://api.github.com/repos/khyaathi/khyaathirepo1/contents/{+path}',\n",
       "  u'contributors_url': u'https://api.github.com/repos/khyaathi/khyaathirepo1/contributors',\n",
       "  u'created_at': u'2017-12-20T03:13:48Z',\n",
       "  u'default_branch': u'master',\n",
       "  u'deployments_url': u'https://api.github.com/repos/khyaathi/khyaathirepo1/deployments',\n",
       "  u'description': u'khyaathirepo1',\n",
       "  u'downloads_url': u'https://api.github.com/repos/khyaathi/khyaathirepo1/downloads',\n",
       "  u'events_url': u'https://api.github.com/repos/khyaathi/khyaathirepo1/events',\n",
       "  u'fork': False,\n",
       "  u'forks': 0,\n",
       "  u'forks_count': 0,\n",
       "  u'forks_url': u'https://api.github.com/repos/khyaathi/khyaathirepo1/forks',\n",
       "  u'full_name': u'khyaathi/khyaathirepo1',\n",
       "  u'git_commits_url': u'https://api.github.com/repos/khyaathi/khyaathirepo1/git/commits{/sha}',\n",
       "  u'git_refs_url': u'https://api.github.com/repos/khyaathi/khyaathirepo1/git/refs{/sha}',\n",
       "  u'git_tags_url': u'https://api.github.com/repos/khyaathi/khyaathirepo1/git/tags{/sha}',\n",
       "  u'git_url': u'git://github.com/khyaathi/khyaathirepo1.git',\n",
       "  u'has_downloads': True,\n",
       "  u'has_issues': True,\n",
       "  u'has_pages': False,\n",
       "  u'has_projects': True,\n",
       "  u'has_wiki': True,\n",
       "  u'homepage': None,\n",
       "  u'hooks_url': u'https://api.github.com/repos/khyaathi/khyaathirepo1/hooks',\n",
       "  u'html_url': u'https://github.com/khyaathi/khyaathirepo1',\n",
       "  u'id': 114837420,\n",
       "  u'issue_comment_url': u'https://api.github.com/repos/khyaathi/khyaathirepo1/issues/comments{/number}',\n",
       "  u'issue_events_url': u'https://api.github.com/repos/khyaathi/khyaathirepo1/issues/events{/number}',\n",
       "  u'issues_url': u'https://api.github.com/repos/khyaathi/khyaathirepo1/issues{/number}',\n",
       "  u'keys_url': u'https://api.github.com/repos/khyaathi/khyaathirepo1/keys{/key_id}',\n",
       "  u'labels_url': u'https://api.github.com/repos/khyaathi/khyaathirepo1/labels{/name}',\n",
       "  u'language': None,\n",
       "  u'languages_url': u'https://api.github.com/repos/khyaathi/khyaathirepo1/languages',\n",
       "  u'license': None,\n",
       "  u'merges_url': u'https://api.github.com/repos/khyaathi/khyaathirepo1/merges',\n",
       "  u'milestones_url': u'https://api.github.com/repos/khyaathi/khyaathirepo1/milestones{/number}',\n",
       "  u'mirror_url': None,\n",
       "  u'name': u'khyaathirepo1',\n",
       "  u'node_id': u'MDEwOlJlcG9zaXRvcnkxMTQ4Mzc0MjA=',\n",
       "  u'notifications_url': u'https://api.github.com/repos/khyaathi/khyaathirepo1/notifications{?since,all,participating}',\n",
       "  u'open_issues': 0,\n",
       "  u'open_issues_count': 0,\n",
       "  u'owner': {u'avatar_url': u'https://avatars2.githubusercontent.com/u/34699715?v=4',\n",
       "   u'events_url': u'https://api.github.com/users/khyaathi/events{/privacy}',\n",
       "   u'followers_url': u'https://api.github.com/users/khyaathi/followers',\n",
       "   u'following_url': u'https://api.github.com/users/khyaathi/following{/other_user}',\n",
       "   u'gists_url': u'https://api.github.com/users/khyaathi/gists{/gist_id}',\n",
       "   u'gravatar_id': u'',\n",
       "   u'html_url': u'https://github.com/khyaathi',\n",
       "   u'id': 34699715,\n",
       "   u'login': u'khyaathi',\n",
       "   u'node_id': u'MDEyOk9yZ2FuaXphdGlvbjM0Njk5NzE1',\n",
       "   u'organizations_url': u'https://api.github.com/users/khyaathi/orgs',\n",
       "   u'received_events_url': u'https://api.github.com/users/khyaathi/received_events',\n",
       "   u'repos_url': u'https://api.github.com/users/khyaathi/repos',\n",
       "   u'site_admin': False,\n",
       "   u'starred_url': u'https://api.github.com/users/khyaathi/starred{/owner}{/repo}',\n",
       "   u'subscriptions_url': u'https://api.github.com/users/khyaathi/subscriptions',\n",
       "   u'type': u'Organization',\n",
       "   u'url': u'https://api.github.com/users/khyaathi'},\n",
       "  u'permissions': {u'admin': True, u'pull': True, u'push': True},\n",
       "  u'private': False,\n",
       "  u'pulls_url': u'https://api.github.com/repos/khyaathi/khyaathirepo1/pulls{/number}',\n",
       "  u'pushed_at': u'2017-12-20T03:13:48Z',\n",
       "  u'releases_url': u'https://api.github.com/repos/khyaathi/khyaathirepo1/releases{/id}',\n",
       "  u'size': 0,\n",
       "  u'ssh_url': u'git@github.com:khyaathi/khyaathirepo1.git',\n",
       "  u'stargazers_count': 0,\n",
       "  u'stargazers_url': u'https://api.github.com/repos/khyaathi/khyaathirepo1/stargazers',\n",
       "  u'statuses_url': u'https://api.github.com/repos/khyaathi/khyaathirepo1/statuses/{sha}',\n",
       "  u'subscribers_url': u'https://api.github.com/repos/khyaathi/khyaathirepo1/subscribers',\n",
       "  u'subscription_url': u'https://api.github.com/repos/khyaathi/khyaathirepo1/subscription',\n",
       "  u'svn_url': u'https://github.com/khyaathi/khyaathirepo1',\n",
       "  u'tags_url': u'https://api.github.com/repos/khyaathi/khyaathirepo1/tags',\n",
       "  u'teams_url': u'https://api.github.com/repos/khyaathi/khyaathirepo1/teams',\n",
       "  u'trees_url': u'https://api.github.com/repos/khyaathi/khyaathirepo1/git/trees{/sha}',\n",
       "  u'updated_at': u'2017-12-20T03:13:48Z',\n",
       "  u'url': u'https://api.github.com/repos/khyaathi/khyaathirepo1',\n",
       "  u'watchers': 0,\n",
       "  u'watchers_count': 0},\n",
       " {u'archive_url': u'https://api.github.com/repos/khyaathi/khyaathirepo2/{archive_format}{/ref}',\n",
       "  u'archived': False,\n",
       "  u'assignees_url': u'https://api.github.com/repos/khyaathi/khyaathirepo2/assignees{/user}',\n",
       "  u'blobs_url': u'https://api.github.com/repos/khyaathi/khyaathirepo2/git/blobs{/sha}',\n",
       "  u'branches_url': u'https://api.github.com/repos/khyaathi/khyaathirepo2/branches{/branch}',\n",
       "  u'clone_url': u'https://github.com/khyaathi/khyaathirepo2.git',\n",
       "  u'collaborators_url': u'https://api.github.com/repos/khyaathi/khyaathirepo2/collaborators{/collaborator}',\n",
       "  u'comments_url': u'https://api.github.com/repos/khyaathi/khyaathirepo2/comments{/number}',\n",
       "  u'commits_url': u'https://api.github.com/repos/khyaathi/khyaathirepo2/commits{/sha}',\n",
       "  u'compare_url': u'https://api.github.com/repos/khyaathi/khyaathirepo2/compare/{base}...{head}',\n",
       "  u'contents_url': u'https://api.github.com/repos/khyaathi/khyaathirepo2/contents/{+path}',\n",
       "  u'contributors_url': u'https://api.github.com/repos/khyaathi/khyaathirepo2/contributors',\n",
       "  u'created_at': u'2017-12-20T03:16:22Z',\n",
       "  u'default_branch': u'master',\n",
       "  u'deployments_url': u'https://api.github.com/repos/khyaathi/khyaathirepo2/deployments',\n",
       "  u'description': None,\n",
       "  u'downloads_url': u'https://api.github.com/repos/khyaathi/khyaathirepo2/downloads',\n",
       "  u'events_url': u'https://api.github.com/repos/khyaathi/khyaathirepo2/events',\n",
       "  u'fork': False,\n",
       "  u'forks': 0,\n",
       "  u'forks_count': 0,\n",
       "  u'forks_url': u'https://api.github.com/repos/khyaathi/khyaathirepo2/forks',\n",
       "  u'full_name': u'khyaathi/khyaathirepo2',\n",
       "  u'git_commits_url': u'https://api.github.com/repos/khyaathi/khyaathirepo2/git/commits{/sha}',\n",
       "  u'git_refs_url': u'https://api.github.com/repos/khyaathi/khyaathirepo2/git/refs{/sha}',\n",
       "  u'git_tags_url': u'https://api.github.com/repos/khyaathi/khyaathirepo2/git/tags{/sha}',\n",
       "  u'git_url': u'git://github.com/khyaathi/khyaathirepo2.git',\n",
       "  u'has_downloads': True,\n",
       "  u'has_issues': True,\n",
       "  u'has_pages': False,\n",
       "  u'has_projects': True,\n",
       "  u'has_wiki': True,\n",
       "  u'homepage': None,\n",
       "  u'hooks_url': u'https://api.github.com/repos/khyaathi/khyaathirepo2/hooks',\n",
       "  u'html_url': u'https://github.com/khyaathi/khyaathirepo2',\n",
       "  u'id': 114837626,\n",
       "  u'issue_comment_url': u'https://api.github.com/repos/khyaathi/khyaathirepo2/issues/comments{/number}',\n",
       "  u'issue_events_url': u'https://api.github.com/repos/khyaathi/khyaathirepo2/issues/events{/number}',\n",
       "  u'issues_url': u'https://api.github.com/repos/khyaathi/khyaathirepo2/issues{/number}',\n",
       "  u'keys_url': u'https://api.github.com/repos/khyaathi/khyaathirepo2/keys{/key_id}',\n",
       "  u'labels_url': u'https://api.github.com/repos/khyaathi/khyaathirepo2/labels{/name}',\n",
       "  u'language': None,\n",
       "  u'languages_url': u'https://api.github.com/repos/khyaathi/khyaathirepo2/languages',\n",
       "  u'license': None,\n",
       "  u'merges_url': u'https://api.github.com/repos/khyaathi/khyaathirepo2/merges',\n",
       "  u'milestones_url': u'https://api.github.com/repos/khyaathi/khyaathirepo2/milestones{/number}',\n",
       "  u'mirror_url': None,\n",
       "  u'name': u'khyaathirepo2',\n",
       "  u'node_id': u'MDEwOlJlcG9zaXRvcnkxMTQ4Mzc2MjY=',\n",
       "  u'notifications_url': u'https://api.github.com/repos/khyaathi/khyaathirepo2/notifications{?since,all,participating}',\n",
       "  u'open_issues': 0,\n",
       "  u'open_issues_count': 0,\n",
       "  u'owner': {u'avatar_url': u'https://avatars2.githubusercontent.com/u/34699715?v=4',\n",
       "   u'events_url': u'https://api.github.com/users/khyaathi/events{/privacy}',\n",
       "   u'followers_url': u'https://api.github.com/users/khyaathi/followers',\n",
       "   u'following_url': u'https://api.github.com/users/khyaathi/following{/other_user}',\n",
       "   u'gists_url': u'https://api.github.com/users/khyaathi/gists{/gist_id}',\n",
       "   u'gravatar_id': u'',\n",
       "   u'html_url': u'https://github.com/khyaathi',\n",
       "   u'id': 34699715,\n",
       "   u'login': u'khyaathi',\n",
       "   u'node_id': u'MDEyOk9yZ2FuaXphdGlvbjM0Njk5NzE1',\n",
       "   u'organizations_url': u'https://api.github.com/users/khyaathi/orgs',\n",
       "   u'received_events_url': u'https://api.github.com/users/khyaathi/received_events',\n",
       "   u'repos_url': u'https://api.github.com/users/khyaathi/repos',\n",
       "   u'site_admin': False,\n",
       "   u'starred_url': u'https://api.github.com/users/khyaathi/starred{/owner}{/repo}',\n",
       "   u'subscriptions_url': u'https://api.github.com/users/khyaathi/subscriptions',\n",
       "   u'type': u'Organization',\n",
       "   u'url': u'https://api.github.com/users/khyaathi'},\n",
       "  u'permissions': {u'admin': True, u'pull': True, u'push': True},\n",
       "  u'private': False,\n",
       "  u'pulls_url': u'https://api.github.com/repos/khyaathi/khyaathirepo2/pulls{/number}',\n",
       "  u'pushed_at': u'2017-12-20T03:16:23Z',\n",
       "  u'releases_url': u'https://api.github.com/repos/khyaathi/khyaathirepo2/releases{/id}',\n",
       "  u'size': 0,\n",
       "  u'ssh_url': u'git@github.com:khyaathi/khyaathirepo2.git',\n",
       "  u'stargazers_count': 0,\n",
       "  u'stargazers_url': u'https://api.github.com/repos/khyaathi/khyaathirepo2/stargazers',\n",
       "  u'statuses_url': u'https://api.github.com/repos/khyaathi/khyaathirepo2/statuses/{sha}',\n",
       "  u'subscribers_url': u'https://api.github.com/repos/khyaathi/khyaathirepo2/subscribers',\n",
       "  u'subscription_url': u'https://api.github.com/repos/khyaathi/khyaathirepo2/subscription',\n",
       "  u'svn_url': u'https://github.com/khyaathi/khyaathirepo2',\n",
       "  u'tags_url': u'https://api.github.com/repos/khyaathi/khyaathirepo2/tags',\n",
       "  u'teams_url': u'https://api.github.com/repos/khyaathi/khyaathirepo2/teams',\n",
       "  u'trees_url': u'https://api.github.com/repos/khyaathi/khyaathirepo2/git/trees{/sha}',\n",
       "  u'updated_at': u'2017-12-20T03:16:22Z',\n",
       "  u'url': u'https://api.github.com/repos/khyaathi/khyaathirepo2',\n",
       "  u'watchers': 0,\n",
       "  u'watchers_count': 0},\n",
       " {u'archive_url': u'https://api.github.com/repos/khyaathi/python_repo/{archive_format}{/ref}',\n",
       "  u'archived': False,\n",
       "  u'assignees_url': u'https://api.github.com/repos/khyaathi/python_repo/assignees{/user}',\n",
       "  u'blobs_url': u'https://api.github.com/repos/khyaathi/python_repo/git/blobs{/sha}',\n",
       "  u'branches_url': u'https://api.github.com/repos/khyaathi/python_repo/branches{/branch}',\n",
       "  u'clone_url': u'https://github.com/khyaathi/python_repo.git',\n",
       "  u'collaborators_url': u'https://api.github.com/repos/khyaathi/python_repo/collaborators{/collaborator}',\n",
       "  u'comments_url': u'https://api.github.com/repos/khyaathi/python_repo/comments{/number}',\n",
       "  u'commits_url': u'https://api.github.com/repos/khyaathi/python_repo/commits{/sha}',\n",
       "  u'compare_url': u'https://api.github.com/repos/khyaathi/python_repo/compare/{base}...{head}',\n",
       "  u'contents_url': u'https://api.github.com/repos/khyaathi/python_repo/contents/{+path}',\n",
       "  u'contributors_url': u'https://api.github.com/repos/khyaathi/python_repo/contributors',\n",
       "  u'created_at': u'2018-01-20T05:35:44Z',\n",
       "  u'default_branch': u'master',\n",
       "  u'deployments_url': u'https://api.github.com/repos/khyaathi/python_repo/deployments',\n",
       "  u'description': None,\n",
       "  u'downloads_url': u'https://api.github.com/repos/khyaathi/python_repo/downloads',\n",
       "  u'events_url': u'https://api.github.com/repos/khyaathi/python_repo/events',\n",
       "  u'fork': False,\n",
       "  u'forks': 0,\n",
       "  u'forks_count': 0,\n",
       "  u'forks_url': u'https://api.github.com/repos/khyaathi/python_repo/forks',\n",
       "  u'full_name': u'khyaathi/python_repo',\n",
       "  u'git_commits_url': u'https://api.github.com/repos/khyaathi/python_repo/git/commits{/sha}',\n",
       "  u'git_refs_url': u'https://api.github.com/repos/khyaathi/python_repo/git/refs{/sha}',\n",
       "  u'git_tags_url': u'https://api.github.com/repos/khyaathi/python_repo/git/tags{/sha}',\n",
       "  u'git_url': u'git://github.com/khyaathi/python_repo.git',\n",
       "  u'has_downloads': True,\n",
       "  u'has_issues': True,\n",
       "  u'has_pages': False,\n",
       "  u'has_projects': True,\n",
       "  u'has_wiki': True,\n",
       "  u'homepage': None,\n",
       "  u'hooks_url': u'https://api.github.com/repos/khyaathi/python_repo/hooks',\n",
       "  u'html_url': u'https://github.com/khyaathi/python_repo',\n",
       "  u'id': 118212671,\n",
       "  u'issue_comment_url': u'https://api.github.com/repos/khyaathi/python_repo/issues/comments{/number}',\n",
       "  u'issue_events_url': u'https://api.github.com/repos/khyaathi/python_repo/issues/events{/number}',\n",
       "  u'issues_url': u'https://api.github.com/repos/khyaathi/python_repo/issues{/number}',\n",
       "  u'keys_url': u'https://api.github.com/repos/khyaathi/python_repo/keys{/key_id}',\n",
       "  u'labels_url': u'https://api.github.com/repos/khyaathi/python_repo/labels{/name}',\n",
       "  u'language': None,\n",
       "  u'languages_url': u'https://api.github.com/repos/khyaathi/python_repo/languages',\n",
       "  u'license': None,\n",
       "  u'merges_url': u'https://api.github.com/repos/khyaathi/python_repo/merges',\n",
       "  u'milestones_url': u'https://api.github.com/repos/khyaathi/python_repo/milestones{/number}',\n",
       "  u'mirror_url': None,\n",
       "  u'name': u'python_repo',\n",
       "  u'node_id': u'MDEwOlJlcG9zaXRvcnkxMTgyMTI2NzE=',\n",
       "  u'notifications_url': u'https://api.github.com/repos/khyaathi/python_repo/notifications{?since,all,participating}',\n",
       "  u'open_issues': 0,\n",
       "  u'open_issues_count': 0,\n",
       "  u'owner': {u'avatar_url': u'https://avatars2.githubusercontent.com/u/34699715?v=4',\n",
       "   u'events_url': u'https://api.github.com/users/khyaathi/events{/privacy}',\n",
       "   u'followers_url': u'https://api.github.com/users/khyaathi/followers',\n",
       "   u'following_url': u'https://api.github.com/users/khyaathi/following{/other_user}',\n",
       "   u'gists_url': u'https://api.github.com/users/khyaathi/gists{/gist_id}',\n",
       "   u'gravatar_id': u'',\n",
       "   u'html_url': u'https://github.com/khyaathi',\n",
       "   u'id': 34699715,\n",
       "   u'login': u'khyaathi',\n",
       "   u'node_id': u'MDEyOk9yZ2FuaXphdGlvbjM0Njk5NzE1',\n",
       "   u'organizations_url': u'https://api.github.com/users/khyaathi/orgs',\n",
       "   u'received_events_url': u'https://api.github.com/users/khyaathi/received_events',\n",
       "   u'repos_url': u'https://api.github.com/users/khyaathi/repos',\n",
       "   u'site_admin': False,\n",
       "   u'starred_url': u'https://api.github.com/users/khyaathi/starred{/owner}{/repo}',\n",
       "   u'subscriptions_url': u'https://api.github.com/users/khyaathi/subscriptions',\n",
       "   u'type': u'Organization',\n",
       "   u'url': u'https://api.github.com/users/khyaathi'},\n",
       "  u'permissions': {u'admin': True, u'pull': True, u'push': True},\n",
       "  u'private': False,\n",
       "  u'pulls_url': u'https://api.github.com/repos/khyaathi/python_repo/pulls{/number}',\n",
       "  u'pushed_at': u'2018-01-20T05:35:45Z',\n",
       "  u'releases_url': u'https://api.github.com/repos/khyaathi/python_repo/releases{/id}',\n",
       "  u'size': 0,\n",
       "  u'ssh_url': u'git@github.com:khyaathi/python_repo.git',\n",
       "  u'stargazers_count': 0,\n",
       "  u'stargazers_url': u'https://api.github.com/repos/khyaathi/python_repo/stargazers',\n",
       "  u'statuses_url': u'https://api.github.com/repos/khyaathi/python_repo/statuses/{sha}',\n",
       "  u'subscribers_url': u'https://api.github.com/repos/khyaathi/python_repo/subscribers',\n",
       "  u'subscription_url': u'https://api.github.com/repos/khyaathi/python_repo/subscription',\n",
       "  u'svn_url': u'https://github.com/khyaathi/python_repo',\n",
       "  u'tags_url': u'https://api.github.com/repos/khyaathi/python_repo/tags',\n",
       "  u'teams_url': u'https://api.github.com/repos/khyaathi/python_repo/teams',\n",
       "  u'trees_url': u'https://api.github.com/repos/khyaathi/python_repo/git/trees{/sha}',\n",
       "  u'updated_at': u'2018-01-20T05:35:44Z',\n",
       "  u'url': u'https://api.github.com/repos/khyaathi/python_repo',\n",
       "  u'watchers': 0,\n",
       "  u'watchers_count': 0},\n",
       " {u'archive_url': u'https://api.github.com/repos/khyaathi/repo410/{archive_format}{/ref}',\n",
       "  u'archived': False,\n",
       "  u'assignees_url': u'https://api.github.com/repos/khyaathi/repo410/assignees{/user}',\n",
       "  u'blobs_url': u'https://api.github.com/repos/khyaathi/repo410/git/blobs{/sha}',\n",
       "  u'branches_url': u'https://api.github.com/repos/khyaathi/repo410/branches{/branch}',\n",
       "  u'clone_url': u'https://github.com/khyaathi/repo410.git',\n",
       "  u'collaborators_url': u'https://api.github.com/repos/khyaathi/repo410/collaborators{/collaborator}',\n",
       "  u'comments_url': u'https://api.github.com/repos/khyaathi/repo410/comments{/number}',\n",
       "  u'commits_url': u'https://api.github.com/repos/khyaathi/repo410/commits{/sha}',\n",
       "  u'compare_url': u'https://api.github.com/repos/khyaathi/repo410/compare/{base}...{head}',\n",
       "  u'contents_url': u'https://api.github.com/repos/khyaathi/repo410/contents/{+path}',\n",
       "  u'contributors_url': u'https://api.github.com/repos/khyaathi/repo410/contributors',\n",
       "  u'created_at': u'2018-02-11T02:03:42Z',\n",
       "  u'default_branch': u'master',\n",
       "  u'deployments_url': u'https://api.github.com/repos/khyaathi/repo410/deployments',\n",
       "  u'description': None,\n",
       "  u'downloads_url': u'https://api.github.com/repos/khyaathi/repo410/downloads',\n",
       "  u'events_url': u'https://api.github.com/repos/khyaathi/repo410/events',\n",
       "  u'fork': False,\n",
       "  u'forks': 0,\n",
       "  u'forks_count': 0,\n",
       "  u'forks_url': u'https://api.github.com/repos/khyaathi/repo410/forks',\n",
       "  u'full_name': u'khyaathi/repo410',\n",
       "  u'git_commits_url': u'https://api.github.com/repos/khyaathi/repo410/git/commits{/sha}',\n",
       "  u'git_refs_url': u'https://api.github.com/repos/khyaathi/repo410/git/refs{/sha}',\n",
       "  u'git_tags_url': u'https://api.github.com/repos/khyaathi/repo410/git/tags{/sha}',\n",
       "  u'git_url': u'git://github.com/khyaathi/repo410.git',\n",
       "  u'has_downloads': True,\n",
       "  u'has_issues': True,\n",
       "  u'has_pages': False,\n",
       "  u'has_projects': True,\n",
       "  u'has_wiki': True,\n",
       "  u'homepage': None,\n",
       "  u'hooks_url': u'https://api.github.com/repos/khyaathi/repo410/hooks',\n",
       "  u'html_url': u'https://github.com/khyaathi/repo410',\n",
       "  u'id': 121073615,\n",
       "  u'issue_comment_url': u'https://api.github.com/repos/khyaathi/repo410/issues/comments{/number}',\n",
       "  u'issue_events_url': u'https://api.github.com/repos/khyaathi/repo410/issues/events{/number}',\n",
       "  u'issues_url': u'https://api.github.com/repos/khyaathi/repo410/issues{/number}',\n",
       "  u'keys_url': u'https://api.github.com/repos/khyaathi/repo410/keys{/key_id}',\n",
       "  u'labels_url': u'https://api.github.com/repos/khyaathi/repo410/labels{/name}',\n",
       "  u'language': None,\n",
       "  u'languages_url': u'https://api.github.com/repos/khyaathi/repo410/languages',\n",
       "  u'license': None,\n",
       "  u'merges_url': u'https://api.github.com/repos/khyaathi/repo410/merges',\n",
       "  u'milestones_url': u'https://api.github.com/repos/khyaathi/repo410/milestones{/number}',\n",
       "  u'mirror_url': None,\n",
       "  u'name': u'repo410',\n",
       "  u'node_id': u'MDEwOlJlcG9zaXRvcnkxMjEwNzM2MTU=',\n",
       "  u'notifications_url': u'https://api.github.com/repos/khyaathi/repo410/notifications{?since,all,participating}',\n",
       "  u'open_issues': 0,\n",
       "  u'open_issues_count': 0,\n",
       "  u'owner': {u'avatar_url': u'https://avatars2.githubusercontent.com/u/34699715?v=4',\n",
       "   u'events_url': u'https://api.github.com/users/khyaathi/events{/privacy}',\n",
       "   u'followers_url': u'https://api.github.com/users/khyaathi/followers',\n",
       "   u'following_url': u'https://api.github.com/users/khyaathi/following{/other_user}',\n",
       "   u'gists_url': u'https://api.github.com/users/khyaathi/gists{/gist_id}',\n",
       "   u'gravatar_id': u'',\n",
       "   u'html_url': u'https://github.com/khyaathi',\n",
       "   u'id': 34699715,\n",
       "   u'login': u'khyaathi',\n",
       "   u'node_id': u'MDEyOk9yZ2FuaXphdGlvbjM0Njk5NzE1',\n",
       "   u'organizations_url': u'https://api.github.com/users/khyaathi/orgs',\n",
       "   u'received_events_url': u'https://api.github.com/users/khyaathi/received_events',\n",
       "   u'repos_url': u'https://api.github.com/users/khyaathi/repos',\n",
       "   u'site_admin': False,\n",
       "   u'starred_url': u'https://api.github.com/users/khyaathi/starred{/owner}{/repo}',\n",
       "   u'subscriptions_url': u'https://api.github.com/users/khyaathi/subscriptions',\n",
       "   u'type': u'Organization',\n",
       "   u'url': u'https://api.github.com/users/khyaathi'},\n",
       "  u'permissions': {u'admin': True, u'pull': True, u'push': True},\n",
       "  u'private': False,\n",
       "  u'pulls_url': u'https://api.github.com/repos/khyaathi/repo410/pulls{/number}',\n",
       "  u'pushed_at': u'2018-02-11T02:03:42Z',\n",
       "  u'releases_url': u'https://api.github.com/repos/khyaathi/repo410/releases{/id}',\n",
       "  u'size': 0,\n",
       "  u'ssh_url': u'git@github.com:khyaathi/repo410.git',\n",
       "  u'stargazers_count': 0,\n",
       "  u'stargazers_url': u'https://api.github.com/repos/khyaathi/repo410/stargazers',\n",
       "  u'statuses_url': u'https://api.github.com/repos/khyaathi/repo410/statuses/{sha}',\n",
       "  u'subscribers_url': u'https://api.github.com/repos/khyaathi/repo410/subscribers',\n",
       "  u'subscription_url': u'https://api.github.com/repos/khyaathi/repo410/subscription',\n",
       "  u'svn_url': u'https://github.com/khyaathi/repo410',\n",
       "  u'tags_url': u'https://api.github.com/repos/khyaathi/repo410/tags',\n",
       "  u'teams_url': u'https://api.github.com/repos/khyaathi/repo410/teams',\n",
       "  u'trees_url': u'https://api.github.com/repos/khyaathi/repo410/git/trees{/sha}',\n",
       "  u'updated_at': u'2018-02-11T02:03:42Z',\n",
       "  u'url': u'https://api.github.com/repos/khyaathi/repo410',\n",
       "  u'watchers': 0,\n",
       "  u'watchers_count': 0},\n",
       " {u'archive_url': u'https://api.github.com/repos/khyaathi/repo_api/{archive_format}{/ref}',\n",
       "  u'archived': False,\n",
       "  u'assignees_url': u'https://api.github.com/repos/khyaathi/repo_api/assignees{/user}',\n",
       "  u'blobs_url': u'https://api.github.com/repos/khyaathi/repo_api/git/blobs{/sha}',\n",
       "  u'branches_url': u'https://api.github.com/repos/khyaathi/repo_api/branches{/branch}',\n",
       "  u'clone_url': u'https://github.com/khyaathi/repo_api.git',\n",
       "  u'collaborators_url': u'https://api.github.com/repos/khyaathi/repo_api/collaborators{/collaborator}',\n",
       "  u'comments_url': u'https://api.github.com/repos/khyaathi/repo_api/comments{/number}',\n",
       "  u'commits_url': u'https://api.github.com/repos/khyaathi/repo_api/commits{/sha}',\n",
       "  u'compare_url': u'https://api.github.com/repos/khyaathi/repo_api/compare/{base}...{head}',\n",
       "  u'contents_url': u'https://api.github.com/repos/khyaathi/repo_api/contents/{+path}',\n",
       "  u'contributors_url': u'https://api.github.com/repos/khyaathi/repo_api/contributors',\n",
       "  u'created_at': u'2018-02-11T02:13:33Z',\n",
       "  u'default_branch': u'master',\n",
       "  u'deployments_url': u'https://api.github.com/repos/khyaathi/repo_api/deployments',\n",
       "  u'description': None,\n",
       "  u'downloads_url': u'https://api.github.com/repos/khyaathi/repo_api/downloads',\n",
       "  u'events_url': u'https://api.github.com/repos/khyaathi/repo_api/events',\n",
       "  u'fork': False,\n",
       "  u'forks': 0,\n",
       "  u'forks_count': 0,\n",
       "  u'forks_url': u'https://api.github.com/repos/khyaathi/repo_api/forks',\n",
       "  u'full_name': u'khyaathi/repo_api',\n",
       "  u'git_commits_url': u'https://api.github.com/repos/khyaathi/repo_api/git/commits{/sha}',\n",
       "  u'git_refs_url': u'https://api.github.com/repos/khyaathi/repo_api/git/refs{/sha}',\n",
       "  u'git_tags_url': u'https://api.github.com/repos/khyaathi/repo_api/git/tags{/sha}',\n",
       "  u'git_url': u'git://github.com/khyaathi/repo_api.git',\n",
       "  u'has_downloads': True,\n",
       "  u'has_issues': True,\n",
       "  u'has_pages': False,\n",
       "  u'has_projects': True,\n",
       "  u'has_wiki': True,\n",
       "  u'homepage': None,\n",
       "  u'hooks_url': u'https://api.github.com/repos/khyaathi/repo_api/hooks',\n",
       "  u'html_url': u'https://github.com/khyaathi/repo_api',\n",
       "  u'id': 121074417,\n",
       "  u'issue_comment_url': u'https://api.github.com/repos/khyaathi/repo_api/issues/comments{/number}',\n",
       "  u'issue_events_url': u'https://api.github.com/repos/khyaathi/repo_api/issues/events{/number}',\n",
       "  u'issues_url': u'https://api.github.com/repos/khyaathi/repo_api/issues{/number}',\n",
       "  u'keys_url': u'https://api.github.com/repos/khyaathi/repo_api/keys{/key_id}',\n",
       "  u'labels_url': u'https://api.github.com/repos/khyaathi/repo_api/labels{/name}',\n",
       "  u'language': None,\n",
       "  u'languages_url': u'https://api.github.com/repos/khyaathi/repo_api/languages',\n",
       "  u'license': None,\n",
       "  u'merges_url': u'https://api.github.com/repos/khyaathi/repo_api/merges',\n",
       "  u'milestones_url': u'https://api.github.com/repos/khyaathi/repo_api/milestones{/number}',\n",
       "  u'mirror_url': None,\n",
       "  u'name': u'repo_api',\n",
       "  u'node_id': u'MDEwOlJlcG9zaXRvcnkxMjEwNzQ0MTc=',\n",
       "  u'notifications_url': u'https://api.github.com/repos/khyaathi/repo_api/notifications{?since,all,participating}',\n",
       "  u'open_issues': 0,\n",
       "  u'open_issues_count': 0,\n",
       "  u'owner': {u'avatar_url': u'https://avatars2.githubusercontent.com/u/34699715?v=4',\n",
       "   u'events_url': u'https://api.github.com/users/khyaathi/events{/privacy}',\n",
       "   u'followers_url': u'https://api.github.com/users/khyaathi/followers',\n",
       "   u'following_url': u'https://api.github.com/users/khyaathi/following{/other_user}',\n",
       "   u'gists_url': u'https://api.github.com/users/khyaathi/gists{/gist_id}',\n",
       "   u'gravatar_id': u'',\n",
       "   u'html_url': u'https://github.com/khyaathi',\n",
       "   u'id': 34699715,\n",
       "   u'login': u'khyaathi',\n",
       "   u'node_id': u'MDEyOk9yZ2FuaXphdGlvbjM0Njk5NzE1',\n",
       "   u'organizations_url': u'https://api.github.com/users/khyaathi/orgs',\n",
       "   u'received_events_url': u'https://api.github.com/users/khyaathi/received_events',\n",
       "   u'repos_url': u'https://api.github.com/users/khyaathi/repos',\n",
       "   u'site_admin': False,\n",
       "   u'starred_url': u'https://api.github.com/users/khyaathi/starred{/owner}{/repo}',\n",
       "   u'subscriptions_url': u'https://api.github.com/users/khyaathi/subscriptions',\n",
       "   u'type': u'Organization',\n",
       "   u'url': u'https://api.github.com/users/khyaathi'},\n",
       "  u'permissions': {u'admin': True, u'pull': True, u'push': True},\n",
       "  u'private': False,\n",
       "  u'pulls_url': u'https://api.github.com/repos/khyaathi/repo_api/pulls{/number}',\n",
       "  u'pushed_at': u'2018-02-11T02:13:33Z',\n",
       "  u'releases_url': u'https://api.github.com/repos/khyaathi/repo_api/releases{/id}',\n",
       "  u'size': 0,\n",
       "  u'ssh_url': u'git@github.com:khyaathi/repo_api.git',\n",
       "  u'stargazers_count': 0,\n",
       "  u'stargazers_url': u'https://api.github.com/repos/khyaathi/repo_api/stargazers',\n",
       "  u'statuses_url': u'https://api.github.com/repos/khyaathi/repo_api/statuses/{sha}',\n",
       "  u'subscribers_url': u'https://api.github.com/repos/khyaathi/repo_api/subscribers',\n",
       "  u'subscription_url': u'https://api.github.com/repos/khyaathi/repo_api/subscription',\n",
       "  u'svn_url': u'https://github.com/khyaathi/repo_api',\n",
       "  u'tags_url': u'https://api.github.com/repos/khyaathi/repo_api/tags',\n",
       "  u'teams_url': u'https://api.github.com/repos/khyaathi/repo_api/teams',\n",
       "  u'trees_url': u'https://api.github.com/repos/khyaathi/repo_api/git/trees{/sha}',\n",
       "  u'updated_at': u'2018-02-11T02:13:33Z',\n",
       "  u'url': u'https://api.github.com/repos/khyaathi/repo_api',\n",
       "  u'watchers': 0,\n",
       "  u'watchers_count': 0},\n",
       " {u'archive_url': u'https://api.github.com/repos/khyaathi/batch44_repo0/{archive_format}{/ref}',\n",
       "  u'archived': False,\n",
       "  u'assignees_url': u'https://api.github.com/repos/khyaathi/batch44_repo0/assignees{/user}',\n",
       "  u'blobs_url': u'https://api.github.com/repos/khyaathi/batch44_repo0/git/blobs{/sha}',\n",
       "  u'branches_url': u'https://api.github.com/repos/khyaathi/batch44_repo0/branches{/branch}',\n",
       "  u'clone_url': u'https://github.com/khyaathi/batch44_repo0.git',\n",
       "  u'collaborators_url': u'https://api.github.com/repos/khyaathi/batch44_repo0/collaborators{/collaborator}',\n",
       "  u'comments_url': u'https://api.github.com/repos/khyaathi/batch44_repo0/comments{/number}',\n",
       "  u'commits_url': u'https://api.github.com/repos/khyaathi/batch44_repo0/commits{/sha}',\n",
       "  u'compare_url': u'https://api.github.com/repos/khyaathi/batch44_repo0/compare/{base}...{head}',\n",
       "  u'contents_url': u'https://api.github.com/repos/khyaathi/batch44_repo0/contents/{+path}',\n",
       "  u'contributors_url': u'https://api.github.com/repos/khyaathi/batch44_repo0/contributors',\n",
       "  u'created_at': u'2018-03-26T03:24:45Z',\n",
       "  u'default_branch': u'master',\n",
       "  u'deployments_url': u'https://api.github.com/repos/khyaathi/batch44_repo0/deployments',\n",
       "  u'description': None,\n",
       "  u'downloads_url': u'https://api.github.com/repos/khyaathi/batch44_repo0/downloads',\n",
       "  u'events_url': u'https://api.github.com/repos/khyaathi/batch44_repo0/events',\n",
       "  u'fork': False,\n",
       "  u'forks': 0,\n",
       "  u'forks_count': 0,\n",
       "  u'forks_url': u'https://api.github.com/repos/khyaathi/batch44_repo0/forks',\n",
       "  u'full_name': u'khyaathi/batch44_repo0',\n",
       "  u'git_commits_url': u'https://api.github.com/repos/khyaathi/batch44_repo0/git/commits{/sha}',\n",
       "  u'git_refs_url': u'https://api.github.com/repos/khyaathi/batch44_repo0/git/refs{/sha}',\n",
       "  u'git_tags_url': u'https://api.github.com/repos/khyaathi/batch44_repo0/git/tags{/sha}',\n",
       "  u'git_url': u'git://github.com/khyaathi/batch44_repo0.git',\n",
       "  u'has_downloads': True,\n",
       "  u'has_issues': True,\n",
       "  u'has_pages': False,\n",
       "  u'has_projects': True,\n",
       "  u'has_wiki': True,\n",
       "  u'homepage': None,\n",
       "  u'hooks_url': u'https://api.github.com/repos/khyaathi/batch44_repo0/hooks',\n",
       "  u'html_url': u'https://github.com/khyaathi/batch44_repo0',\n",
       "  u'id': 126768133,\n",
       "  u'issue_comment_url': u'https://api.github.com/repos/khyaathi/batch44_repo0/issues/comments{/number}',\n",
       "  u'issue_events_url': u'https://api.github.com/repos/khyaathi/batch44_repo0/issues/events{/number}',\n",
       "  u'issues_url': u'https://api.github.com/repos/khyaathi/batch44_repo0/issues{/number}',\n",
       "  u'keys_url': u'https://api.github.com/repos/khyaathi/batch44_repo0/keys{/key_id}',\n",
       "  u'labels_url': u'https://api.github.com/repos/khyaathi/batch44_repo0/labels{/name}',\n",
       "  u'language': None,\n",
       "  u'languages_url': u'https://api.github.com/repos/khyaathi/batch44_repo0/languages',\n",
       "  u'license': None,\n",
       "  u'merges_url': u'https://api.github.com/repos/khyaathi/batch44_repo0/merges',\n",
       "  u'milestones_url': u'https://api.github.com/repos/khyaathi/batch44_repo0/milestones{/number}',\n",
       "  u'mirror_url': None,\n",
       "  u'name': u'batch44_repo0',\n",
       "  u'node_id': u'MDEwOlJlcG9zaXRvcnkxMjY3NjgxMzM=',\n",
       "  u'notifications_url': u'https://api.github.com/repos/khyaathi/batch44_repo0/notifications{?since,all,participating}',\n",
       "  u'open_issues': 0,\n",
       "  u'open_issues_count': 0,\n",
       "  u'owner': {u'avatar_url': u'https://avatars2.githubusercontent.com/u/34699715?v=4',\n",
       "   u'events_url': u'https://api.github.com/users/khyaathi/events{/privacy}',\n",
       "   u'followers_url': u'https://api.github.com/users/khyaathi/followers',\n",
       "   u'following_url': u'https://api.github.com/users/khyaathi/following{/other_user}',\n",
       "   u'gists_url': u'https://api.github.com/users/khyaathi/gists{/gist_id}',\n",
       "   u'gravatar_id': u'',\n",
       "   u'html_url': u'https://github.com/khyaathi',\n",
       "   u'id': 34699715,\n",
       "   u'login': u'khyaathi',\n",
       "   u'node_id': u'MDEyOk9yZ2FuaXphdGlvbjM0Njk5NzE1',\n",
       "   u'organizations_url': u'https://api.github.com/users/khyaathi/orgs',\n",
       "   u'received_events_url': u'https://api.github.com/users/khyaathi/received_events',\n",
       "   u'repos_url': u'https://api.github.com/users/khyaathi/repos',\n",
       "   u'site_admin': False,\n",
       "   u'starred_url': u'https://api.github.com/users/khyaathi/starred{/owner}{/repo}',\n",
       "   u'subscriptions_url': u'https://api.github.com/users/khyaathi/subscriptions',\n",
       "   u'type': u'Organization',\n",
       "   u'url': u'https://api.github.com/users/khyaathi'},\n",
       "  u'permissions': {u'admin': True, u'pull': True, u'push': True},\n",
       "  u'private': False,\n",
       "  u'pulls_url': u'https://api.github.com/repos/khyaathi/batch44_repo0/pulls{/number}',\n",
       "  u'pushed_at': u'2018-03-26T03:24:45Z',\n",
       "  u'releases_url': u'https://api.github.com/repos/khyaathi/batch44_repo0/releases{/id}',\n",
       "  u'size': 0,\n",
       "  u'ssh_url': u'git@github.com:khyaathi/batch44_repo0.git',\n",
       "  u'stargazers_count': 0,\n",
       "  u'stargazers_url': u'https://api.github.com/repos/khyaathi/batch44_repo0/stargazers',\n",
       "  u'statuses_url': u'https://api.github.com/repos/khyaathi/batch44_repo0/statuses/{sha}',\n",
       "  u'subscribers_url': u'https://api.github.com/repos/khyaathi/batch44_repo0/subscribers',\n",
       "  u'subscription_url': u'https://api.github.com/repos/khyaathi/batch44_repo0/subscription',\n",
       "  u'svn_url': u'https://github.com/khyaathi/batch44_repo0',\n",
       "  u'tags_url': u'https://api.github.com/repos/khyaathi/batch44_repo0/tags',\n",
       "  u'teams_url': u'https://api.github.com/repos/khyaathi/batch44_repo0/teams',\n",
       "  u'trees_url': u'https://api.github.com/repos/khyaathi/batch44_repo0/git/trees{/sha}',\n",
       "  u'updated_at': u'2018-03-26T03:24:45Z',\n",
       "  u'url': u'https://api.github.com/repos/khyaathi/batch44_repo0',\n",
       "  u'watchers': 0,\n",
       "  u'watchers_count': 0},\n",
       " {u'archive_url': u'https://api.github.com/repos/khyaathi/repocreatedbyAPI/{archive_format}{/ref}',\n",
       "  u'archived': False,\n",
       "  u'assignees_url': u'https://api.github.com/repos/khyaathi/repocreatedbyAPI/assignees{/user}',\n",
       "  u'blobs_url': u'https://api.github.com/repos/khyaathi/repocreatedbyAPI/git/blobs{/sha}',\n",
       "  u'branches_url': u'https://api.github.com/repos/khyaathi/repocreatedbyAPI/branches{/branch}',\n",
       "  u'clone_url': u'https://github.com/khyaathi/repocreatedbyAPI.git',\n",
       "  u'collaborators_url': u'https://api.github.com/repos/khyaathi/repocreatedbyAPI/collaborators{/collaborator}',\n",
       "  u'comments_url': u'https://api.github.com/repos/khyaathi/repocreatedbyAPI/comments{/number}',\n",
       "  u'commits_url': u'https://api.github.com/repos/khyaathi/repocreatedbyAPI/commits{/sha}',\n",
       "  u'compare_url': u'https://api.github.com/repos/khyaathi/repocreatedbyAPI/compare/{base}...{head}',\n",
       "  u'contents_url': u'https://api.github.com/repos/khyaathi/repocreatedbyAPI/contents/{+path}',\n",
       "  u'contributors_url': u'https://api.github.com/repos/khyaathi/repocreatedbyAPI/contributors',\n",
       "  u'created_at': u'2018-03-26T03:43:13Z',\n",
       "  u'default_branch': u'master',\n",
       "  u'deployments_url': u'https://api.github.com/repos/khyaathi/repocreatedbyAPI/deployments',\n",
       "  u'description': None,\n",
       "  u'downloads_url': u'https://api.github.com/repos/khyaathi/repocreatedbyAPI/downloads',\n",
       "  u'events_url': u'https://api.github.com/repos/khyaathi/repocreatedbyAPI/events',\n",
       "  u'fork': False,\n",
       "  u'forks': 0,\n",
       "  u'forks_count': 0,\n",
       "  u'forks_url': u'https://api.github.com/repos/khyaathi/repocreatedbyAPI/forks',\n",
       "  u'full_name': u'khyaathi/repocreatedbyAPI',\n",
       "  u'git_commits_url': u'https://api.github.com/repos/khyaathi/repocreatedbyAPI/git/commits{/sha}',\n",
       "  u'git_refs_url': u'https://api.github.com/repos/khyaathi/repocreatedbyAPI/git/refs{/sha}',\n",
       "  u'git_tags_url': u'https://api.github.com/repos/khyaathi/repocreatedbyAPI/git/tags{/sha}',\n",
       "  u'git_url': u'git://github.com/khyaathi/repocreatedbyAPI.git',\n",
       "  u'has_downloads': True,\n",
       "  u'has_issues': True,\n",
       "  u'has_pages': False,\n",
       "  u'has_projects': True,\n",
       "  u'has_wiki': True,\n",
       "  u'homepage': None,\n",
       "  u'hooks_url': u'https://api.github.com/repos/khyaathi/repocreatedbyAPI/hooks',\n",
       "  u'html_url': u'https://github.com/khyaathi/repocreatedbyAPI',\n",
       "  u'id': 126769820,\n",
       "  u'issue_comment_url': u'https://api.github.com/repos/khyaathi/repocreatedbyAPI/issues/comments{/number}',\n",
       "  u'issue_events_url': u'https://api.github.com/repos/khyaathi/repocreatedbyAPI/issues/events{/number}',\n",
       "  u'issues_url': u'https://api.github.com/repos/khyaathi/repocreatedbyAPI/issues{/number}',\n",
       "  u'keys_url': u'https://api.github.com/repos/khyaathi/repocreatedbyAPI/keys{/key_id}',\n",
       "  u'labels_url': u'https://api.github.com/repos/khyaathi/repocreatedbyAPI/labels{/name}',\n",
       "  u'language': None,\n",
       "  u'languages_url': u'https://api.github.com/repos/khyaathi/repocreatedbyAPI/languages',\n",
       "  u'license': None,\n",
       "  u'merges_url': u'https://api.github.com/repos/khyaathi/repocreatedbyAPI/merges',\n",
       "  u'milestones_url': u'https://api.github.com/repos/khyaathi/repocreatedbyAPI/milestones{/number}',\n",
       "  u'mirror_url': None,\n",
       "  u'name': u'repocreatedbyAPI',\n",
       "  u'node_id': u'MDEwOlJlcG9zaXRvcnkxMjY3Njk4MjA=',\n",
       "  u'notifications_url': u'https://api.github.com/repos/khyaathi/repocreatedbyAPI/notifications{?since,all,participating}',\n",
       "  u'open_issues': 0,\n",
       "  u'open_issues_count': 0,\n",
       "  u'owner': {u'avatar_url': u'https://avatars2.githubusercontent.com/u/34699715?v=4',\n",
       "   u'events_url': u'https://api.github.com/users/khyaathi/events{/privacy}',\n",
       "   u'followers_url': u'https://api.github.com/users/khyaathi/followers',\n",
       "   u'following_url': u'https://api.github.com/users/khyaathi/following{/other_user}',\n",
       "   u'gists_url': u'https://api.github.com/users/khyaathi/gists{/gist_id}',\n",
       "   u'gravatar_id': u'',\n",
       "   u'html_url': u'https://github.com/khyaathi',\n",
       "   u'id': 34699715,\n",
       "   u'login': u'khyaathi',\n",
       "   u'node_id': u'MDEyOk9yZ2FuaXphdGlvbjM0Njk5NzE1',\n",
       "   u'organizations_url': u'https://api.github.com/users/khyaathi/orgs',\n",
       "   u'received_events_url': u'https://api.github.com/users/khyaathi/received_events',\n",
       "   u'repos_url': u'https://api.github.com/users/khyaathi/repos',\n",
       "   u'site_admin': False,\n",
       "   u'starred_url': u'https://api.github.com/users/khyaathi/starred{/owner}{/repo}',\n",
       "   u'subscriptions_url': u'https://api.github.com/users/khyaathi/subscriptions',\n",
       "   u'type': u'Organization',\n",
       "   u'url': u'https://api.github.com/users/khyaathi'},\n",
       "  u'permissions': {u'admin': True, u'pull': True, u'push': True},\n",
       "  u'private': False,\n",
       "  u'pulls_url': u'https://api.github.com/repos/khyaathi/repocreatedbyAPI/pulls{/number}',\n",
       "  u'pushed_at': u'2018-03-26T03:43:13Z',\n",
       "  u'releases_url': u'https://api.github.com/repos/khyaathi/repocreatedbyAPI/releases{/id}',\n",
       "  u'size': 0,\n",
       "  u'ssh_url': u'git@github.com:khyaathi/repocreatedbyAPI.git',\n",
       "  u'stargazers_count': 0,\n",
       "  u'stargazers_url': u'https://api.github.com/repos/khyaathi/repocreatedbyAPI/stargazers',\n",
       "  u'statuses_url': u'https://api.github.com/repos/khyaathi/repocreatedbyAPI/statuses/{sha}',\n",
       "  u'subscribers_url': u'https://api.github.com/repos/khyaathi/repocreatedbyAPI/subscribers',\n",
       "  u'subscription_url': u'https://api.github.com/repos/khyaathi/repocreatedbyAPI/subscription',\n",
       "  u'svn_url': u'https://github.com/khyaathi/repocreatedbyAPI',\n",
       "  u'tags_url': u'https://api.github.com/repos/khyaathi/repocreatedbyAPI/tags',\n",
       "  u'teams_url': u'https://api.github.com/repos/khyaathi/repocreatedbyAPI/teams',\n",
       "  u'trees_url': u'https://api.github.com/repos/khyaathi/repocreatedbyAPI/git/trees{/sha}',\n",
       "  u'updated_at': u'2018-03-26T03:43:13Z',\n",
       "  u'url': u'https://api.github.com/repos/khyaathi/repocreatedbyAPI',\n",
       "  u'watchers': 0,\n",
       "  u'watchers_count': 0},\n",
       " {u'archive_url': u'https://api.github.com/repos/khyaathi/batch48/{archive_format}{/ref}',\n",
       "  u'archived': False,\n",
       "  u'assignees_url': u'https://api.github.com/repos/khyaathi/batch48/assignees{/user}',\n",
       "  u'blobs_url': u'https://api.github.com/repos/khyaathi/batch48/git/blobs{/sha}',\n",
       "  u'branches_url': u'https://api.github.com/repos/khyaathi/batch48/branches{/branch}',\n",
       "  u'clone_url': u'https://github.com/khyaathi/batch48.git',\n",
       "  u'collaborators_url': u'https://api.github.com/repos/khyaathi/batch48/collaborators{/collaborator}',\n",
       "  u'comments_url': u'https://api.github.com/repos/khyaathi/batch48/comments{/number}',\n",
       "  u'commits_url': u'https://api.github.com/repos/khyaathi/batch48/commits{/sha}',\n",
       "  u'compare_url': u'https://api.github.com/repos/khyaathi/batch48/compare/{base}...{head}',\n",
       "  u'contents_url': u'https://api.github.com/repos/khyaathi/batch48/contents/{+path}',\n",
       "  u'contributors_url': u'https://api.github.com/repos/khyaathi/batch48/contributors',\n",
       "  u'created_at': u'2018-07-05T03:21:23Z',\n",
       "  u'default_branch': u'master',\n",
       "  u'deployments_url': u'https://api.github.com/repos/khyaathi/batch48/deployments',\n",
       "  u'description': None,\n",
       "  u'downloads_url': u'https://api.github.com/repos/khyaathi/batch48/downloads',\n",
       "  u'events_url': u'https://api.github.com/repos/khyaathi/batch48/events',\n",
       "  u'fork': False,\n",
       "  u'forks': 0,\n",
       "  u'forks_count': 0,\n",
       "  u'forks_url': u'https://api.github.com/repos/khyaathi/batch48/forks',\n",
       "  u'full_name': u'khyaathi/batch48',\n",
       "  u'git_commits_url': u'https://api.github.com/repos/khyaathi/batch48/git/commits{/sha}',\n",
       "  u'git_refs_url': u'https://api.github.com/repos/khyaathi/batch48/git/refs{/sha}',\n",
       "  u'git_tags_url': u'https://api.github.com/repos/khyaathi/batch48/git/tags{/sha}',\n",
       "  u'git_url': u'git://github.com/khyaathi/batch48.git',\n",
       "  u'has_downloads': True,\n",
       "  u'has_issues': True,\n",
       "  u'has_pages': False,\n",
       "  u'has_projects': True,\n",
       "  u'has_wiki': True,\n",
       "  u'homepage': None,\n",
       "  u'hooks_url': u'https://api.github.com/repos/khyaathi/batch48/hooks',\n",
       "  u'html_url': u'https://github.com/khyaathi/batch48',\n",
       "  u'id': 139789745,\n",
       "  u'issue_comment_url': u'https://api.github.com/repos/khyaathi/batch48/issues/comments{/number}',\n",
       "  u'issue_events_url': u'https://api.github.com/repos/khyaathi/batch48/issues/events{/number}',\n",
       "  u'issues_url': u'https://api.github.com/repos/khyaathi/batch48/issues{/number}',\n",
       "  u'keys_url': u'https://api.github.com/repos/khyaathi/batch48/keys{/key_id}',\n",
       "  u'labels_url': u'https://api.github.com/repos/khyaathi/batch48/labels{/name}',\n",
       "  u'language': None,\n",
       "  u'languages_url': u'https://api.github.com/repos/khyaathi/batch48/languages',\n",
       "  u'license': None,\n",
       "  u'merges_url': u'https://api.github.com/repos/khyaathi/batch48/merges',\n",
       "  u'milestones_url': u'https://api.github.com/repos/khyaathi/batch48/milestones{/number}',\n",
       "  u'mirror_url': None,\n",
       "  u'name': u'batch48',\n",
       "  u'node_id': u'MDEwOlJlcG9zaXRvcnkxMzk3ODk3NDU=',\n",
       "  u'notifications_url': u'https://api.github.com/repos/khyaathi/batch48/notifications{?since,all,participating}',\n",
       "  u'open_issues': 0,\n",
       "  u'open_issues_count': 0,\n",
       "  u'owner': {u'avatar_url': u'https://avatars2.githubusercontent.com/u/34699715?v=4',\n",
       "   u'events_url': u'https://api.github.com/users/khyaathi/events{/privacy}',\n",
       "   u'followers_url': u'https://api.github.com/users/khyaathi/followers',\n",
       "   u'following_url': u'https://api.github.com/users/khyaathi/following{/other_user}',\n",
       "   u'gists_url': u'https://api.github.com/users/khyaathi/gists{/gist_id}',\n",
       "   u'gravatar_id': u'',\n",
       "   u'html_url': u'https://github.com/khyaathi',\n",
       "   u'id': 34699715,\n",
       "   u'login': u'khyaathi',\n",
       "   u'node_id': u'MDEyOk9yZ2FuaXphdGlvbjM0Njk5NzE1',\n",
       "   u'organizations_url': u'https://api.github.com/users/khyaathi/orgs',\n",
       "   u'received_events_url': u'https://api.github.com/users/khyaathi/received_events',\n",
       "   u'repos_url': u'https://api.github.com/users/khyaathi/repos',\n",
       "   u'site_admin': False,\n",
       "   u'starred_url': u'https://api.github.com/users/khyaathi/starred{/owner}{/repo}',\n",
       "   u'subscriptions_url': u'https://api.github.com/users/khyaathi/subscriptions',\n",
       "   u'type': u'Organization',\n",
       "   u'url': u'https://api.github.com/users/khyaathi'},\n",
       "  u'permissions': {u'admin': True, u'pull': True, u'push': True},\n",
       "  u'private': False,\n",
       "  u'pulls_url': u'https://api.github.com/repos/khyaathi/batch48/pulls{/number}',\n",
       "  u'pushed_at': u'2018-07-05T03:21:23Z',\n",
       "  u'releases_url': u'https://api.github.com/repos/khyaathi/batch48/releases{/id}',\n",
       "  u'size': 0,\n",
       "  u'ssh_url': u'git@github.com:khyaathi/batch48.git',\n",
       "  u'stargazers_count': 0,\n",
       "  u'stargazers_url': u'https://api.github.com/repos/khyaathi/batch48/stargazers',\n",
       "  u'statuses_url': u'https://api.github.com/repos/khyaathi/batch48/statuses/{sha}',\n",
       "  u'subscribers_url': u'https://api.github.com/repos/khyaathi/batch48/subscribers',\n",
       "  u'subscription_url': u'https://api.github.com/repos/khyaathi/batch48/subscription',\n",
       "  u'svn_url': u'https://github.com/khyaathi/batch48',\n",
       "  u'tags_url': u'https://api.github.com/repos/khyaathi/batch48/tags',\n",
       "  u'teams_url': u'https://api.github.com/repos/khyaathi/batch48/teams',\n",
       "  u'trees_url': u'https://api.github.com/repos/khyaathi/batch48/git/trees{/sha}',\n",
       "  u'updated_at': u'2018-07-05T03:21:23Z',\n",
       "  u'url': u'https://api.github.com/repos/khyaathi/batch48',\n",
       "  u'watchers': 0,\n",
       "  u'watchers_count': 0},\n",
       " {u'archive_url': u'https://api.github.com/repos/khyaathi/batch48_API/{archive_format}{/ref}',\n",
       "  u'archived': False,\n",
       "  u'assignees_url': u'https://api.github.com/repos/khyaathi/batch48_API/assignees{/user}',\n",
       "  u'blobs_url': u'https://api.github.com/repos/khyaathi/batch48_API/git/blobs{/sha}',\n",
       "  u'branches_url': u'https://api.github.com/repos/khyaathi/batch48_API/branches{/branch}',\n",
       "  u'clone_url': u'https://github.com/khyaathi/batch48_API.git',\n",
       "  u'collaborators_url': u'https://api.github.com/repos/khyaathi/batch48_API/collaborators{/collaborator}',\n",
       "  u'comments_url': u'https://api.github.com/repos/khyaathi/batch48_API/comments{/number}',\n",
       "  u'commits_url': u'https://api.github.com/repos/khyaathi/batch48_API/commits{/sha}',\n",
       "  u'compare_url': u'https://api.github.com/repos/khyaathi/batch48_API/compare/{base}...{head}',\n",
       "  u'contents_url': u'https://api.github.com/repos/khyaathi/batch48_API/contents/{+path}',\n",
       "  u'contributors_url': u'https://api.github.com/repos/khyaathi/batch48_API/contributors',\n",
       "  u'created_at': u'2018-07-05T03:35:38Z',\n",
       "  u'default_branch': u'master',\n",
       "  u'deployments_url': u'https://api.github.com/repos/khyaathi/batch48_API/deployments',\n",
       "  u'description': None,\n",
       "  u'downloads_url': u'https://api.github.com/repos/khyaathi/batch48_API/downloads',\n",
       "  u'events_url': u'https://api.github.com/repos/khyaathi/batch48_API/events',\n",
       "  u'fork': False,\n",
       "  u'forks': 0,\n",
       "  u'forks_count': 0,\n",
       "  u'forks_url': u'https://api.github.com/repos/khyaathi/batch48_API/forks',\n",
       "  u'full_name': u'khyaathi/batch48_API',\n",
       "  u'git_commits_url': u'https://api.github.com/repos/khyaathi/batch48_API/git/commits{/sha}',\n",
       "  u'git_refs_url': u'https://api.github.com/repos/khyaathi/batch48_API/git/refs{/sha}',\n",
       "  u'git_tags_url': u'https://api.github.com/repos/khyaathi/batch48_API/git/tags{/sha}',\n",
       "  u'git_url': u'git://github.com/khyaathi/batch48_API.git',\n",
       "  u'has_downloads': True,\n",
       "  u'has_issues': True,\n",
       "  u'has_pages': False,\n",
       "  u'has_projects': True,\n",
       "  u'has_wiki': True,\n",
       "  u'homepage': None,\n",
       "  u'hooks_url': u'https://api.github.com/repos/khyaathi/batch48_API/hooks',\n",
       "  u'html_url': u'https://github.com/khyaathi/batch48_API',\n",
       "  u'id': 139790956,\n",
       "  u'issue_comment_url': u'https://api.github.com/repos/khyaathi/batch48_API/issues/comments{/number}',\n",
       "  u'issue_events_url': u'https://api.github.com/repos/khyaathi/batch48_API/issues/events{/number}',\n",
       "  u'issues_url': u'https://api.github.com/repos/khyaathi/batch48_API/issues{/number}',\n",
       "  u'keys_url': u'https://api.github.com/repos/khyaathi/batch48_API/keys{/key_id}',\n",
       "  u'labels_url': u'https://api.github.com/repos/khyaathi/batch48_API/labels{/name}',\n",
       "  u'language': None,\n",
       "  u'languages_url': u'https://api.github.com/repos/khyaathi/batch48_API/languages',\n",
       "  u'license': None,\n",
       "  u'merges_url': u'https://api.github.com/repos/khyaathi/batch48_API/merges',\n",
       "  u'milestones_url': u'https://api.github.com/repos/khyaathi/batch48_API/milestones{/number}',\n",
       "  u'mirror_url': None,\n",
       "  u'name': u'batch48_API',\n",
       "  u'node_id': u'MDEwOlJlcG9zaXRvcnkxMzk3OTA5NTY=',\n",
       "  u'notifications_url': u'https://api.github.com/repos/khyaathi/batch48_API/notifications{?since,all,participating}',\n",
       "  u'open_issues': 0,\n",
       "  u'open_issues_count': 0,\n",
       "  u'owner': {u'avatar_url': u'https://avatars2.githubusercontent.com/u/34699715?v=4',\n",
       "   u'events_url': u'https://api.github.com/users/khyaathi/events{/privacy}',\n",
       "   u'followers_url': u'https://api.github.com/users/khyaathi/followers',\n",
       "   u'following_url': u'https://api.github.com/users/khyaathi/following{/other_user}',\n",
       "   u'gists_url': u'https://api.github.com/users/khyaathi/gists{/gist_id}',\n",
       "   u'gravatar_id': u'',\n",
       "   u'html_url': u'https://github.com/khyaathi',\n",
       "   u'id': 34699715,\n",
       "   u'login': u'khyaathi',\n",
       "   u'node_id': u'MDEyOk9yZ2FuaXphdGlvbjM0Njk5NzE1',\n",
       "   u'organizations_url': u'https://api.github.com/users/khyaathi/orgs',\n",
       "   u'received_events_url': u'https://api.github.com/users/khyaathi/received_events',\n",
       "   u'repos_url': u'https://api.github.com/users/khyaathi/repos',\n",
       "   u'site_admin': False,\n",
       "   u'starred_url': u'https://api.github.com/users/khyaathi/starred{/owner}{/repo}',\n",
       "   u'subscriptions_url': u'https://api.github.com/users/khyaathi/subscriptions',\n",
       "   u'type': u'Organization',\n",
       "   u'url': u'https://api.github.com/users/khyaathi'},\n",
       "  u'permissions': {u'admin': True, u'pull': True, u'push': True},\n",
       "  u'private': False,\n",
       "  u'pulls_url': u'https://api.github.com/repos/khyaathi/batch48_API/pulls{/number}',\n",
       "  u'pushed_at': u'2018-07-05T03:35:39Z',\n",
       "  u'releases_url': u'https://api.github.com/repos/khyaathi/batch48_API/releases{/id}',\n",
       "  u'size': 0,\n",
       "  u'ssh_url': u'git@github.com:khyaathi/batch48_API.git',\n",
       "  u'stargazers_count': 0,\n",
       "  u'stargazers_url': u'https://api.github.com/repos/khyaathi/batch48_API/stargazers',\n",
       "  u'statuses_url': u'https://api.github.com/repos/khyaathi/batch48_API/statuses/{sha}',\n",
       "  u'subscribers_url': u'https://api.github.com/repos/khyaathi/batch48_API/subscribers',\n",
       "  u'subscription_url': u'https://api.github.com/repos/khyaathi/batch48_API/subscription',\n",
       "  u'svn_url': u'https://github.com/khyaathi/batch48_API',\n",
       "  u'tags_url': u'https://api.github.com/repos/khyaathi/batch48_API/tags',\n",
       "  u'teams_url': u'https://api.github.com/repos/khyaathi/batch48_API/teams',\n",
       "  u'trees_url': u'https://api.github.com/repos/khyaathi/batch48_API/git/trees{/sha}',\n",
       "  u'updated_at': u'2018-07-05T03:35:38Z',\n",
       "  u'url': u'https://api.github.com/repos/khyaathi/batch48_API',\n",
       "  u'watchers': 0,\n",
       "  u'watchers_count': 0}]"
      ]
     },
     "execution_count": 9,
     "metadata": {},
     "output_type": "execute_result"
    }
   ],
   "source": [
    "resp.json()"
   ]
  },
  {
   "cell_type": "code",
   "execution_count": 10,
   "metadata": {
    "collapsed": true
   },
   "outputs": [],
   "source": [
    "khyaathi_repos = resp.json()"
   ]
  },
  {
   "cell_type": "code",
   "execution_count": 11,
   "metadata": {},
   "outputs": [
    {
     "data": {
      "text/plain": [
       "{u'archive_url': u'https://api.github.com/repos/khyaathi/khyaathirepo1/{archive_format}{/ref}',\n",
       " u'archived': False,\n",
       " u'assignees_url': u'https://api.github.com/repos/khyaathi/khyaathirepo1/assignees{/user}',\n",
       " u'blobs_url': u'https://api.github.com/repos/khyaathi/khyaathirepo1/git/blobs{/sha}',\n",
       " u'branches_url': u'https://api.github.com/repos/khyaathi/khyaathirepo1/branches{/branch}',\n",
       " u'clone_url': u'https://github.com/khyaathi/khyaathirepo1.git',\n",
       " u'collaborators_url': u'https://api.github.com/repos/khyaathi/khyaathirepo1/collaborators{/collaborator}',\n",
       " u'comments_url': u'https://api.github.com/repos/khyaathi/khyaathirepo1/comments{/number}',\n",
       " u'commits_url': u'https://api.github.com/repos/khyaathi/khyaathirepo1/commits{/sha}',\n",
       " u'compare_url': u'https://api.github.com/repos/khyaathi/khyaathirepo1/compare/{base}...{head}',\n",
       " u'contents_url': u'https://api.github.com/repos/khyaathi/khyaathirepo1/contents/{+path}',\n",
       " u'contributors_url': u'https://api.github.com/repos/khyaathi/khyaathirepo1/contributors',\n",
       " u'created_at': u'2017-12-20T03:13:48Z',\n",
       " u'default_branch': u'master',\n",
       " u'deployments_url': u'https://api.github.com/repos/khyaathi/khyaathirepo1/deployments',\n",
       " u'description': u'khyaathirepo1',\n",
       " u'downloads_url': u'https://api.github.com/repos/khyaathi/khyaathirepo1/downloads',\n",
       " u'events_url': u'https://api.github.com/repos/khyaathi/khyaathirepo1/events',\n",
       " u'fork': False,\n",
       " u'forks': 0,\n",
       " u'forks_count': 0,\n",
       " u'forks_url': u'https://api.github.com/repos/khyaathi/khyaathirepo1/forks',\n",
       " u'full_name': u'khyaathi/khyaathirepo1',\n",
       " u'git_commits_url': u'https://api.github.com/repos/khyaathi/khyaathirepo1/git/commits{/sha}',\n",
       " u'git_refs_url': u'https://api.github.com/repos/khyaathi/khyaathirepo1/git/refs{/sha}',\n",
       " u'git_tags_url': u'https://api.github.com/repos/khyaathi/khyaathirepo1/git/tags{/sha}',\n",
       " u'git_url': u'git://github.com/khyaathi/khyaathirepo1.git',\n",
       " u'has_downloads': True,\n",
       " u'has_issues': True,\n",
       " u'has_pages': False,\n",
       " u'has_projects': True,\n",
       " u'has_wiki': True,\n",
       " u'homepage': None,\n",
       " u'hooks_url': u'https://api.github.com/repos/khyaathi/khyaathirepo1/hooks',\n",
       " u'html_url': u'https://github.com/khyaathi/khyaathirepo1',\n",
       " u'id': 114837420,\n",
       " u'issue_comment_url': u'https://api.github.com/repos/khyaathi/khyaathirepo1/issues/comments{/number}',\n",
       " u'issue_events_url': u'https://api.github.com/repos/khyaathi/khyaathirepo1/issues/events{/number}',\n",
       " u'issues_url': u'https://api.github.com/repos/khyaathi/khyaathirepo1/issues{/number}',\n",
       " u'keys_url': u'https://api.github.com/repos/khyaathi/khyaathirepo1/keys{/key_id}',\n",
       " u'labels_url': u'https://api.github.com/repos/khyaathi/khyaathirepo1/labels{/name}',\n",
       " u'language': None,\n",
       " u'languages_url': u'https://api.github.com/repos/khyaathi/khyaathirepo1/languages',\n",
       " u'license': None,\n",
       " u'merges_url': u'https://api.github.com/repos/khyaathi/khyaathirepo1/merges',\n",
       " u'milestones_url': u'https://api.github.com/repos/khyaathi/khyaathirepo1/milestones{/number}',\n",
       " u'mirror_url': None,\n",
       " u'name': u'khyaathirepo1',\n",
       " u'node_id': u'MDEwOlJlcG9zaXRvcnkxMTQ4Mzc0MjA=',\n",
       " u'notifications_url': u'https://api.github.com/repos/khyaathi/khyaathirepo1/notifications{?since,all,participating}',\n",
       " u'open_issues': 0,\n",
       " u'open_issues_count': 0,\n",
       " u'owner': {u'avatar_url': u'https://avatars2.githubusercontent.com/u/34699715?v=4',\n",
       "  u'events_url': u'https://api.github.com/users/khyaathi/events{/privacy}',\n",
       "  u'followers_url': u'https://api.github.com/users/khyaathi/followers',\n",
       "  u'following_url': u'https://api.github.com/users/khyaathi/following{/other_user}',\n",
       "  u'gists_url': u'https://api.github.com/users/khyaathi/gists{/gist_id}',\n",
       "  u'gravatar_id': u'',\n",
       "  u'html_url': u'https://github.com/khyaathi',\n",
       "  u'id': 34699715,\n",
       "  u'login': u'khyaathi',\n",
       "  u'node_id': u'MDEyOk9yZ2FuaXphdGlvbjM0Njk5NzE1',\n",
       "  u'organizations_url': u'https://api.github.com/users/khyaathi/orgs',\n",
       "  u'received_events_url': u'https://api.github.com/users/khyaathi/received_events',\n",
       "  u'repos_url': u'https://api.github.com/users/khyaathi/repos',\n",
       "  u'site_admin': False,\n",
       "  u'starred_url': u'https://api.github.com/users/khyaathi/starred{/owner}{/repo}',\n",
       "  u'subscriptions_url': u'https://api.github.com/users/khyaathi/subscriptions',\n",
       "  u'type': u'Organization',\n",
       "  u'url': u'https://api.github.com/users/khyaathi'},\n",
       " u'permissions': {u'admin': True, u'pull': True, u'push': True},\n",
       " u'private': False,\n",
       " u'pulls_url': u'https://api.github.com/repos/khyaathi/khyaathirepo1/pulls{/number}',\n",
       " u'pushed_at': u'2017-12-20T03:13:48Z',\n",
       " u'releases_url': u'https://api.github.com/repos/khyaathi/khyaathirepo1/releases{/id}',\n",
       " u'size': 0,\n",
       " u'ssh_url': u'git@github.com:khyaathi/khyaathirepo1.git',\n",
       " u'stargazers_count': 0,\n",
       " u'stargazers_url': u'https://api.github.com/repos/khyaathi/khyaathirepo1/stargazers',\n",
       " u'statuses_url': u'https://api.github.com/repos/khyaathi/khyaathirepo1/statuses/{sha}',\n",
       " u'subscribers_url': u'https://api.github.com/repos/khyaathi/khyaathirepo1/subscribers',\n",
       " u'subscription_url': u'https://api.github.com/repos/khyaathi/khyaathirepo1/subscription',\n",
       " u'svn_url': u'https://github.com/khyaathi/khyaathirepo1',\n",
       " u'tags_url': u'https://api.github.com/repos/khyaathi/khyaathirepo1/tags',\n",
       " u'teams_url': u'https://api.github.com/repos/khyaathi/khyaathirepo1/teams',\n",
       " u'trees_url': u'https://api.github.com/repos/khyaathi/khyaathirepo1/git/trees{/sha}',\n",
       " u'updated_at': u'2017-12-20T03:13:48Z',\n",
       " u'url': u'https://api.github.com/repos/khyaathi/khyaathirepo1',\n",
       " u'watchers': 0,\n",
       " u'watchers_count': 0}"
      ]
     },
     "execution_count": 11,
     "metadata": {},
     "output_type": "execute_result"
    }
   ],
   "source": [
    "khyaathi_repos[0]"
   ]
  },
  {
   "cell_type": "code",
   "execution_count": 13,
   "metadata": {},
   "outputs": [
    {
     "data": {
      "text/plain": [
       "u'khyaathi/khyaathirepo1'"
      ]
     },
     "execution_count": 13,
     "metadata": {},
     "output_type": "execute_result"
    }
   ],
   "source": [
    "khyaathi_repos[0]['full_name']"
   ]
  },
  {
   "cell_type": "code",
   "execution_count": 16,
   "metadata": {
    "collapsed": true
   },
   "outputs": [],
   "source": [
    "url=\"https://api.github.com/orgs/uday1834/repos\"\n",
    "resp = requests.get(url,auth=(username,pwd))"
   ]
  },
  {
   "cell_type": "code",
   "execution_count": 17,
   "metadata": {},
   "outputs": [
    {
     "data": {
      "text/plain": [
       "<Response [404]>"
      ]
     },
     "execution_count": 17,
     "metadata": {},
     "output_type": "execute_result"
    }
   ],
   "source": [
    "resp"
   ]
  },
  {
   "cell_type": "code",
   "execution_count": 18,
   "metadata": {
    "collapsed": true
   },
   "outputs": [],
   "source": [
    "url=\"https://api.github.com/orgs/khyaathi/repos\"\n",
    "resp = requests.post(url,auth=(username,pwd),json={\"name\":\"batch48\"})"
   ]
  },
  {
   "cell_type": "code",
   "execution_count": 19,
   "metadata": {},
   "outputs": [
    {
     "data": {
      "text/plain": [
       "<Response [422]>"
      ]
     },
     "execution_count": 19,
     "metadata": {},
     "output_type": "execute_result"
    }
   ],
   "source": [
    "resp"
   ]
  },
  {
   "cell_type": "code",
   "execution_count": 20,
   "metadata": {},
   "outputs": [
    {
     "data": {
      "text/plain": [
       "'Unprocessable Entity'"
      ]
     },
     "execution_count": 20,
     "metadata": {},
     "output_type": "execute_result"
    }
   ],
   "source": [
    "resp.reason"
   ]
  },
  {
   "cell_type": "code",
   "execution_count": 21,
   "metadata": {
    "collapsed": true
   },
   "outputs": [],
   "source": [
    "url=\"https://api.github.com/orgs/khyaathi/repos\"\n",
    "resp = requests.post(url,auth=(username,pwd),json={\"name\":\"batch48_b\"})"
   ]
  },
  {
   "cell_type": "code",
   "execution_count": 22,
   "metadata": {},
   "outputs": [
    {
     "data": {
      "text/plain": [
       "<Response [201]>"
      ]
     },
     "execution_count": 22,
     "metadata": {},
     "output_type": "execute_result"
    }
   ],
   "source": [
    "resp"
   ]
  },
  {
   "cell_type": "code",
   "execution_count": 23,
   "metadata": {},
   "outputs": [
    {
     "data": {
      "text/plain": [
       "{u'allow_merge_commit': True,\n",
       " u'allow_rebase_merge': True,\n",
       " u'allow_squash_merge': True,\n",
       " u'archive_url': u'https://api.github.com/repos/khyaathi/batch48_b/{archive_format}{/ref}',\n",
       " u'archived': False,\n",
       " u'assignees_url': u'https://api.github.com/repos/khyaathi/batch48_b/assignees{/user}',\n",
       " u'blobs_url': u'https://api.github.com/repos/khyaathi/batch48_b/git/blobs{/sha}',\n",
       " u'branches_url': u'https://api.github.com/repos/khyaathi/batch48_b/branches{/branch}',\n",
       " u'clone_url': u'https://github.com/khyaathi/batch48_b.git',\n",
       " u'collaborators_url': u'https://api.github.com/repos/khyaathi/batch48_b/collaborators{/collaborator}',\n",
       " u'comments_url': u'https://api.github.com/repos/khyaathi/batch48_b/comments{/number}',\n",
       " u'commits_url': u'https://api.github.com/repos/khyaathi/batch48_b/commits{/sha}',\n",
       " u'compare_url': u'https://api.github.com/repos/khyaathi/batch48_b/compare/{base}...{head}',\n",
       " u'contents_url': u'https://api.github.com/repos/khyaathi/batch48_b/contents/{+path}',\n",
       " u'contributors_url': u'https://api.github.com/repos/khyaathi/batch48_b/contributors',\n",
       " u'created_at': u'2018-08-23T01:58:34Z',\n",
       " u'default_branch': u'master',\n",
       " u'deployments_url': u'https://api.github.com/repos/khyaathi/batch48_b/deployments',\n",
       " u'description': None,\n",
       " u'downloads_url': u'https://api.github.com/repos/khyaathi/batch48_b/downloads',\n",
       " u'events_url': u'https://api.github.com/repos/khyaathi/batch48_b/events',\n",
       " u'fork': False,\n",
       " u'forks': 0,\n",
       " u'forks_count': 0,\n",
       " u'forks_url': u'https://api.github.com/repos/khyaathi/batch48_b/forks',\n",
       " u'full_name': u'khyaathi/batch48_b',\n",
       " u'git_commits_url': u'https://api.github.com/repos/khyaathi/batch48_b/git/commits{/sha}',\n",
       " u'git_refs_url': u'https://api.github.com/repos/khyaathi/batch48_b/git/refs{/sha}',\n",
       " u'git_tags_url': u'https://api.github.com/repos/khyaathi/batch48_b/git/tags{/sha}',\n",
       " u'git_url': u'git://github.com/khyaathi/batch48_b.git',\n",
       " u'has_downloads': True,\n",
       " u'has_issues': True,\n",
       " u'has_pages': False,\n",
       " u'has_projects': True,\n",
       " u'has_wiki': True,\n",
       " u'homepage': None,\n",
       " u'hooks_url': u'https://api.github.com/repos/khyaathi/batch48_b/hooks',\n",
       " u'html_url': u'https://github.com/khyaathi/batch48_b',\n",
       " u'id': 145786109,\n",
       " u'issue_comment_url': u'https://api.github.com/repos/khyaathi/batch48_b/issues/comments{/number}',\n",
       " u'issue_events_url': u'https://api.github.com/repos/khyaathi/batch48_b/issues/events{/number}',\n",
       " u'issues_url': u'https://api.github.com/repos/khyaathi/batch48_b/issues{/number}',\n",
       " u'keys_url': u'https://api.github.com/repos/khyaathi/batch48_b/keys{/key_id}',\n",
       " u'labels_url': u'https://api.github.com/repos/khyaathi/batch48_b/labels{/name}',\n",
       " u'language': None,\n",
       " u'languages_url': u'https://api.github.com/repos/khyaathi/batch48_b/languages',\n",
       " u'license': None,\n",
       " u'merges_url': u'https://api.github.com/repos/khyaathi/batch48_b/merges',\n",
       " u'milestones_url': u'https://api.github.com/repos/khyaathi/batch48_b/milestones{/number}',\n",
       " u'mirror_url': None,\n",
       " u'name': u'batch48_b',\n",
       " u'network_count': 0,\n",
       " u'node_id': u'MDEwOlJlcG9zaXRvcnkxNDU3ODYxMDk=',\n",
       " u'notifications_url': u'https://api.github.com/repos/khyaathi/batch48_b/notifications{?since,all,participating}',\n",
       " u'open_issues': 0,\n",
       " u'open_issues_count': 0,\n",
       " u'organization': {u'avatar_url': u'https://avatars2.githubusercontent.com/u/34699715?v=4',\n",
       "  u'events_url': u'https://api.github.com/users/khyaathi/events{/privacy}',\n",
       "  u'followers_url': u'https://api.github.com/users/khyaathi/followers',\n",
       "  u'following_url': u'https://api.github.com/users/khyaathi/following{/other_user}',\n",
       "  u'gists_url': u'https://api.github.com/users/khyaathi/gists{/gist_id}',\n",
       "  u'gravatar_id': u'',\n",
       "  u'html_url': u'https://github.com/khyaathi',\n",
       "  u'id': 34699715,\n",
       "  u'login': u'khyaathi',\n",
       "  u'node_id': u'MDEyOk9yZ2FuaXphdGlvbjM0Njk5NzE1',\n",
       "  u'organizations_url': u'https://api.github.com/users/khyaathi/orgs',\n",
       "  u'received_events_url': u'https://api.github.com/users/khyaathi/received_events',\n",
       "  u'repos_url': u'https://api.github.com/users/khyaathi/repos',\n",
       "  u'site_admin': False,\n",
       "  u'starred_url': u'https://api.github.com/users/khyaathi/starred{/owner}{/repo}',\n",
       "  u'subscriptions_url': u'https://api.github.com/users/khyaathi/subscriptions',\n",
       "  u'type': u'Organization',\n",
       "  u'url': u'https://api.github.com/users/khyaathi'},\n",
       " u'owner': {u'avatar_url': u'https://avatars2.githubusercontent.com/u/34699715?v=4',\n",
       "  u'events_url': u'https://api.github.com/users/khyaathi/events{/privacy}',\n",
       "  u'followers_url': u'https://api.github.com/users/khyaathi/followers',\n",
       "  u'following_url': u'https://api.github.com/users/khyaathi/following{/other_user}',\n",
       "  u'gists_url': u'https://api.github.com/users/khyaathi/gists{/gist_id}',\n",
       "  u'gravatar_id': u'',\n",
       "  u'html_url': u'https://github.com/khyaathi',\n",
       "  u'id': 34699715,\n",
       "  u'login': u'khyaathi',\n",
       "  u'node_id': u'MDEyOk9yZ2FuaXphdGlvbjM0Njk5NzE1',\n",
       "  u'organizations_url': u'https://api.github.com/users/khyaathi/orgs',\n",
       "  u'received_events_url': u'https://api.github.com/users/khyaathi/received_events',\n",
       "  u'repos_url': u'https://api.github.com/users/khyaathi/repos',\n",
       "  u'site_admin': False,\n",
       "  u'starred_url': u'https://api.github.com/users/khyaathi/starred{/owner}{/repo}',\n",
       "  u'subscriptions_url': u'https://api.github.com/users/khyaathi/subscriptions',\n",
       "  u'type': u'Organization',\n",
       "  u'url': u'https://api.github.com/users/khyaathi'},\n",
       " u'permissions': {u'admin': True, u'pull': True, u'push': True},\n",
       " u'private': False,\n",
       " u'pulls_url': u'https://api.github.com/repos/khyaathi/batch48_b/pulls{/number}',\n",
       " u'pushed_at': u'2018-08-23T01:58:35Z',\n",
       " u'releases_url': u'https://api.github.com/repos/khyaathi/batch48_b/releases{/id}',\n",
       " u'size': 0,\n",
       " u'ssh_url': u'git@github.com:khyaathi/batch48_b.git',\n",
       " u'stargazers_count': 0,\n",
       " u'stargazers_url': u'https://api.github.com/repos/khyaathi/batch48_b/stargazers',\n",
       " u'statuses_url': u'https://api.github.com/repos/khyaathi/batch48_b/statuses/{sha}',\n",
       " u'subscribers_count': 1,\n",
       " u'subscribers_url': u'https://api.github.com/repos/khyaathi/batch48_b/subscribers',\n",
       " u'subscription_url': u'https://api.github.com/repos/khyaathi/batch48_b/subscription',\n",
       " u'svn_url': u'https://github.com/khyaathi/batch48_b',\n",
       " u'tags_url': u'https://api.github.com/repos/khyaathi/batch48_b/tags',\n",
       " u'teams_url': u'https://api.github.com/repos/khyaathi/batch48_b/teams',\n",
       " u'trees_url': u'https://api.github.com/repos/khyaathi/batch48_b/git/trees{/sha}',\n",
       " u'updated_at': u'2018-08-23T01:58:34Z',\n",
       " u'url': u'https://api.github.com/repos/khyaathi/batch48_b',\n",
       " u'watchers': 0,\n",
       " u'watchers_count': 0}"
      ]
     },
     "execution_count": 23,
     "metadata": {},
     "output_type": "execute_result"
    }
   ],
   "source": [
    "resp.json()"
   ]
  },
  {
   "cell_type": "code",
   "execution_count": 24,
   "metadata": {
    "collapsed": true
   },
   "outputs": [],
   "source": [
    "# consider that the device does not contains the webservices also. then ?\n",
    "# can use the inbuilt services of the OS\n",
    "# ssh in linux, telnet in windows,\n",
    "import paramiko as pmk\n",
    "ssh = pmk.SSHClient()\n",
    "ssh.set_missing_host_key_policy(pmk.AutoAddPolicy())"
   ]
  },
  {
   "cell_type": "code",
   "execution_count": 25,
   "metadata": {
    "collapsed": true
   },
   "outputs": [],
   "source": [
    "hostname=\"localhost\"\n",
    "username=\"\"\n",
    "pwd=\"\"\n",
    "ssh.connect(hostname,username=username,password=pwd)"
   ]
  },
  {
   "cell_type": "code",
   "execution_count": 27,
   "metadata": {
    "collapsed": true
   },
   "outputs": [],
   "source": [
    "ssh.load_host_keys?"
   ]
  },
  {
   "cell_type": "code",
   "execution_count": 28,
   "metadata": {},
   "outputs": [
    {
     "data": {
      "text/plain": [
       "(<paramiko.ChannelFile from <paramiko.Channel 0 (open) window=2097152 -> <paramiko.Transport at 0x7c9a9710L (cipher aes128-ctr, 128 bits) (active; 1 open channel(s))>>>,\n",
       " <paramiko.ChannelFile from <paramiko.Channel 0 (open) window=2097152 -> <paramiko.Transport at 0x7c9a9710L (cipher aes128-ctr, 128 bits) (active; 1 open channel(s))>>>,\n",
       " <paramiko.ChannelFile from <paramiko.Channel 0 (open) window=2097152 -> <paramiko.Transport at 0x7c9a9710L (cipher aes128-ctr, 128 bits) (active; 1 open channel(s))>>>)"
      ]
     },
     "execution_count": 28,
     "metadata": {},
     "output_type": "execute_result"
    }
   ],
   "source": [
    "ssh.exec_command(\"mkdir folder1\")"
   ]
  },
  {
   "cell_type": "code",
   "execution_count": 29,
   "metadata": {
    "collapsed": true
   },
   "outputs": [],
   "source": [
    "inp, outp, errp = ssh.exec_command(\"mkdir folder1\")"
   ]
  },
  {
   "cell_type": "code",
   "execution_count": 30,
   "metadata": {},
   "outputs": [
    {
     "data": {
      "text/plain": [
       "'mkdir: cannot create directory \\xe2\\x80\\x98folder1\\xe2\\x80\\x99: File exists\\n'"
      ]
     },
     "execution_count": 30,
     "metadata": {},
     "output_type": "execute_result"
    }
   ],
   "source": [
    "errp.read()"
   ]
  },
  {
   "cell_type": "code",
   "execution_count": 31,
   "metadata": {},
   "outputs": [
    {
     "data": {
      "text/plain": [
       "(<paramiko.ChannelFile from <paramiko.Channel 2 (closed) -> <paramiko.Transport at 0x7c9a9710L (cipher aes128-ctr, 128 bits) (active; 0 open channel(s))>>>,\n",
       " <paramiko.ChannelFile from <paramiko.Channel 2 (closed) -> <paramiko.Transport at 0x7c9a9710L (cipher aes128-ctr, 128 bits) (active; 0 open channel(s))>>>,\n",
       " <paramiko.ChannelFile from <paramiko.Channel 2 (closed) -> <paramiko.Transport at 0x7c9a9710L (cipher aes128-ctr, 128 bits) (active; 0 open channel(s))>>>)"
      ]
     },
     "execution_count": 31,
     "metadata": {},
     "output_type": "execute_result"
    }
   ],
   "source": [
    "ssh.exec_command(\"rm -r folder1\")"
   ]
  },
  {
   "cell_type": "code",
   "execution_count": 32,
   "metadata": {
    "collapsed": true
   },
   "outputs": [],
   "source": [
    "inp, outp, errp = ssh.exec_command(\"mkdir local\")"
   ]
  },
  {
   "cell_type": "code",
   "execution_count": 33,
   "metadata": {
    "collapsed": true
   },
   "outputs": [],
   "source": [
    "inp, outp, errp = ssh.exec_command(\"mkdir remote\")"
   ]
  },
  {
   "cell_type": "code",
   "execution_count": 34,
   "metadata": {
    "collapsed": true
   },
   "outputs": [],
   "source": [
    "inp, outp, errp = ssh.exec_command(\"echo %s|sudo -S ls /proc\"%pwd)"
   ]
  },
  {
   "cell_type": "code",
   "execution_count": 35,
   "metadata": {},
   "outputs": [
    {
     "data": {
      "text/plain": [
       "'1\\n10\\n10417\\n11\\n113\\n114\\n115\\n11734\\n12\\n12089\\n12092\\n12093\\n1215\\n12161\\n12162\\n1233\\n1243\\n12439\\n12501\\n12748\\n13\\n13121\\n13162\\n13164\\n13168\\n13169\\n13844\\n13871\\n14\\n15\\n1507\\n1528\\n1531\\n1538\\n154\\n1558\\n1563\\n16\\n163\\n164\\n165\\n167\\n17\\n1761\\n1790\\n1795\\n18\\n1806\\n1833\\n1837\\n1879\\n188\\n189\\n19\\n1924\\n1926\\n1935\\n1936\\n1942\\n1947\\n1967\\n1992\\n1997\\n1999\\n2\\n20\\n2003\\n2007\\n2009\\n2018\\n2026\\n2028\\n2042\\n2044\\n2060\\n21\\n22\\n2209\\n2229\\n2236\\n2261\\n2262\\n2264\\n228\\n23\\n230\\n2307\\n2308\\n2324\\n2350\\n2360\\n2369\\n2379\\n2382\\n2386\\n2392\\n2393\\n2394\\n2397\\n2398\\n24\\n2409\\n2444\\n2454\\n2466\\n2471\\n2473\\n2474\\n2475\\n2496\\n25\\n250\\n2513\\n2516\\n2534\\n2538\\n2542\\n2547\\n2555\\n2557\\n2571\\n2573\\n2589\\n26\\n2641\\n2688\\n2695\\n2699\\n27\\n2707\\n2791\\n28\\n2878\\n2883\\n3\\n3000\\n30387\\n30902\\n32\\n33\\n3335\\n34\\n345\\n5\\n5053\\n5189\\n5201\\n5202\\n534\\n581\\n582\\n598\\n599\\n609\\n610\\n615\\n621\\n635\\n638\\n661\\n679\\n685\\n7\\n7212\\n722\\n73\\n74\\n75\\n751\\n76\\n77\\n78\\n79\\n8\\n80\\n81\\n82\\n8277\\n83\\n835\\n837\\n84\\n845\\n85\\n86\\n884\\n8998\\n9\\n902\\n903\\n904\\n905\\n906\\n907\\n92\\n9421\\n950\\n954\\n9637\\n9646\\n9667\\n9668\\n9685\\n9855\\nacpi\\nasound\\nbuddyinfo\\nbus\\ncgroups\\ncmdline\\nconsoles\\ncpuinfo\\ncrypto\\ndevices\\ndiskstats\\ndma\\ndriver\\nexecdomains\\nfb\\nfilesystems\\nfs\\ninterrupts\\niomem\\nioports\\nirq\\nkallsyms\\nkcore\\nkeys\\nkey-users\\nkmsg\\nkpagecgroup\\nkpagecount\\nkpageflags\\nloadavg\\nlocks\\nmdstat\\nmeminfo\\nmisc\\nmodules\\nmounts\\nmtrr\\nnet\\npagetypeinfo\\npartitions\\nsched_debug\\nschedstat\\nscsi\\nself\\nslabinfo\\nsoftirqs\\nstat\\nswaps\\nsys\\nsysrq-trigger\\nsysvipc\\nthread-self\\ntimer_list\\ntimer_stats\\ntty\\nuptime\\nversion\\nversion_signature\\nvmallocinfo\\nvmstat\\nzoneinfo\\n'"
      ]
     },
     "execution_count": 35,
     "metadata": {},
     "output_type": "execute_result"
    }
   ],
   "source": [
    "outp.read()"
   ]
  },
  {
   "cell_type": "code",
   "execution_count": 36,
   "metadata": {
    "collapsed": true
   },
   "outputs": [],
   "source": [
    "sftp = ssh.open_sftp()"
   ]
  },
  {
   "cell_type": "code",
   "execution_count": 37,
   "metadata": {},
   "outputs": [
    {
     "data": {
      "text/plain": [
       "<SFTPAttributes: [ size=22 uid=1000 gid=1000 mode=0100664 atime=1534990991 mtime=1534990991 ]>"
      ]
     },
     "execution_count": 37,
     "metadata": {},
     "output_type": "execute_result"
    }
   ],
   "source": [
    "sftp.put(\"/home/khyaathi-python/local/a.py\",\"/home/khyaathi-python/remote/a.py\")"
   ]
  },
  {
   "cell_type": "code",
   "execution_count": 38,
   "metadata": {
    "collapsed": true
   },
   "outputs": [],
   "source": [
    "sftp.get(\"/home/khyaathi-python/remote/a.py\",\"/home/khyaathi-python/local/a1.py\")"
   ]
  },
  {
   "cell_type": "code",
   "execution_count": null,
   "metadata": {
    "collapsed": true
   },
   "outputs": [],
   "source": []
  }
 ],
 "metadata": {
  "kernelspec": {
   "display_name": "Python 2",
   "language": "python",
   "name": "python2"
  },
  "language_info": {
   "codemirror_mode": {
    "name": "ipython",
    "version": 2
   },
   "file_extension": ".py",
   "mimetype": "text/x-python",
   "name": "python",
   "nbconvert_exporter": "python",
   "pygments_lexer": "ipython2",
   "version": "2.7.14"
  }
 },
 "nbformat": 4,
 "nbformat_minor": 2
}
